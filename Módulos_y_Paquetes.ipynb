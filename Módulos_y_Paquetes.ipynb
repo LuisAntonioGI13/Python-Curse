{
  "nbformat": 4,
  "nbformat_minor": 0,
  "metadata": {
    "colab": {
      "provenance": [],
      "authorship_tag": "ABX9TyM6i9bBY6+3vZ2Jj3qUDc+b",
      "include_colab_link": true
    },
    "kernelspec": {
      "name": "python3",
      "display_name": "Python 3"
    },
    "language_info": {
      "name": "python"
    }
  },
  "cells": [
    {
      "cell_type": "markdown",
      "metadata": {
        "id": "view-in-github",
        "colab_type": "text"
      },
      "source": [
        "<a href=\"https://colab.research.google.com/github/LuisAntonioGI13/Python-Curse/blob/main/M%C3%B3dulos_y_Paquetes.ipynb\" target=\"_parent\"><img src=\"https://colab.research.google.com/assets/colab-badge.svg\" alt=\"Open In Colab\"/></a>"
      ]
    },
    {
      "cell_type": "markdown",
      "source": [
        "#Módulos y Paquetes"
      ],
      "metadata": {
        "id": "xQSmKUGeKCLB"
      }
    },
    {
      "cell_type": "markdown",
      "source": [
        "###Módulo **collections**\n",
        "\n",
        "El módulo integrado de colecciones nos proveé otros tipos o mejoras de las colecciones clásicas.\n",
        "\n",
        "####Contadores\n",
        "\n",
        "La clase **Counter** es una subclase de diccionario utilizada para realizar cuentas:"
      ],
      "metadata": {
        "id": "onvuWxM4i0ik"
      }
    },
    {
      "cell_type": "code",
      "source": [
        "from collections import Counter\n",
        "\n",
        "l = [1,2,3,4,1,2,3,1,2,1]\n",
        "Counter(l)"
      ],
      "metadata": {
        "colab": {
          "base_uri": "https://localhost:8080/"
        },
        "id": "hb7UXGv8ik4-",
        "outputId": "16e22eb1-ecbd-4b0c-d41c-271106784118"
      },
      "execution_count": 1,
      "outputs": [
        {
          "output_type": "execute_result",
          "data": {
            "text/plain": [
              "Counter({1: 4, 2: 3, 3: 2, 4: 1})"
            ]
          },
          "metadata": {},
          "execution_count": 1
        }
      ]
    },
    {
      "cell_type": "code",
      "source": [
        "Counter(\"palabra\")"
      ],
      "metadata": {
        "colab": {
          "base_uri": "https://localhost:8080/"
        },
        "id": "TOE31sKujIPF",
        "outputId": "c1b874d5-bee4-4eb5-a212-49a62d278a6f"
      },
      "execution_count": 2,
      "outputs": [
        {
          "output_type": "execute_result",
          "data": {
            "text/plain": [
              "Counter({'p': 1, 'a': 3, 'l': 1, 'b': 1, 'r': 1})"
            ]
          },
          "metadata": {},
          "execution_count": 2
        }
      ]
    },
    {
      "cell_type": "code",
      "source": [
        "animales = \"gato perro canario perro canario perro\"\n",
        "c = Counter(animales.split())\n",
        "print(c)"
      ],
      "metadata": {
        "colab": {
          "base_uri": "https://localhost:8080/"
        },
        "id": "pXVMTYZvkR2g",
        "outputId": "786ec64f-5645-499d-8804-b079df43bc37"
      },
      "execution_count": 3,
      "outputs": [
        {
          "output_type": "stream",
          "name": "stdout",
          "text": [
            "Counter({'perro': 3, 'canario': 2, 'gato': 1})\n"
          ]
        }
      ]
    },
    {
      "cell_type": "code",
      "source": [
        "Counter(animales)"
      ],
      "metadata": {
        "colab": {
          "base_uri": "https://localhost:8080/"
        },
        "id": "MAxfKHGBk1FA",
        "outputId": "6eef6672-c1ea-4a60-96e5-abb143f93cf7"
      },
      "execution_count": 5,
      "outputs": [
        {
          "output_type": "execute_result",
          "data": {
            "text/plain": [
              "Counter({'g': 1,\n",
              "         'a': 5,\n",
              "         't': 1,\n",
              "         'o': 6,\n",
              "         ' ': 5,\n",
              "         'p': 3,\n",
              "         'e': 3,\n",
              "         'r': 8,\n",
              "         'c': 2,\n",
              "         'n': 2,\n",
              "         'i': 2})"
            ]
          },
          "metadata": {},
          "execution_count": 5
        }
      ]
    },
    {
      "cell_type": "code",
      "source": [
        "animales = \"gato perro canario perro canario perro\"\n",
        "c = Counter(animales.split())\n",
        "\n",
        "print(c.most_common(1))  # Primeros elemento más repetido\n",
        "print(c.most_common(2))  # Primeros dos elementos más repetidos\n",
        "print(c.most_common())   # Elementos ordenadores por repeticiones"
      ],
      "metadata": {
        "colab": {
          "base_uri": "https://localhost:8080/"
        },
        "id": "W0VzzdiGkgi1",
        "outputId": "d53a909b-4dc4-4b9c-a035-4462c66b4c6e"
      },
      "execution_count": 4,
      "outputs": [
        {
          "output_type": "stream",
          "name": "stdout",
          "text": [
            "[('perro', 3)]\n",
            "[('perro', 3), ('canario', 2)]\n",
            "[('perro', 3), ('canario', 2), ('gato', 1)]\n"
          ]
        }
      ]
    },
    {
      "cell_type": "code",
      "source": [
        "l = [10,20,30,40,10,20,30,10,20,10]\n",
        "c = Counter(l)\n",
        "\n",
        "print(c.items())        # Registros del contador por clave-valor\n",
        "print(c.keys())         # Registros del contador por clave\n",
        "print(c.values())       # Registros del contador por valor\n",
        "\n",
        "print(sum(c.values()))  # Suma total de elementos del contador\n",
        "\n",
        "print(list(c))          # Conversión a lista\n",
        "print(dict(c))          # Conversión a diccionario\n",
        "print(set(c))           # Conversión a conjunto"
      ],
      "metadata": {
        "colab": {
          "base_uri": "https://localhost:8080/"
        },
        "id": "FSEM4fKElH4P",
        "outputId": "1c7cea52-6405-4c6b-ff1d-a58637e6ed86"
      },
      "execution_count": 6,
      "outputs": [
        {
          "output_type": "stream",
          "name": "stdout",
          "text": [
            "dict_items([(10, 4), (20, 3), (30, 2), (40, 1)])\n",
            "dict_keys([10, 20, 30, 40])\n",
            "dict_values([4, 3, 2, 1])\n",
            "10\n",
            "[10, 20, 30, 40]\n",
            "{10: 4, 20: 3, 30: 2, 40: 1}\n",
            "{40, 10, 20, 30}\n"
          ]
        }
      ]
    },
    {
      "cell_type": "code",
      "source": [
        "c"
      ],
      "metadata": {
        "colab": {
          "base_uri": "https://localhost:8080/"
        },
        "id": "8fVPQEdulO4b",
        "outputId": "808ecc12-918a-42e3-cbfb-b4b492af7bd0"
      },
      "execution_count": 7,
      "outputs": [
        {
          "output_type": "execute_result",
          "data": {
            "text/plain": [
              "Counter({10: 4, 20: 3, 30: 2, 40: 1})"
            ]
          },
          "metadata": {},
          "execution_count": 7
        }
      ]
    },
    {
      "cell_type": "markdown",
      "source": [
        "####Diccionarios por defecto\n",
        "\n",
        "La clase **defaultdict** se utilizan para crear diccionarios con un valor por defecto aunque el registro no haya sido definido anteriormente. Para ello hay que indicar un tipo de dato por defecto al diccionario:"
      ],
      "metadata": {
        "id": "qN3_IcD3maLz"
      }
    },
    {
      "cell_type": "code",
      "source": [
        "from collections import defaultdict\n",
        "\n",
        "d = defaultdict(float)  # tipo flotante por defecto\n",
        "print(d['algo'])\n",
        "print(d)"
      ],
      "metadata": {
        "colab": {
          "base_uri": "https://localhost:8080/"
        },
        "id": "3xaz1kMRlPsX",
        "outputId": "cc2305d3-8889-4d27-e061-7c02044df77a"
      },
      "execution_count": 8,
      "outputs": [
        {
          "output_type": "stream",
          "name": "stdout",
          "text": [
            "0.0\n",
            "defaultdict(<class 'float'>, {'algo': 0.0})\n"
          ]
        }
      ]
    },
    {
      "cell_type": "code",
      "source": [
        "d = defaultdict(str)  # tipo cadena por defecto\n",
        "print(d['algo'])\n",
        "print(d)"
      ],
      "metadata": {
        "colab": {
          "base_uri": "https://localhost:8080/"
        },
        "id": "IJkY-IoJmmNl",
        "outputId": "0795a209-ec48-49bd-8949-a92d1857380c"
      },
      "execution_count": 9,
      "outputs": [
        {
          "output_type": "stream",
          "name": "stdout",
          "text": [
            "\n",
            "defaultdict(<class 'str'>, {'algo': ''})\n"
          ]
        }
      ]
    },
    {
      "cell_type": "code",
      "source": [
        "d = defaultdict(object)  # tipo objeto por defecto\n",
        "print(d['algo'])\n",
        "print(d)"
      ],
      "metadata": {
        "colab": {
          "base_uri": "https://localhost:8080/"
        },
        "id": "02Ds6csdmqwT",
        "outputId": "72757caa-0864-4378-e61b-7515b98454e4"
      },
      "execution_count": 10,
      "outputs": [
        {
          "output_type": "stream",
          "name": "stdout",
          "text": [
            "<object object at 0x7e54b0c7bd30>\n",
            "defaultdict(<class 'object'>, {'algo': <object object at 0x7e54b0c7bd30>})\n"
          ]
        }
      ]
    },
    {
      "cell_type": "markdown",
      "source": [
        "####Diccionarios ordenados\n",
        "\n",
        "La clase **OrderedDict** es otra subclase de diccionario, pero esta vez con la capacidad de conservar el orden en que añadimos los registros"
      ],
      "metadata": {
        "id": "QB-JvUV1m1Sp"
      }
    },
    {
      "cell_type": "code",
      "source": [
        "from collections import OrderedDict\n",
        "\n",
        "n = OrderedDict()\n",
        "n['uno'] = 'one'\n",
        "n['dos'] = 'two'\n",
        "n['tres'] = 'three'\n",
        "\n",
        "print(n)"
      ],
      "metadata": {
        "colab": {
          "base_uri": "https://localhost:8080/"
        },
        "id": "xZAqrXr4mw0K",
        "outputId": "203c642c-5a8f-4464-dab0-bda471c34d06"
      },
      "execution_count": 11,
      "outputs": [
        {
          "output_type": "stream",
          "name": "stdout",
          "text": [
            "OrderedDict([('uno', 'one'), ('dos', 'two'), ('tres', 'three')])\n"
          ]
        }
      ]
    },
    {
      "cell_type": "code",
      "source": [
        "#El siguiente experimento permite comprobar como los diccionarios normales cambian el orden automáticamente.\n",
        "\n",
        "#Dos diccionarios normales con los mismos elementos en orden distinto\n",
        "\n",
        "n1 = {}\n",
        "n1['uno'] = 'one'\n",
        "n1['dos'] = 'two'\n",
        "\n",
        "n2 = {}\n",
        "n2['dos'] = 'two'\n",
        "n2['uno'] = 'one'\n",
        "\n",
        "# ¿Tienen los mismos elementos y en el mismo orden?\n",
        "print(n1 == n2)"
      ],
      "metadata": {
        "colab": {
          "base_uri": "https://localhost:8080/"
        },
        "id": "cuatKYZXnLir",
        "outputId": "b5651998-9357-47cc-d9bc-80db3e8fe633"
      },
      "execution_count": 12,
      "outputs": [
        {
          "output_type": "stream",
          "name": "stdout",
          "text": [
            "True\n"
          ]
        }
      ]
    },
    {
      "cell_type": "markdown",
      "source": [
        "####Tuplas con nombre\n",
        "\n",
        "La subclase **namedtuple** es utilizada para crear pequeñas estructuras inmutables, parecidas a una clase y sus objetos, pero mucho más simples"
      ],
      "metadata": {
        "id": "jDUqcLZNnYM7"
      }
    },
    {
      "cell_type": "code",
      "source": [
        "from collections import namedtuple\n",
        "\n",
        "Persona = namedtuple('Persona','nombre apellido edad')\n",
        "p = Persona(nombre=\"Hector\",apellido=\"Costa\",edad=27)\n",
        "\n",
        "print(p)\n",
        "\n",
        "# Podemos acceder a los elementos como si fueran atributos de un objeto\n",
        "print(p.nombre)\n",
        "print(p.edad)\n",
        "\n",
        "# O utilizando índices como con las tuplas clásicas\n",
        "print(p[0])\n",
        "print(p[-1])"
      ],
      "metadata": {
        "colab": {
          "base_uri": "https://localhost:8080/"
        },
        "id": "s4LXEQB6nd4E",
        "outputId": "cfda560a-56c9-4fb7-8200-894e1c4cc769"
      },
      "execution_count": 13,
      "outputs": [
        {
          "output_type": "stream",
          "name": "stdout",
          "text": [
            "Persona(nombre='Hector', apellido='Costa', edad=27)\n",
            "Hector\n",
            "27\n",
            "Hector\n",
            "27\n"
          ]
        }
      ]
    },
    {
      "cell_type": "markdown",
      "source": [
        "###Módulo datetime\n",
        "\n",
        "Este módulo contiene las clases time y datetime esenciales para manejar tiempo, horas y fechas.\n",
        "\n",
        "####Clase datetime\n",
        "\n",
        "Esta clase permite crear objetos para manejar fechas y horas"
      ],
      "metadata": {
        "id": "L4VFtQUcnxkr"
      }
    },
    {
      "cell_type": "code",
      "source": [
        "from datetime import datetime\n",
        "import pytz\n",
        "\n",
        "# Obtiene la hora local en la zona horaria de América/México_City\n",
        "zona_horaria_mexico = pytz.timezone('America/Mexico_City')\n",
        "\n",
        "\n",
        "hora_local = datetime.now(zona_horaria_mexico)\n",
        "dt = datetime.now(zona_horaria_mexico)    # Fecha y hora actual\n",
        "\n",
        "print(dt)\n",
        "print(dt.year)         # año\n",
        "print(dt.month)        # mes\n",
        "print(dt.day)          # día\n",
        "\n",
        "print(dt.hour)         # hora\n",
        "print(dt.minute)       # minutos\n",
        "print(dt.second)       # segundos\n",
        "print(dt.microsecond)  # microsegundos\n",
        "\n",
        "print(\"{}:{}:{}\".format(dt.hour, dt.minute, dt.second))\n",
        "print(\"{}/{}/{}\".format(dt.day, dt.month, dt.year))"
      ],
      "metadata": {
        "colab": {
          "base_uri": "https://localhost:8080/"
        },
        "id": "cU-ik-0lniB1",
        "outputId": "8b3d10c7-2e73-4a09-fc2d-9726d18798aa"
      },
      "execution_count": 34,
      "outputs": [
        {
          "output_type": "stream",
          "name": "stdout",
          "text": [
            "2023-10-25 16:57:21.910662-06:00\n",
            "2023\n",
            "10\n",
            "25\n",
            "16\n",
            "57\n",
            "21\n",
            "910662\n",
            "16:57:21\n",
            "25/10/2023\n"
          ]
        }
      ]
    },
    {
      "cell_type": "code",
      "source": [
        "dt"
      ],
      "metadata": {
        "colab": {
          "base_uri": "https://localhost:8080/"
        },
        "id": "hDiGVAiWC6kJ",
        "outputId": "943acea5-7bc5-4b38-f343-bd9dbee23ee2"
      },
      "execution_count": 21,
      "outputs": [
        {
          "output_type": "execute_result",
          "data": {
            "text/plain": [
              "datetime.datetime(2023, 10, 25, 15, 2, 9, 743991, tzinfo=<DstTzInfo 'America/Mexico_City' CST-1 day, 18:00:00 STD>)"
            ]
          },
          "metadata": {},
          "execution_count": 21
        }
      ]
    },
    {
      "cell_type": "code",
      "source": [
        "dt.hour"
      ],
      "metadata": {
        "colab": {
          "base_uri": "https://localhost:8080/"
        },
        "id": "LHtBkg-aC72b",
        "outputId": "5e9a704b-d8b4-4965-bce1-b668aa0ae851"
      },
      "execution_count": 26,
      "outputs": [
        {
          "output_type": "execute_result",
          "data": {
            "text/plain": [
              "16"
            ]
          },
          "metadata": {},
          "execution_count": 26
        }
      ]
    },
    {
      "cell_type": "code",
      "source": [
        "#Es posible crear un datetime manualmente pasando los parámetros (year, month, day, hour=0, minute=0, second=0, microsecond=0, tzinfo=None).\n",
        "#Sólo son obligatorios el año, el mes y el día.\n",
        "\n",
        "from datetime import datetime\n",
        "\n",
        "dt_m = datetime(2000,1,1)\n",
        "print(dt_m)\n"
      ],
      "metadata": {
        "colab": {
          "base_uri": "https://localhost:8080/"
        },
        "id": "l9LBRZldDVCJ",
        "outputId": "6d3598d0-d89f-4e9e-a2ff-28e6adc90196"
      },
      "execution_count": 35,
      "outputs": [
        {
          "output_type": "stream",
          "name": "stdout",
          "text": [
            "2000-01-01 00:00:00\n"
          ]
        }
      ]
    },
    {
      "cell_type": "code",
      "source": [
        "dt_m.year = 3000"
      ],
      "metadata": {
        "colab": {
          "base_uri": "https://localhost:8080/",
          "height": 175
        },
        "id": "HGt3kM9JDrvh",
        "outputId": "24937cb3-8948-4d4d-caf9-d00bf80d656b"
      },
      "execution_count": 36,
      "outputs": [
        {
          "output_type": "error",
          "ename": "AttributeError",
          "evalue": "ignored",
          "traceback": [
            "\u001b[0;31m---------------------------------------------------------------------------\u001b[0m",
            "\u001b[0;31mAttributeError\u001b[0m                            Traceback (most recent call last)",
            "\u001b[0;32m<ipython-input-36-65b9894b83ab>\u001b[0m in \u001b[0;36m<cell line: 1>\u001b[0;34m()\u001b[0m\n\u001b[0;32m----> 1\u001b[0;31m \u001b[0mdt_m\u001b[0m\u001b[0;34m.\u001b[0m\u001b[0myear\u001b[0m \u001b[0;34m=\u001b[0m \u001b[0;36m3000\u001b[0m\u001b[0;34m\u001b[0m\u001b[0;34m\u001b[0m\u001b[0m\n\u001b[0m",
            "\u001b[0;31mAttributeError\u001b[0m: attribute 'year' of 'datetime.date' objects is not writable"
          ]
        }
      ]
    },
    {
      "cell_type": "code",
      "source": [
        "dt_m.replace(year=3000)"
      ],
      "metadata": {
        "colab": {
          "base_uri": "https://localhost:8080/"
        },
        "id": "Yf9-rPy8HraD",
        "outputId": "f3d44298-6ea6-42fe-8f2b-30d236b11128"
      },
      "execution_count": 37,
      "outputs": [
        {
          "output_type": "execute_result",
          "data": {
            "text/plain": [
              "datetime.datetime(3000, 1, 1, 0, 0)"
            ]
          },
          "metadata": {},
          "execution_count": 37
        }
      ]
    },
    {
      "cell_type": "markdown",
      "source": [
        "###Formateos\n",
        "\n",
        "Formato automático ISO (Organización Internacional de Normalización)"
      ],
      "metadata": {
        "id": "DNJQYV-NH2MY"
      }
    },
    {
      "cell_type": "code",
      "source": [
        "dt = datetime.now()\n",
        "print(dt.isoformat())"
      ],
      "metadata": {
        "colab": {
          "base_uri": "https://localhost:8080/"
        },
        "id": "bLafE3CfHyFM",
        "outputId": "289d48da-0891-4bd1-d4e7-ae33034892f3"
      },
      "execution_count": 40,
      "outputs": [
        {
          "output_type": "stream",
          "name": "stdout",
          "text": [
            "2023-10-25T23:22:14.962868\n"
          ]
        }
      ]
    },
    {
      "cell_type": "code",
      "source": [
        "dt.strftime(\"%A %d %B %Y %I:%M\")"
      ],
      "metadata": {
        "colab": {
          "base_uri": "https://localhost:8080/",
          "height": 35
        },
        "id": "sUNkoPd_IAPi",
        "outputId": "ccb68611-349d-437b-e261-383049521f48"
      },
      "execution_count": 53,
      "outputs": [
        {
          "output_type": "execute_result",
          "data": {
            "text/plain": [
              "'Wednesday 25 October 2023 11:33'"
            ],
            "application/vnd.google.colaboratory.intrinsic+json": {
              "type": "string"
            }
          },
          "metadata": {},
          "execution_count": 53
        }
      ]
    },
    {
      "cell_type": "markdown",
      "source": [
        "###Operaciones\n",
        "\n",
        "Podemos sumar y restar tiempo con la función timedelta()\n",
        "\n",
        "\n"
      ],
      "metadata": {
        "id": "ETJBJQYPL23t"
      }
    },
    {
      "cell_type": "code",
      "source": [
        "from datetime import datetime, timedelta\n",
        "\n",
        "dt = datetime.now()\n",
        "print(dt.strftime(\"%A %d de %B del %Y - %H:%M\"))\n",
        "\n",
        "# Generamos 14 días con 4 horas y 1000 segundos de tiempo\n",
        "t = timedelta(days=14, hours=4, seconds=1000)\n",
        "\n",
        "# Lo operamos con el datetime de la fecha y hora actual\n",
        "dentro_de_dos_semanas = dt + t\n",
        "print(dentro_de_dos_semanas.strftime(\"%A %d de %B del %Y - %H:%M\"))\n",
        "hace_dos_semanas = dt - t\n",
        "print(hace_dos_semanas.strftime(\"%A %d de %B del %Y - %H:%M\"))"
      ],
      "metadata": {
        "colab": {
          "base_uri": "https://localhost:8080/"
        },
        "id": "_8f8U4iPLc-E",
        "outputId": "2a3275bd-c52f-4fd8-ef5c-4817be26f4be"
      },
      "execution_count": 49,
      "outputs": [
        {
          "output_type": "stream",
          "name": "stdout",
          "text": [
            "Wednesday 25 de October del 2023 - 23:33\n",
            "Thursday 09 de November del 2023 - 03:50\n",
            "Wednesday 11 de October del 2023 - 19:17\n"
          ]
        }
      ]
    },
    {
      "cell_type": "markdown",
      "source": [
        "###Zonas horarias\n",
        "\n",
        "Para establecer zonas horarias en nuestras fechas y horas necesitamos instalar el módulo pytz desde Anaconda Prompt"
      ],
      "metadata": {
        "id": "RCiWyeyzNoef"
      }
    },
    {
      "cell_type": "code",
      "source": [
        "pip install pytz"
      ],
      "metadata": {
        "colab": {
          "base_uri": "https://localhost:8080/"
        },
        "id": "vVrzowpWL_7d",
        "outputId": "7d1fa8e1-7358-4393-805a-aefe15c57090"
      },
      "execution_count": 57,
      "outputs": [
        {
          "output_type": "stream",
          "name": "stdout",
          "text": [
            "Requirement already satisfied: pytz in /usr/local/lib/python3.10/dist-packages (2023.3.post1)\n"
          ]
        }
      ]
    },
    {
      "cell_type": "code",
      "source": [
        "print(pytz.all_timezones)"
      ],
      "metadata": {
        "colab": {
          "base_uri": "https://localhost:8080/"
        },
        "id": "uTMRP6hSNxV9",
        "outputId": "461997ad-1be7-4f13-eecd-37028325665e"
      },
      "execution_count": 58,
      "outputs": [
        {
          "output_type": "stream",
          "name": "stdout",
          "text": [
            "['Africa/Abidjan', 'Africa/Accra', 'Africa/Addis_Ababa', 'Africa/Algiers', 'Africa/Asmara', 'Africa/Asmera', 'Africa/Bamako', 'Africa/Bangui', 'Africa/Banjul', 'Africa/Bissau', 'Africa/Blantyre', 'Africa/Brazzaville', 'Africa/Bujumbura', 'Africa/Cairo', 'Africa/Casablanca', 'Africa/Ceuta', 'Africa/Conakry', 'Africa/Dakar', 'Africa/Dar_es_Salaam', 'Africa/Djibouti', 'Africa/Douala', 'Africa/El_Aaiun', 'Africa/Freetown', 'Africa/Gaborone', 'Africa/Harare', 'Africa/Johannesburg', 'Africa/Juba', 'Africa/Kampala', 'Africa/Khartoum', 'Africa/Kigali', 'Africa/Kinshasa', 'Africa/Lagos', 'Africa/Libreville', 'Africa/Lome', 'Africa/Luanda', 'Africa/Lubumbashi', 'Africa/Lusaka', 'Africa/Malabo', 'Africa/Maputo', 'Africa/Maseru', 'Africa/Mbabane', 'Africa/Mogadishu', 'Africa/Monrovia', 'Africa/Nairobi', 'Africa/Ndjamena', 'Africa/Niamey', 'Africa/Nouakchott', 'Africa/Ouagadougou', 'Africa/Porto-Novo', 'Africa/Sao_Tome', 'Africa/Timbuktu', 'Africa/Tripoli', 'Africa/Tunis', 'Africa/Windhoek', 'America/Adak', 'America/Anchorage', 'America/Anguilla', 'America/Antigua', 'America/Araguaina', 'America/Argentina/Buenos_Aires', 'America/Argentina/Catamarca', 'America/Argentina/ComodRivadavia', 'America/Argentina/Cordoba', 'America/Argentina/Jujuy', 'America/Argentina/La_Rioja', 'America/Argentina/Mendoza', 'America/Argentina/Rio_Gallegos', 'America/Argentina/Salta', 'America/Argentina/San_Juan', 'America/Argentina/San_Luis', 'America/Argentina/Tucuman', 'America/Argentina/Ushuaia', 'America/Aruba', 'America/Asuncion', 'America/Atikokan', 'America/Atka', 'America/Bahia', 'America/Bahia_Banderas', 'America/Barbados', 'America/Belem', 'America/Belize', 'America/Blanc-Sablon', 'America/Boa_Vista', 'America/Bogota', 'America/Boise', 'America/Buenos_Aires', 'America/Cambridge_Bay', 'America/Campo_Grande', 'America/Cancun', 'America/Caracas', 'America/Catamarca', 'America/Cayenne', 'America/Cayman', 'America/Chicago', 'America/Chihuahua', 'America/Ciudad_Juarez', 'America/Coral_Harbour', 'America/Cordoba', 'America/Costa_Rica', 'America/Creston', 'America/Cuiaba', 'America/Curacao', 'America/Danmarkshavn', 'America/Dawson', 'America/Dawson_Creek', 'America/Denver', 'America/Detroit', 'America/Dominica', 'America/Edmonton', 'America/Eirunepe', 'America/El_Salvador', 'America/Ensenada', 'America/Fort_Nelson', 'America/Fort_Wayne', 'America/Fortaleza', 'America/Glace_Bay', 'America/Godthab', 'America/Goose_Bay', 'America/Grand_Turk', 'America/Grenada', 'America/Guadeloupe', 'America/Guatemala', 'America/Guayaquil', 'America/Guyana', 'America/Halifax', 'America/Havana', 'America/Hermosillo', 'America/Indiana/Indianapolis', 'America/Indiana/Knox', 'America/Indiana/Marengo', 'America/Indiana/Petersburg', 'America/Indiana/Tell_City', 'America/Indiana/Vevay', 'America/Indiana/Vincennes', 'America/Indiana/Winamac', 'America/Indianapolis', 'America/Inuvik', 'America/Iqaluit', 'America/Jamaica', 'America/Jujuy', 'America/Juneau', 'America/Kentucky/Louisville', 'America/Kentucky/Monticello', 'America/Knox_IN', 'America/Kralendijk', 'America/La_Paz', 'America/Lima', 'America/Los_Angeles', 'America/Louisville', 'America/Lower_Princes', 'America/Maceio', 'America/Managua', 'America/Manaus', 'America/Marigot', 'America/Martinique', 'America/Matamoros', 'America/Mazatlan', 'America/Mendoza', 'America/Menominee', 'America/Merida', 'America/Metlakatla', 'America/Mexico_City', 'America/Miquelon', 'America/Moncton', 'America/Monterrey', 'America/Montevideo', 'America/Montreal', 'America/Montserrat', 'America/Nassau', 'America/New_York', 'America/Nipigon', 'America/Nome', 'America/Noronha', 'America/North_Dakota/Beulah', 'America/North_Dakota/Center', 'America/North_Dakota/New_Salem', 'America/Nuuk', 'America/Ojinaga', 'America/Panama', 'America/Pangnirtung', 'America/Paramaribo', 'America/Phoenix', 'America/Port-au-Prince', 'America/Port_of_Spain', 'America/Porto_Acre', 'America/Porto_Velho', 'America/Puerto_Rico', 'America/Punta_Arenas', 'America/Rainy_River', 'America/Rankin_Inlet', 'America/Recife', 'America/Regina', 'America/Resolute', 'America/Rio_Branco', 'America/Rosario', 'America/Santa_Isabel', 'America/Santarem', 'America/Santiago', 'America/Santo_Domingo', 'America/Sao_Paulo', 'America/Scoresbysund', 'America/Shiprock', 'America/Sitka', 'America/St_Barthelemy', 'America/St_Johns', 'America/St_Kitts', 'America/St_Lucia', 'America/St_Thomas', 'America/St_Vincent', 'America/Swift_Current', 'America/Tegucigalpa', 'America/Thule', 'America/Thunder_Bay', 'America/Tijuana', 'America/Toronto', 'America/Tortola', 'America/Vancouver', 'America/Virgin', 'America/Whitehorse', 'America/Winnipeg', 'America/Yakutat', 'America/Yellowknife', 'Antarctica/Casey', 'Antarctica/Davis', 'Antarctica/DumontDUrville', 'Antarctica/Macquarie', 'Antarctica/Mawson', 'Antarctica/McMurdo', 'Antarctica/Palmer', 'Antarctica/Rothera', 'Antarctica/South_Pole', 'Antarctica/Syowa', 'Antarctica/Troll', 'Antarctica/Vostok', 'Arctic/Longyearbyen', 'Asia/Aden', 'Asia/Almaty', 'Asia/Amman', 'Asia/Anadyr', 'Asia/Aqtau', 'Asia/Aqtobe', 'Asia/Ashgabat', 'Asia/Ashkhabad', 'Asia/Atyrau', 'Asia/Baghdad', 'Asia/Bahrain', 'Asia/Baku', 'Asia/Bangkok', 'Asia/Barnaul', 'Asia/Beirut', 'Asia/Bishkek', 'Asia/Brunei', 'Asia/Calcutta', 'Asia/Chita', 'Asia/Choibalsan', 'Asia/Chongqing', 'Asia/Chungking', 'Asia/Colombo', 'Asia/Dacca', 'Asia/Damascus', 'Asia/Dhaka', 'Asia/Dili', 'Asia/Dubai', 'Asia/Dushanbe', 'Asia/Famagusta', 'Asia/Gaza', 'Asia/Harbin', 'Asia/Hebron', 'Asia/Ho_Chi_Minh', 'Asia/Hong_Kong', 'Asia/Hovd', 'Asia/Irkutsk', 'Asia/Istanbul', 'Asia/Jakarta', 'Asia/Jayapura', 'Asia/Jerusalem', 'Asia/Kabul', 'Asia/Kamchatka', 'Asia/Karachi', 'Asia/Kashgar', 'Asia/Kathmandu', 'Asia/Katmandu', 'Asia/Khandyga', 'Asia/Kolkata', 'Asia/Krasnoyarsk', 'Asia/Kuala_Lumpur', 'Asia/Kuching', 'Asia/Kuwait', 'Asia/Macao', 'Asia/Macau', 'Asia/Magadan', 'Asia/Makassar', 'Asia/Manila', 'Asia/Muscat', 'Asia/Nicosia', 'Asia/Novokuznetsk', 'Asia/Novosibirsk', 'Asia/Omsk', 'Asia/Oral', 'Asia/Phnom_Penh', 'Asia/Pontianak', 'Asia/Pyongyang', 'Asia/Qatar', 'Asia/Qostanay', 'Asia/Qyzylorda', 'Asia/Rangoon', 'Asia/Riyadh', 'Asia/Saigon', 'Asia/Sakhalin', 'Asia/Samarkand', 'Asia/Seoul', 'Asia/Shanghai', 'Asia/Singapore', 'Asia/Srednekolymsk', 'Asia/Taipei', 'Asia/Tashkent', 'Asia/Tbilisi', 'Asia/Tehran', 'Asia/Tel_Aviv', 'Asia/Thimbu', 'Asia/Thimphu', 'Asia/Tokyo', 'Asia/Tomsk', 'Asia/Ujung_Pandang', 'Asia/Ulaanbaatar', 'Asia/Ulan_Bator', 'Asia/Urumqi', 'Asia/Ust-Nera', 'Asia/Vientiane', 'Asia/Vladivostok', 'Asia/Yakutsk', 'Asia/Yangon', 'Asia/Yekaterinburg', 'Asia/Yerevan', 'Atlantic/Azores', 'Atlantic/Bermuda', 'Atlantic/Canary', 'Atlantic/Cape_Verde', 'Atlantic/Faeroe', 'Atlantic/Faroe', 'Atlantic/Jan_Mayen', 'Atlantic/Madeira', 'Atlantic/Reykjavik', 'Atlantic/South_Georgia', 'Atlantic/St_Helena', 'Atlantic/Stanley', 'Australia/ACT', 'Australia/Adelaide', 'Australia/Brisbane', 'Australia/Broken_Hill', 'Australia/Canberra', 'Australia/Currie', 'Australia/Darwin', 'Australia/Eucla', 'Australia/Hobart', 'Australia/LHI', 'Australia/Lindeman', 'Australia/Lord_Howe', 'Australia/Melbourne', 'Australia/NSW', 'Australia/North', 'Australia/Perth', 'Australia/Queensland', 'Australia/South', 'Australia/Sydney', 'Australia/Tasmania', 'Australia/Victoria', 'Australia/West', 'Australia/Yancowinna', 'Brazil/Acre', 'Brazil/DeNoronha', 'Brazil/East', 'Brazil/West', 'CET', 'CST6CDT', 'Canada/Atlantic', 'Canada/Central', 'Canada/Eastern', 'Canada/Mountain', 'Canada/Newfoundland', 'Canada/Pacific', 'Canada/Saskatchewan', 'Canada/Yukon', 'Chile/Continental', 'Chile/EasterIsland', 'Cuba', 'EET', 'EST', 'EST5EDT', 'Egypt', 'Eire', 'Etc/GMT', 'Etc/GMT+0', 'Etc/GMT+1', 'Etc/GMT+10', 'Etc/GMT+11', 'Etc/GMT+12', 'Etc/GMT+2', 'Etc/GMT+3', 'Etc/GMT+4', 'Etc/GMT+5', 'Etc/GMT+6', 'Etc/GMT+7', 'Etc/GMT+8', 'Etc/GMT+9', 'Etc/GMT-0', 'Etc/GMT-1', 'Etc/GMT-10', 'Etc/GMT-11', 'Etc/GMT-12', 'Etc/GMT-13', 'Etc/GMT-14', 'Etc/GMT-2', 'Etc/GMT-3', 'Etc/GMT-4', 'Etc/GMT-5', 'Etc/GMT-6', 'Etc/GMT-7', 'Etc/GMT-8', 'Etc/GMT-9', 'Etc/GMT0', 'Etc/Greenwich', 'Etc/UCT', 'Etc/UTC', 'Etc/Universal', 'Etc/Zulu', 'Europe/Amsterdam', 'Europe/Andorra', 'Europe/Astrakhan', 'Europe/Athens', 'Europe/Belfast', 'Europe/Belgrade', 'Europe/Berlin', 'Europe/Bratislava', 'Europe/Brussels', 'Europe/Bucharest', 'Europe/Budapest', 'Europe/Busingen', 'Europe/Chisinau', 'Europe/Copenhagen', 'Europe/Dublin', 'Europe/Gibraltar', 'Europe/Guernsey', 'Europe/Helsinki', 'Europe/Isle_of_Man', 'Europe/Istanbul', 'Europe/Jersey', 'Europe/Kaliningrad', 'Europe/Kiev', 'Europe/Kirov', 'Europe/Kyiv', 'Europe/Lisbon', 'Europe/Ljubljana', 'Europe/London', 'Europe/Luxembourg', 'Europe/Madrid', 'Europe/Malta', 'Europe/Mariehamn', 'Europe/Minsk', 'Europe/Monaco', 'Europe/Moscow', 'Europe/Nicosia', 'Europe/Oslo', 'Europe/Paris', 'Europe/Podgorica', 'Europe/Prague', 'Europe/Riga', 'Europe/Rome', 'Europe/Samara', 'Europe/San_Marino', 'Europe/Sarajevo', 'Europe/Saratov', 'Europe/Simferopol', 'Europe/Skopje', 'Europe/Sofia', 'Europe/Stockholm', 'Europe/Tallinn', 'Europe/Tirane', 'Europe/Tiraspol', 'Europe/Ulyanovsk', 'Europe/Uzhgorod', 'Europe/Vaduz', 'Europe/Vatican', 'Europe/Vienna', 'Europe/Vilnius', 'Europe/Volgograd', 'Europe/Warsaw', 'Europe/Zagreb', 'Europe/Zaporozhye', 'Europe/Zurich', 'GB', 'GB-Eire', 'GMT', 'GMT+0', 'GMT-0', 'GMT0', 'Greenwich', 'HST', 'Hongkong', 'Iceland', 'Indian/Antananarivo', 'Indian/Chagos', 'Indian/Christmas', 'Indian/Cocos', 'Indian/Comoro', 'Indian/Kerguelen', 'Indian/Mahe', 'Indian/Maldives', 'Indian/Mauritius', 'Indian/Mayotte', 'Indian/Reunion', 'Iran', 'Israel', 'Jamaica', 'Japan', 'Kwajalein', 'Libya', 'MET', 'MST', 'MST7MDT', 'Mexico/BajaNorte', 'Mexico/BajaSur', 'Mexico/General', 'NZ', 'NZ-CHAT', 'Navajo', 'PRC', 'PST8PDT', 'Pacific/Apia', 'Pacific/Auckland', 'Pacific/Bougainville', 'Pacific/Chatham', 'Pacific/Chuuk', 'Pacific/Easter', 'Pacific/Efate', 'Pacific/Enderbury', 'Pacific/Fakaofo', 'Pacific/Fiji', 'Pacific/Funafuti', 'Pacific/Galapagos', 'Pacific/Gambier', 'Pacific/Guadalcanal', 'Pacific/Guam', 'Pacific/Honolulu', 'Pacific/Johnston', 'Pacific/Kanton', 'Pacific/Kiritimati', 'Pacific/Kosrae', 'Pacific/Kwajalein', 'Pacific/Majuro', 'Pacific/Marquesas', 'Pacific/Midway', 'Pacific/Nauru', 'Pacific/Niue', 'Pacific/Norfolk', 'Pacific/Noumea', 'Pacific/Pago_Pago', 'Pacific/Palau', 'Pacific/Pitcairn', 'Pacific/Pohnpei', 'Pacific/Ponape', 'Pacific/Port_Moresby', 'Pacific/Rarotonga', 'Pacific/Saipan', 'Pacific/Samoa', 'Pacific/Tahiti', 'Pacific/Tarawa', 'Pacific/Tongatapu', 'Pacific/Truk', 'Pacific/Wake', 'Pacific/Wallis', 'Pacific/Yap', 'Poland', 'Portugal', 'ROC', 'ROK', 'Singapore', 'Turkey', 'UCT', 'US/Alaska', 'US/Aleutian', 'US/Arizona', 'US/Central', 'US/East-Indiana', 'US/Eastern', 'US/Hawaii', 'US/Indiana-Starke', 'US/Michigan', 'US/Mountain', 'US/Pacific', 'US/Samoa', 'UTC', 'Universal', 'W-SU', 'WET', 'Zulu']\n"
          ]
        }
      ]
    },
    {
      "cell_type": "code",
      "source": [
        "dt = datetime.now(pytz.timezone('Asia/Tokyo'))\n",
        "print(dt.strftime(\"%A %d de %B del %Y - %H:%M\"))  # %I 12h - %H 24h"
      ],
      "metadata": {
        "colab": {
          "base_uri": "https://localhost:8080/"
        },
        "id": "9MkSLIYKN1BH",
        "outputId": "087eedaf-4e70-49b3-f701-cb113661a38a"
      },
      "execution_count": 59,
      "outputs": [
        {
          "output_type": "stream",
          "name": "stdout",
          "text": [
            "Thursday 26 de October del 2023 - 08:42\n"
          ]
        }
      ]
    },
    {
      "cell_type": "markdown",
      "source": [
        "##Módulo **math**\n",
        "\n",
        "Este módulo contiene un buen puñado de funciones para manejar números, hacer redondeos, sumatorios precisos, truncamientos... además de constantes."
      ],
      "metadata": {
        "id": "dZGME84_N9N2"
      }
    },
    {
      "cell_type": "code",
      "source": [
        "#Redondeos\n",
        "\n",
        "import math\n",
        "\n",
        "print(math.floor(3.99))  # Redondeo a la baja (suelo)\n",
        "print(math.ceil(3.01))   # Redondeo al alta (techo)\n"
      ],
      "metadata": {
        "colab": {
          "base_uri": "https://localhost:8080/"
        },
        "id": "iOKvfTQxN3oS",
        "outputId": "a58ef706-a90c-41e8-ccb3-12717c50dc7d"
      },
      "execution_count": 60,
      "outputs": [
        {
          "output_type": "stream",
          "name": "stdout",
          "text": [
            "3\n",
            "4\n"
          ]
        }
      ]
    },
    {
      "cell_type": "code",
      "source": [
        "#Suma mejorada\n",
        "\n",
        "numeros = ([0.9999999, 1, 2, 3])\n",
        "math.fsum(numeros)"
      ],
      "metadata": {
        "colab": {
          "base_uri": "https://localhost:8080/"
        },
        "id": "Wky-Q40tOJQt",
        "outputId": "62274598-9f42-4709-ee1c-546a1fa7855f"
      },
      "execution_count": 62,
      "outputs": [
        {
          "output_type": "execute_result",
          "data": {
            "text/plain": [
              "6.9999999"
            ]
          },
          "metadata": {},
          "execution_count": 62
        }
      ]
    },
    {
      "cell_type": "code",
      "source": [
        "#Truncamiento\n",
        "\n",
        "math.trunc(123.45)"
      ],
      "metadata": {
        "colab": {
          "base_uri": "https://localhost:8080/"
        },
        "id": "J-S-9ERnOXl9",
        "outputId": "2812072c-8b48-42ea-abf3-7382ab3181ed"
      },
      "execution_count": 63,
      "outputs": [
        {
          "output_type": "execute_result",
          "data": {
            "text/plain": [
              "123"
            ]
          },
          "metadata": {},
          "execution_count": 63
        }
      ]
    },
    {
      "cell_type": "code",
      "source": [
        "#Potencias y raices\n",
        "\n",
        "print(math.pow(2, 3))  # Potencia con flotante\n",
        "print(math.sqrt(9))    # Raíz cuadrada (square root)"
      ],
      "metadata": {
        "colab": {
          "base_uri": "https://localhost:8080/"
        },
        "id": "hFZT0_hrOenq",
        "outputId": "3ffd78fe-e7dd-4ba7-d9eb-f883e81d3b4a"
      },
      "execution_count": 65,
      "outputs": [
        {
          "output_type": "stream",
          "name": "stdout",
          "text": [
            "8.0\n",
            "3.0\n"
          ]
        }
      ]
    },
    {
      "cell_type": "code",
      "source": [
        "#Constantes\n",
        "\n",
        "print(math.pi)  # Constante pi\n",
        "print(math.e)   # Constante e"
      ],
      "metadata": {
        "colab": {
          "base_uri": "https://localhost:8080/"
        },
        "id": "_40QVdPGOkfy",
        "outputId": "6b1c75ba-3aec-46ad-ffc6-3d5132824242"
      },
      "execution_count": 66,
      "outputs": [
        {
          "output_type": "stream",
          "name": "stdout",
          "text": [
            "3.141592653589793\n",
            "2.718281828459045\n"
          ]
        }
      ]
    },
    {
      "cell_type": "markdown",
      "source": [
        "##Módulo **Random**\n",
        "\n",
        "**Aleatoriedad**\n",
        "Este módulo contiene funciones para generar números aleatorios"
      ],
      "metadata": {
        "id": "a76gcGd7OyWV"
      }
    },
    {
      "cell_type": "code",
      "source": [
        "import random\n",
        "\n",
        "# Flotante aleatorio >= 0 y < 1.0\n",
        "print(random.random())\n",
        "\n",
        "# Flotante aleatorio >= 1 y <10.0\n",
        "print(random.uniform(1,10))\n",
        "\n",
        "# Entero aleatorio de 0 a 9, 10 excluído\n",
        "print(random.randrange(10))\n",
        "\n",
        "# Entero aleatorio de 0 a 100\n",
        "print(random.randrange(0,101))\n",
        "\n",
        "# Entero aleatorio de 0 a 100 cada 2 números, múltiples de 2\n",
        "print(random.randrange(0,101,2))\n",
        "\n",
        "# Entero aleatorio de 0 a 100 cada 5 números, múltiples de 5\n",
        "print(random.randrange(0,101,5))"
      ],
      "metadata": {
        "colab": {
          "base_uri": "https://localhost:8080/"
        },
        "id": "4ewvHpTsOvVK",
        "outputId": "2372868f-1456-4adf-bf92-c7175cbd893a"
      },
      "execution_count": 68,
      "outputs": [
        {
          "output_type": "stream",
          "name": "stdout",
          "text": [
            "0.2647064014630166\n",
            "5.239360320848465\n",
            "8\n",
            "64\n",
            "30\n",
            "95\n"
          ]
        }
      ]
    },
    {
      "cell_type": "code",
      "source": [
        "#Muestras\n",
        "\n",
        "# Letra aleatoria\n",
        "print(random.choice('Hola mundo'))\n",
        "\n",
        "# Elemento aleatorio\n",
        "print(random.choice([1,2,3,4,5]))\n",
        "\n",
        "# Dos elementos aleatorios\n",
        "print(random.sample([1,2,3,4,5], 2))"
      ],
      "metadata": {
        "colab": {
          "base_uri": "https://localhost:8080/"
        },
        "id": "QlVCoaVLO-eX",
        "outputId": "937dd67c-f433-455d-e983-7749358c06f5"
      },
      "execution_count": 70,
      "outputs": [
        {
          "output_type": "stream",
          "name": "stdout",
          "text": [
            "a\n",
            "3\n",
            "[5, 3]\n"
          ]
        }
      ]
    },
    {
      "cell_type": "code",
      "source": [
        "#Mezclas\n",
        "\n",
        "# Barajar una lista, queda guardado\n",
        "lista = [1,2,3,4,5]\n",
        "random.shuffle(lista)\n",
        "print(lista)"
      ],
      "metadata": {
        "colab": {
          "base_uri": "https://localhost:8080/"
        },
        "id": "-D-fsRCGPQQF",
        "outputId": "49b31c88-53ce-4355-e978-e4b581b4f309"
      },
      "execution_count": 71,
      "outputs": [
        {
          "output_type": "stream",
          "name": "stdout",
          "text": [
            "[3, 5, 1, 2, 4]\n"
          ]
        }
      ]
    },
    {
      "cell_type": "code",
      "source": [],
      "metadata": {
        "id": "ZBnwo3WOPcf7"
      },
      "execution_count": null,
      "outputs": []
    }
  ]
}