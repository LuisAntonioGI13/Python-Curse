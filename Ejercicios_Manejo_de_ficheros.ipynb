{
  "nbformat": 4,
  "nbformat_minor": 0,
  "metadata": {
    "colab": {
      "provenance": [],
      "authorship_tag": "ABX9TyP8to6BOsJzYErrOJ3iKJKn",
      "include_colab_link": true
    },
    "kernelspec": {
      "name": "python3",
      "display_name": "Python 3"
    },
    "language_info": {
      "name": "python"
    }
  },
  "cells": [
    {
      "cell_type": "markdown",
      "metadata": {
        "id": "view-in-github",
        "colab_type": "text"
      },
      "source": [
        "<a href=\"https://colab.research.google.com/github/LuisAntonioGI13/Python-Curse/blob/main/Ejercicios_Manejo_de_ficheros.ipynb\" target=\"_parent\"><img src=\"https://colab.research.google.com/assets/colab-badge.svg\" alt=\"Open In Colab\"/></a>"
      ]
    },
    {
      "cell_type": "markdown",
      "source": [
        "#Ejercicio 1\n",
        "\n",
        "En este ejercicio deberás crear un script llamado personas.py que lea los datos de un fichero de texto, que transforme cada fila en un diccionario y lo añada a una lista llamada personas. Luego rocorre las personas de la lista y paracada una muestra de forma amigable todos sus campos.\n",
        "\n",
        "El fichero de texto se denominará personas.txt y tendrá el siguiente contenido en texto plano (créalo previamente):\n",
        "\n",
        "\n",
        "\n",
        "```\n",
        "\n",
        "1;Carlos;Pérez;05/01/1989\n",
        "2;Manuel;Heredia;26/12/1973\n",
        "3;Rosa;Campos;12/06/1961\n",
        "4;David;García;25/07/2006\n",
        "\n",
        "```\n",
        "\n",
        "\n"
      ],
      "metadata": {
        "id": "so9eWOT6Lc6i"
      }
    },
    {
      "cell_type": "code",
      "execution_count": null,
      "metadata": {
        "colab": {
          "base_uri": "https://localhost:8080/",
          "height": 73
        },
        "id": "bMKorP8hLTT1",
        "outputId": "7ed459d7-b6e6-4ce6-cebf-392b49a3e1cc"
      },
      "outputs": [
        {
          "output_type": "display_data",
          "data": {
            "text/plain": [
              "<IPython.core.display.HTML object>"
            ],
            "text/html": [
              "\n",
              "     <input type=\"file\" id=\"files-cb9804d5-174a-43e6-94fc-69f669168941\" name=\"files[]\" multiple disabled\n",
              "        style=\"border:none\" />\n",
              "     <output id=\"result-cb9804d5-174a-43e6-94fc-69f669168941\">\n",
              "      Upload widget is only available when the cell has been executed in the\n",
              "      current browser session. Please rerun this cell to enable.\n",
              "      </output>\n",
              "      <script>// Copyright 2017 Google LLC\n",
              "//\n",
              "// Licensed under the Apache License, Version 2.0 (the \"License\");\n",
              "// you may not use this file except in compliance with the License.\n",
              "// You may obtain a copy of the License at\n",
              "//\n",
              "//      http://www.apache.org/licenses/LICENSE-2.0\n",
              "//\n",
              "// Unless required by applicable law or agreed to in writing, software\n",
              "// distributed under the License is distributed on an \"AS IS\" BASIS,\n",
              "// WITHOUT WARRANTIES OR CONDITIONS OF ANY KIND, either express or implied.\n",
              "// See the License for the specific language governing permissions and\n",
              "// limitations under the License.\n",
              "\n",
              "/**\n",
              " * @fileoverview Helpers for google.colab Python module.\n",
              " */\n",
              "(function(scope) {\n",
              "function span(text, styleAttributes = {}) {\n",
              "  const element = document.createElement('span');\n",
              "  element.textContent = text;\n",
              "  for (const key of Object.keys(styleAttributes)) {\n",
              "    element.style[key] = styleAttributes[key];\n",
              "  }\n",
              "  return element;\n",
              "}\n",
              "\n",
              "// Max number of bytes which will be uploaded at a time.\n",
              "const MAX_PAYLOAD_SIZE = 100 * 1024;\n",
              "\n",
              "function _uploadFiles(inputId, outputId) {\n",
              "  const steps = uploadFilesStep(inputId, outputId);\n",
              "  const outputElement = document.getElementById(outputId);\n",
              "  // Cache steps on the outputElement to make it available for the next call\n",
              "  // to uploadFilesContinue from Python.\n",
              "  outputElement.steps = steps;\n",
              "\n",
              "  return _uploadFilesContinue(outputId);\n",
              "}\n",
              "\n",
              "// This is roughly an async generator (not supported in the browser yet),\n",
              "// where there are multiple asynchronous steps and the Python side is going\n",
              "// to poll for completion of each step.\n",
              "// This uses a Promise to block the python side on completion of each step,\n",
              "// then passes the result of the previous step as the input to the next step.\n",
              "function _uploadFilesContinue(outputId) {\n",
              "  const outputElement = document.getElementById(outputId);\n",
              "  const steps = outputElement.steps;\n",
              "\n",
              "  const next = steps.next(outputElement.lastPromiseValue);\n",
              "  return Promise.resolve(next.value.promise).then((value) => {\n",
              "    // Cache the last promise value to make it available to the next\n",
              "    // step of the generator.\n",
              "    outputElement.lastPromiseValue = value;\n",
              "    return next.value.response;\n",
              "  });\n",
              "}\n",
              "\n",
              "/**\n",
              " * Generator function which is called between each async step of the upload\n",
              " * process.\n",
              " * @param {string} inputId Element ID of the input file picker element.\n",
              " * @param {string} outputId Element ID of the output display.\n",
              " * @return {!Iterable<!Object>} Iterable of next steps.\n",
              " */\n",
              "function* uploadFilesStep(inputId, outputId) {\n",
              "  const inputElement = document.getElementById(inputId);\n",
              "  inputElement.disabled = false;\n",
              "\n",
              "  const outputElement = document.getElementById(outputId);\n",
              "  outputElement.innerHTML = '';\n",
              "\n",
              "  const pickedPromise = new Promise((resolve) => {\n",
              "    inputElement.addEventListener('change', (e) => {\n",
              "      resolve(e.target.files);\n",
              "    });\n",
              "  });\n",
              "\n",
              "  const cancel = document.createElement('button');\n",
              "  inputElement.parentElement.appendChild(cancel);\n",
              "  cancel.textContent = 'Cancel upload';\n",
              "  const cancelPromise = new Promise((resolve) => {\n",
              "    cancel.onclick = () => {\n",
              "      resolve(null);\n",
              "    };\n",
              "  });\n",
              "\n",
              "  // Wait for the user to pick the files.\n",
              "  const files = yield {\n",
              "    promise: Promise.race([pickedPromise, cancelPromise]),\n",
              "    response: {\n",
              "      action: 'starting',\n",
              "    }\n",
              "  };\n",
              "\n",
              "  cancel.remove();\n",
              "\n",
              "  // Disable the input element since further picks are not allowed.\n",
              "  inputElement.disabled = true;\n",
              "\n",
              "  if (!files) {\n",
              "    return {\n",
              "      response: {\n",
              "        action: 'complete',\n",
              "      }\n",
              "    };\n",
              "  }\n",
              "\n",
              "  for (const file of files) {\n",
              "    const li = document.createElement('li');\n",
              "    li.append(span(file.name, {fontWeight: 'bold'}));\n",
              "    li.append(span(\n",
              "        `(${file.type || 'n/a'}) - ${file.size} bytes, ` +\n",
              "        `last modified: ${\n",
              "            file.lastModifiedDate ? file.lastModifiedDate.toLocaleDateString() :\n",
              "                                    'n/a'} - `));\n",
              "    const percent = span('0% done');\n",
              "    li.appendChild(percent);\n",
              "\n",
              "    outputElement.appendChild(li);\n",
              "\n",
              "    const fileDataPromise = new Promise((resolve) => {\n",
              "      const reader = new FileReader();\n",
              "      reader.onload = (e) => {\n",
              "        resolve(e.target.result);\n",
              "      };\n",
              "      reader.readAsArrayBuffer(file);\n",
              "    });\n",
              "    // Wait for the data to be ready.\n",
              "    let fileData = yield {\n",
              "      promise: fileDataPromise,\n",
              "      response: {\n",
              "        action: 'continue',\n",
              "      }\n",
              "    };\n",
              "\n",
              "    // Use a chunked sending to avoid message size limits. See b/62115660.\n",
              "    let position = 0;\n",
              "    do {\n",
              "      const length = Math.min(fileData.byteLength - position, MAX_PAYLOAD_SIZE);\n",
              "      const chunk = new Uint8Array(fileData, position, length);\n",
              "      position += length;\n",
              "\n",
              "      const base64 = btoa(String.fromCharCode.apply(null, chunk));\n",
              "      yield {\n",
              "        response: {\n",
              "          action: 'append',\n",
              "          file: file.name,\n",
              "          data: base64,\n",
              "        },\n",
              "      };\n",
              "\n",
              "      let percentDone = fileData.byteLength === 0 ?\n",
              "          100 :\n",
              "          Math.round((position / fileData.byteLength) * 100);\n",
              "      percent.textContent = `${percentDone}% done`;\n",
              "\n",
              "    } while (position < fileData.byteLength);\n",
              "  }\n",
              "\n",
              "  // All done.\n",
              "  yield {\n",
              "    response: {\n",
              "      action: 'complete',\n",
              "    }\n",
              "  };\n",
              "}\n",
              "\n",
              "scope.google = scope.google || {};\n",
              "scope.google.colab = scope.google.colab || {};\n",
              "scope.google.colab._files = {\n",
              "  _uploadFiles,\n",
              "  _uploadFilesContinue,\n",
              "};\n",
              "})(self);\n",
              "</script> "
            ]
          },
          "metadata": {}
        },
        {
          "output_type": "stream",
          "name": "stdout",
          "text": [
            "Saving personas.py to personas.py\n"
          ]
        }
      ],
      "source": [
        "#Para descargar el módulo persona.py en la siguiente liga: https://drive.google.com/file/d/1f2OjVipT66nc5o9ABPT9OqBpxntwqHWB/view?usp=sharing\n",
        "\n",
        "#Para descargar el módulo persona.txt en la siguiente liga: https://drive.google.com/file/d/1Fo_QCyXVdbG6fgz0ZxnpY1ZljqNlTzSt/view?usp=sharing\n",
        "\n",
        "from google.colab import files\n",
        "uploaded = files.upload()"
      ]
    },
    {
      "cell_type": "code",
      "source": [
        "!python personas.py"
      ],
      "metadata": {
        "colab": {
          "base_uri": "https://localhost:8080/"
        },
        "id": "hgpmdAt6aF-g",
        "outputId": "bef5384e-d160-45d2-abc6-95c0ddbd7b35"
      },
      "execution_count": null,
      "outputs": [
        {
          "output_type": "stream",
          "name": "stdout",
          "text": [
            "(id: 1) Carlos Pérez 05/01/1989\n",
            "(id: 2) Manuel Heredia 26/12/1973\n",
            "(id: 3) Rosa Campos 12/06/1961\n",
            "(id: 4) David García 25/07/2006\n"
          ]
        }
      ]
    },
    {
      "cell_type": "markdown",
      "source": [
        "#Ejercicio 2\n",
        "En este ejercicio deberás crear un script llamado contador.py que realice varias tareas sobre un fichero llamado contador.txt que almacenará un contador de visitas (será un número):\n",
        "\n",
        "* Nuestro script trabajará sobre el fichero contador.txt. Si el fichero no existe o está vacío lo crearemos con el número 0. Si existe simplemente leeremos el valor del contador.\n",
        "\n",
        "* Luego a partir de un argumento:\n",
        "  * Si se envía el argumento inc, se incrementará el contador en uno y se mostrará por pantalla.\n",
        "  * Si se envía el argumento dec, se decrementará el contador en uno y se mostrará por pantalla.\n",
        "  * Si no se envía ningún argumento (o algo que no sea inc o dec), se mostrará el valor del contador por pantalla.\n",
        "\n",
        "* Finalmente guardará de nuevo el valor del contador de nuevo en el fichero.\n",
        "\n",
        "* Utiliza excepciones si crees que es necesario, puedes mostrar el mensaje: Error: Fichero corrupto."
      ],
      "metadata": {
        "id": "PEdbFOE8bA2x"
      }
    },
    {
      "cell_type": "code",
      "source": [
        "#Código en el script\n",
        "\n",
        "#Creación y escritura\n",
        "from io import open\n",
        "import sys\n",
        "\n",
        "# Ruta donde crearemos el fichero, w indica escritura (puntero al principio)\n",
        "fichero = open('contador.txt','a+')\n",
        "fichero.seek(0)\n",
        "\n",
        "contenido = fichero.readline()\n",
        "\n",
        "if len(contenido) == 0:\n",
        "  contenido = \"0\"\n",
        "  fichero.write(contenido)\n",
        "\n",
        "fichero.close()\n",
        "\n",
        "#Pasar texto a un número\n",
        "\n",
        "try:\n",
        "  contador = int(contenido)\n",
        "\n",
        "  if len(sys.argv) == 2:\n",
        "    if sys.argv[1] == \"inc\":\n",
        "      contador +=1\n",
        "\n",
        "    elif sys.argv[1] == \"dec\":\n",
        "      contador -= 1\n",
        "\n",
        "  print(contador)\n",
        "\n",
        "  fichero = open(\"contador.txt\",\"w\")\n",
        "  fichero.write(str(contador))\n",
        "  fichero.close()\n",
        "\n",
        "except:\n",
        "  print(\"Error: Fichero corrupto\")"
      ],
      "metadata": {
        "colab": {
          "base_uri": "https://localhost:8080/"
        },
        "id": "iF_ZmqCIaUJ0",
        "outputId": "909906af-d037-42c7-8131-e10dd3ea2f4a"
      },
      "execution_count": null,
      "outputs": [
        {
          "output_type": "stream",
          "name": "stdout",
          "text": [
            "10\n"
          ]
        }
      ]
    },
    {
      "cell_type": "code",
      "source": [
        "##Para descargar el módulo contador.py en la siguiente liga: https://drive.google.com/file/d/1LldlqAJtxUBWXlRdtaa1Df3ngv_FT0FW/view?usp=sharing\n",
        "from google.colab import files\n",
        "uploaded = files.upload()"
      ],
      "metadata": {
        "colab": {
          "base_uri": "https://localhost:8080/",
          "height": 73
        },
        "id": "hZRHFdJ08JGm",
        "outputId": "dbff2d42-ca44-4bb9-8c1f-3abffe7301cd"
      },
      "execution_count": null,
      "outputs": [
        {
          "output_type": "display_data",
          "data": {
            "text/plain": [
              "<IPython.core.display.HTML object>"
            ],
            "text/html": [
              "\n",
              "     <input type=\"file\" id=\"files-545a5f07-6db9-4aef-9a97-49eefd708844\" name=\"files[]\" multiple disabled\n",
              "        style=\"border:none\" />\n",
              "     <output id=\"result-545a5f07-6db9-4aef-9a97-49eefd708844\">\n",
              "      Upload widget is only available when the cell has been executed in the\n",
              "      current browser session. Please rerun this cell to enable.\n",
              "      </output>\n",
              "      <script>// Copyright 2017 Google LLC\n",
              "//\n",
              "// Licensed under the Apache License, Version 2.0 (the \"License\");\n",
              "// you may not use this file except in compliance with the License.\n",
              "// You may obtain a copy of the License at\n",
              "//\n",
              "//      http://www.apache.org/licenses/LICENSE-2.0\n",
              "//\n",
              "// Unless required by applicable law or agreed to in writing, software\n",
              "// distributed under the License is distributed on an \"AS IS\" BASIS,\n",
              "// WITHOUT WARRANTIES OR CONDITIONS OF ANY KIND, either express or implied.\n",
              "// See the License for the specific language governing permissions and\n",
              "// limitations under the License.\n",
              "\n",
              "/**\n",
              " * @fileoverview Helpers for google.colab Python module.\n",
              " */\n",
              "(function(scope) {\n",
              "function span(text, styleAttributes = {}) {\n",
              "  const element = document.createElement('span');\n",
              "  element.textContent = text;\n",
              "  for (const key of Object.keys(styleAttributes)) {\n",
              "    element.style[key] = styleAttributes[key];\n",
              "  }\n",
              "  return element;\n",
              "}\n",
              "\n",
              "// Max number of bytes which will be uploaded at a time.\n",
              "const MAX_PAYLOAD_SIZE = 100 * 1024;\n",
              "\n",
              "function _uploadFiles(inputId, outputId) {\n",
              "  const steps = uploadFilesStep(inputId, outputId);\n",
              "  const outputElement = document.getElementById(outputId);\n",
              "  // Cache steps on the outputElement to make it available for the next call\n",
              "  // to uploadFilesContinue from Python.\n",
              "  outputElement.steps = steps;\n",
              "\n",
              "  return _uploadFilesContinue(outputId);\n",
              "}\n",
              "\n",
              "// This is roughly an async generator (not supported in the browser yet),\n",
              "// where there are multiple asynchronous steps and the Python side is going\n",
              "// to poll for completion of each step.\n",
              "// This uses a Promise to block the python side on completion of each step,\n",
              "// then passes the result of the previous step as the input to the next step.\n",
              "function _uploadFilesContinue(outputId) {\n",
              "  const outputElement = document.getElementById(outputId);\n",
              "  const steps = outputElement.steps;\n",
              "\n",
              "  const next = steps.next(outputElement.lastPromiseValue);\n",
              "  return Promise.resolve(next.value.promise).then((value) => {\n",
              "    // Cache the last promise value to make it available to the next\n",
              "    // step of the generator.\n",
              "    outputElement.lastPromiseValue = value;\n",
              "    return next.value.response;\n",
              "  });\n",
              "}\n",
              "\n",
              "/**\n",
              " * Generator function which is called between each async step of the upload\n",
              " * process.\n",
              " * @param {string} inputId Element ID of the input file picker element.\n",
              " * @param {string} outputId Element ID of the output display.\n",
              " * @return {!Iterable<!Object>} Iterable of next steps.\n",
              " */\n",
              "function* uploadFilesStep(inputId, outputId) {\n",
              "  const inputElement = document.getElementById(inputId);\n",
              "  inputElement.disabled = false;\n",
              "\n",
              "  const outputElement = document.getElementById(outputId);\n",
              "  outputElement.innerHTML = '';\n",
              "\n",
              "  const pickedPromise = new Promise((resolve) => {\n",
              "    inputElement.addEventListener('change', (e) => {\n",
              "      resolve(e.target.files);\n",
              "    });\n",
              "  });\n",
              "\n",
              "  const cancel = document.createElement('button');\n",
              "  inputElement.parentElement.appendChild(cancel);\n",
              "  cancel.textContent = 'Cancel upload';\n",
              "  const cancelPromise = new Promise((resolve) => {\n",
              "    cancel.onclick = () => {\n",
              "      resolve(null);\n",
              "    };\n",
              "  });\n",
              "\n",
              "  // Wait for the user to pick the files.\n",
              "  const files = yield {\n",
              "    promise: Promise.race([pickedPromise, cancelPromise]),\n",
              "    response: {\n",
              "      action: 'starting',\n",
              "    }\n",
              "  };\n",
              "\n",
              "  cancel.remove();\n",
              "\n",
              "  // Disable the input element since further picks are not allowed.\n",
              "  inputElement.disabled = true;\n",
              "\n",
              "  if (!files) {\n",
              "    return {\n",
              "      response: {\n",
              "        action: 'complete',\n",
              "      }\n",
              "    };\n",
              "  }\n",
              "\n",
              "  for (const file of files) {\n",
              "    const li = document.createElement('li');\n",
              "    li.append(span(file.name, {fontWeight: 'bold'}));\n",
              "    li.append(span(\n",
              "        `(${file.type || 'n/a'}) - ${file.size} bytes, ` +\n",
              "        `last modified: ${\n",
              "            file.lastModifiedDate ? file.lastModifiedDate.toLocaleDateString() :\n",
              "                                    'n/a'} - `));\n",
              "    const percent = span('0% done');\n",
              "    li.appendChild(percent);\n",
              "\n",
              "    outputElement.appendChild(li);\n",
              "\n",
              "    const fileDataPromise = new Promise((resolve) => {\n",
              "      const reader = new FileReader();\n",
              "      reader.onload = (e) => {\n",
              "        resolve(e.target.result);\n",
              "      };\n",
              "      reader.readAsArrayBuffer(file);\n",
              "    });\n",
              "    // Wait for the data to be ready.\n",
              "    let fileData = yield {\n",
              "      promise: fileDataPromise,\n",
              "      response: {\n",
              "        action: 'continue',\n",
              "      }\n",
              "    };\n",
              "\n",
              "    // Use a chunked sending to avoid message size limits. See b/62115660.\n",
              "    let position = 0;\n",
              "    do {\n",
              "      const length = Math.min(fileData.byteLength - position, MAX_PAYLOAD_SIZE);\n",
              "      const chunk = new Uint8Array(fileData, position, length);\n",
              "      position += length;\n",
              "\n",
              "      const base64 = btoa(String.fromCharCode.apply(null, chunk));\n",
              "      yield {\n",
              "        response: {\n",
              "          action: 'append',\n",
              "          file: file.name,\n",
              "          data: base64,\n",
              "        },\n",
              "      };\n",
              "\n",
              "      let percentDone = fileData.byteLength === 0 ?\n",
              "          100 :\n",
              "          Math.round((position / fileData.byteLength) * 100);\n",
              "      percent.textContent = `${percentDone}% done`;\n",
              "\n",
              "    } while (position < fileData.byteLength);\n",
              "  }\n",
              "\n",
              "  // All done.\n",
              "  yield {\n",
              "    response: {\n",
              "      action: 'complete',\n",
              "    }\n",
              "  };\n",
              "}\n",
              "\n",
              "scope.google = scope.google || {};\n",
              "scope.google.colab = scope.google.colab || {};\n",
              "scope.google.colab._files = {\n",
              "  _uploadFiles,\n",
              "  _uploadFilesContinue,\n",
              "};\n",
              "})(self);\n",
              "</script> "
            ]
          },
          "metadata": {}
        },
        {
          "output_type": "stream",
          "name": "stdout",
          "text": [
            "Saving contador.py to contador.py\n"
          ]
        }
      ]
    },
    {
      "cell_type": "code",
      "source": [
        "!python contador.py"
      ],
      "metadata": {
        "colab": {
          "base_uri": "https://localhost:8080/"
        },
        "id": "nSRZgSdz8bNZ",
        "outputId": "dc65ae0e-8104-46d9-c487-a2d86281711f"
      },
      "execution_count": null,
      "outputs": [
        {
          "output_type": "stream",
          "name": "stdout",
          "text": [
            "0\n"
          ]
        }
      ]
    },
    {
      "cell_type": "markdown",
      "source": [
        "#Ejercicio 3\n",
        "\n",
        "Utilizando como base el ejercicio de los personajes que hicimos, en este ejercicio tendrás que crear un gestor de personajes gestor.py para añadir y borrar la información de los siguientes personajes:\n",
        "\n",
        "\n",
        "![image.png](data:image/png;base64,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)\n",
        "\n",
        "\n",
        "\n",
        "**Deberás hacer uso del módulo pickle y todos los cambios que realices se irán guardando en un fichero binario personajes.pckl, por lo que aunque cerremos el programa los datos persistirán.**\n",
        "\n",
        "* Crea dos clases, una Personaje y otra Gestor.\n",
        "\n",
        "* La clase Personaje deberá permitir crear un personaje con el nombre (que será la clase), y sus propiedades de vida, ataque, defensa y alcance (que deben ser números enteros mayor que cero obligatoriamente).\n",
        "\n",
        "* Por otro lado la clase Gestor deberá incorporar todos los métodos necesarios para añadir personajes, mostrarlos y borrarlos (a partir de su nombre por ejemplo, tendrás que pensar una forma de hacerlo), además de los métodos esenciales para guardar los cambios en el fichero personajes.pckl que se deberían ejecutar automáticamente.\n",
        "\n",
        "* En caso de que el personaje ya exista en el Gestor entonces no se creará.\n",
        "\n",
        "**Una vez lo tengas listo realiza las siguientes prueba en tu código:**\n",
        "\n",
        "* Crea los tres personajes de la tabla anterior y añádelos al Gestor.\n",
        "* Muestra los personajes del Gestor.\n",
        "* Borra al Arquero.\n",
        "* Muestra de nuevo el Gestor."
      ],
      "metadata": {
        "id": "Fk0yRkTa87K2"
      }
    },
    {
      "cell_type": "code",
      "source": [
        "##Para descargar el módulo contador.py en la siguiente liga: https://drive.google.com/file/d/1qSCOmKaxoUEfNx0ebFkx-iNV3EU6xAFq/view?usp=sharing\n",
        "from google.colab import files\n",
        "uploaded = files.upload()\n"
      ],
      "metadata": {
        "id": "TsN0V-7vADZR",
        "colab": {
          "base_uri": "https://localhost:8080/",
          "height": 73
        },
        "outputId": "ca6b5b48-2e07-40fd-c2c9-a738cebefb52"
      },
      "execution_count": 12,
      "outputs": [
        {
          "output_type": "display_data",
          "data": {
            "text/plain": [
              "<IPython.core.display.HTML object>"
            ],
            "text/html": [
              "\n",
              "     <input type=\"file\" id=\"files-31b29583-26cd-4435-bc20-c1526dbf617e\" name=\"files[]\" multiple disabled\n",
              "        style=\"border:none\" />\n",
              "     <output id=\"result-31b29583-26cd-4435-bc20-c1526dbf617e\">\n",
              "      Upload widget is only available when the cell has been executed in the\n",
              "      current browser session. Please rerun this cell to enable.\n",
              "      </output>\n",
              "      <script>// Copyright 2017 Google LLC\n",
              "//\n",
              "// Licensed under the Apache License, Version 2.0 (the \"License\");\n",
              "// you may not use this file except in compliance with the License.\n",
              "// You may obtain a copy of the License at\n",
              "//\n",
              "//      http://www.apache.org/licenses/LICENSE-2.0\n",
              "//\n",
              "// Unless required by applicable law or agreed to in writing, software\n",
              "// distributed under the License is distributed on an \"AS IS\" BASIS,\n",
              "// WITHOUT WARRANTIES OR CONDITIONS OF ANY KIND, either express or implied.\n",
              "// See the License for the specific language governing permissions and\n",
              "// limitations under the License.\n",
              "\n",
              "/**\n",
              " * @fileoverview Helpers for google.colab Python module.\n",
              " */\n",
              "(function(scope) {\n",
              "function span(text, styleAttributes = {}) {\n",
              "  const element = document.createElement('span');\n",
              "  element.textContent = text;\n",
              "  for (const key of Object.keys(styleAttributes)) {\n",
              "    element.style[key] = styleAttributes[key];\n",
              "  }\n",
              "  return element;\n",
              "}\n",
              "\n",
              "// Max number of bytes which will be uploaded at a time.\n",
              "const MAX_PAYLOAD_SIZE = 100 * 1024;\n",
              "\n",
              "function _uploadFiles(inputId, outputId) {\n",
              "  const steps = uploadFilesStep(inputId, outputId);\n",
              "  const outputElement = document.getElementById(outputId);\n",
              "  // Cache steps on the outputElement to make it available for the next call\n",
              "  // to uploadFilesContinue from Python.\n",
              "  outputElement.steps = steps;\n",
              "\n",
              "  return _uploadFilesContinue(outputId);\n",
              "}\n",
              "\n",
              "// This is roughly an async generator (not supported in the browser yet),\n",
              "// where there are multiple asynchronous steps and the Python side is going\n",
              "// to poll for completion of each step.\n",
              "// This uses a Promise to block the python side on completion of each step,\n",
              "// then passes the result of the previous step as the input to the next step.\n",
              "function _uploadFilesContinue(outputId) {\n",
              "  const outputElement = document.getElementById(outputId);\n",
              "  const steps = outputElement.steps;\n",
              "\n",
              "  const next = steps.next(outputElement.lastPromiseValue);\n",
              "  return Promise.resolve(next.value.promise).then((value) => {\n",
              "    // Cache the last promise value to make it available to the next\n",
              "    // step of the generator.\n",
              "    outputElement.lastPromiseValue = value;\n",
              "    return next.value.response;\n",
              "  });\n",
              "}\n",
              "\n",
              "/**\n",
              " * Generator function which is called between each async step of the upload\n",
              " * process.\n",
              " * @param {string} inputId Element ID of the input file picker element.\n",
              " * @param {string} outputId Element ID of the output display.\n",
              " * @return {!Iterable<!Object>} Iterable of next steps.\n",
              " */\n",
              "function* uploadFilesStep(inputId, outputId) {\n",
              "  const inputElement = document.getElementById(inputId);\n",
              "  inputElement.disabled = false;\n",
              "\n",
              "  const outputElement = document.getElementById(outputId);\n",
              "  outputElement.innerHTML = '';\n",
              "\n",
              "  const pickedPromise = new Promise((resolve) => {\n",
              "    inputElement.addEventListener('change', (e) => {\n",
              "      resolve(e.target.files);\n",
              "    });\n",
              "  });\n",
              "\n",
              "  const cancel = document.createElement('button');\n",
              "  inputElement.parentElement.appendChild(cancel);\n",
              "  cancel.textContent = 'Cancel upload';\n",
              "  const cancelPromise = new Promise((resolve) => {\n",
              "    cancel.onclick = () => {\n",
              "      resolve(null);\n",
              "    };\n",
              "  });\n",
              "\n",
              "  // Wait for the user to pick the files.\n",
              "  const files = yield {\n",
              "    promise: Promise.race([pickedPromise, cancelPromise]),\n",
              "    response: {\n",
              "      action: 'starting',\n",
              "    }\n",
              "  };\n",
              "\n",
              "  cancel.remove();\n",
              "\n",
              "  // Disable the input element since further picks are not allowed.\n",
              "  inputElement.disabled = true;\n",
              "\n",
              "  if (!files) {\n",
              "    return {\n",
              "      response: {\n",
              "        action: 'complete',\n",
              "      }\n",
              "    };\n",
              "  }\n",
              "\n",
              "  for (const file of files) {\n",
              "    const li = document.createElement('li');\n",
              "    li.append(span(file.name, {fontWeight: 'bold'}));\n",
              "    li.append(span(\n",
              "        `(${file.type || 'n/a'}) - ${file.size} bytes, ` +\n",
              "        `last modified: ${\n",
              "            file.lastModifiedDate ? file.lastModifiedDate.toLocaleDateString() :\n",
              "                                    'n/a'} - `));\n",
              "    const percent = span('0% done');\n",
              "    li.appendChild(percent);\n",
              "\n",
              "    outputElement.appendChild(li);\n",
              "\n",
              "    const fileDataPromise = new Promise((resolve) => {\n",
              "      const reader = new FileReader();\n",
              "      reader.onload = (e) => {\n",
              "        resolve(e.target.result);\n",
              "      };\n",
              "      reader.readAsArrayBuffer(file);\n",
              "    });\n",
              "    // Wait for the data to be ready.\n",
              "    let fileData = yield {\n",
              "      promise: fileDataPromise,\n",
              "      response: {\n",
              "        action: 'continue',\n",
              "      }\n",
              "    };\n",
              "\n",
              "    // Use a chunked sending to avoid message size limits. See b/62115660.\n",
              "    let position = 0;\n",
              "    do {\n",
              "      const length = Math.min(fileData.byteLength - position, MAX_PAYLOAD_SIZE);\n",
              "      const chunk = new Uint8Array(fileData, position, length);\n",
              "      position += length;\n",
              "\n",
              "      const base64 = btoa(String.fromCharCode.apply(null, chunk));\n",
              "      yield {\n",
              "        response: {\n",
              "          action: 'append',\n",
              "          file: file.name,\n",
              "          data: base64,\n",
              "        },\n",
              "      };\n",
              "\n",
              "      let percentDone = fileData.byteLength === 0 ?\n",
              "          100 :\n",
              "          Math.round((position / fileData.byteLength) * 100);\n",
              "      percent.textContent = `${percentDone}% done`;\n",
              "\n",
              "    } while (position < fileData.byteLength);\n",
              "  }\n",
              "\n",
              "  // All done.\n",
              "  yield {\n",
              "    response: {\n",
              "      action: 'complete',\n",
              "    }\n",
              "  };\n",
              "}\n",
              "\n",
              "scope.google = scope.google || {};\n",
              "scope.google.colab = scope.google.colab || {};\n",
              "scope.google.colab._files = {\n",
              "  _uploadFiles,\n",
              "  _uploadFilesContinue,\n",
              "};\n",
              "})(self);\n",
              "</script> "
            ]
          },
          "metadata": {}
        },
        {
          "output_type": "stream",
          "name": "stdout",
          "text": [
            "Saving gestor.py to gestor.py\n"
          ]
        }
      ]
    },
    {
      "cell_type": "code",
      "source": [
        "!python gestor.py\n"
      ],
      "metadata": {
        "colab": {
          "base_uri": "https://localhost:8080/"
        },
        "id": "ulyHbnKF5oc9",
        "outputId": "f818ca6f-3ce9-47f0-e262-608310e15310"
      },
      "execution_count": 19,
      "outputs": [
        {
          "output_type": "stream",
          "name": "stdout",
          "text": [
            "El fichero está vacío\n",
            "Se han cargado 0 personajes\n",
            "El gestor está vacío\n"
          ]
        }
      ]
    },
    {
      "cell_type": "code",
      "source": [
        "from gestor import *\n",
        "\n",
        "G.agregar(Personaje(\"Caballero\",4,2,4,2))\n",
        "G.agregar(Personaje(\"Guerrero\",2,4,2,4))\n",
        "G.agregar(Personaje(\"Arquero\",2,4,1,8))"
      ],
      "metadata": {
        "id": "woe0M4qc5uHR"
      },
      "execution_count": 27,
      "outputs": []
    },
    {
      "cell_type": "code",
      "source": [
        "!python gestor.py"
      ],
      "metadata": {
        "colab": {
          "base_uri": "https://localhost:8080/"
        },
        "id": "Vvgwr07D6fXM",
        "outputId": "7488484d-bcb0-423b-864a-706c3c80d497"
      },
      "execution_count": 26,
      "outputs": [
        {
          "output_type": "stream",
          "name": "stdout",
          "text": [
            "El fichero está vacío\n",
            "Se han cargado 0 personajes\n",
            "El gestor está vacío\n"
          ]
        }
      ]
    },
    {
      "cell_type": "code",
      "source": [
        "G = Gestor()\n",
        "G.mostrar()"
      ],
      "metadata": {
        "colab": {
          "base_uri": "https://localhost:8080/"
        },
        "id": "JayLK4BY8LVA",
        "outputId": "5143dab2-ed85-43ec-804d-d694218696ed"
      },
      "execution_count": 29,
      "outputs": [
        {
          "output_type": "stream",
          "name": "stdout",
          "text": [
            "El fichero está vacío\n",
            "Se han cargado 3 personajes\n",
            "Caballero => vida, 4 ataque, 2 defensa, 4 alcance\n",
            "Guerrero => vida, 2 ataque, 4 defensa, 2 alcance\n",
            "Arquero => vida, 2 ataque, 4 defensa, 1 alcance\n"
          ]
        }
      ]
    },
    {
      "cell_type": "code",
      "source": [
        "G.borrar(\"Arquero\")"
      ],
      "metadata": {
        "colab": {
          "base_uri": "https://localhost:8080/"
        },
        "id": "Po1V9AHK8UEl",
        "outputId": "a10f76ec-2a58-46f6-ebca-0ec3fde0bec5"
      },
      "execution_count": 30,
      "outputs": [
        {
          "output_type": "stream",
          "name": "stdout",
          "text": [
            "\n",
            "Personaje Arquero borrado\n"
          ]
        }
      ]
    },
    {
      "cell_type": "code",
      "source": [
        "G.mostrar()"
      ],
      "metadata": {
        "colab": {
          "base_uri": "https://localhost:8080/"
        },
        "id": "H8X_Px0L8fOP",
        "outputId": "1cde21de-3029-4db2-c28c-1e93d4f93e32"
      },
      "execution_count": 34,
      "outputs": [
        {
          "output_type": "stream",
          "name": "stdout",
          "text": [
            "Caballero => vida, 4 ataque, 2 defensa, 4 alcance\n",
            "Guerrero => vida, 2 ataque, 4 defensa, 2 alcance\n"
          ]
        }
      ]
    },
    {
      "cell_type": "code",
      "source": [],
      "metadata": {
        "id": "kLVGNW5m8jeu"
      },
      "execution_count": null,
      "outputs": []
    }
  ]
}