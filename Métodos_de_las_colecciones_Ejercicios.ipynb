{
  "nbformat": 4,
  "nbformat_minor": 0,
  "metadata": {
    "colab": {
      "provenance": [],
      "authorship_tag": "ABX9TyN+EaRpJARSPVd8YkAjyG98",
      "include_colab_link": true
    },
    "kernelspec": {
      "name": "python3",
      "display_name": "Python 3"
    },
    "language_info": {
      "name": "python"
    }
  },
  "cells": [
    {
      "cell_type": "markdown",
      "metadata": {
        "id": "view-in-github",
        "colab_type": "text"
      },
      "source": [
        "<a href=\"https://colab.research.google.com/github/LuisAntonioGI13/Python-Curse/blob/main/M%C3%A9todos_de_las_colecciones_Ejercicios.ipynb\" target=\"_parent\"><img src=\"https://colab.research.google.com/assets/colab-badge.svg\" alt=\"Open In Colab\"/></a>"
      ]
    },
    {
      "cell_type": "markdown",
      "source": [
        "#Ejercicio 1\n",
        "\n",
        "Utilizando todo lo que sabes sobre cadenas, listas, sus métodos internos... Transforma este texto\n",
        "\n",
        "\n",
        "\n",
        "```\n",
        "Un día que el viento soplaba con fuerza#mira como se mueve aquella banderola -dijo un monje#lo que se mueve es el viento -respondió otro monje#ni las banderolas ni el viento, lo que se mueve son vuestras mentes -dijo el maestro\n",
        "```\n",
        "\n",
        "En este otro:\n",
        "\n",
        "Un día que el viento soplaba con fuerza...\n",
        "- Mira como se mueve aquella banderola -dijo un monje.\n",
        "- Lo que se mueve es el viento -respondió otro monje.\n",
        "- Ni las banderolas ni el viento, lo que se mueve son vuestras mentes -dijo el maestro.\n",
        "\n",
        "```\n",
        "Un día que el viento soplaba con fuerza...\n",
        "- Mira como se mueve aquella banderola -dijo un monje.\n",
        "- Lo que se mueve es el viento -respondió otro monje.\n",
        "- Ni las banderolas ni el viento, lo que se mueve son vuestras mentes -dijo el maestro.\n",
        "```\n"
      ],
      "metadata": {
        "id": "B-9oGaUdoP7m"
      }
    },
    {
      "cell_type": "code",
      "execution_count": 3,
      "metadata": {
        "id": "XWGBsmE-oIhB"
      },
      "outputs": [],
      "source": [
        "cadena = \"un día que el viento soplaba con fuerza#mira como se mueve aquella banderola -dijo un monje#lo que se mueve es el viento -respondió otro monje#ni las banderolas ni el viento, lo que se mueve son vuestras mentes -dijo el maestro\""
      ]
    },
    {
      "cell_type": "code",
      "source": [
        "lineas = cadena.split(\"#\") #Se define la cadena \"cadena y ahora, se separa en una lista de 4 elementos\"\n",
        "lineas\n",
        "\n",
        "#cadena: Una cadena que contiene oraciones separadas por #.\n",
        "#lineas: Una lista que contiene las oraciones divididas usando #."
      ],
      "metadata": {
        "colab": {
          "base_uri": "https://localhost:8080/"
        },
        "id": "929TqPhQIE9G",
        "outputId": "2d0f939c-9a76-4818-b0ab-0b874450f080"
      },
      "execution_count": 22,
      "outputs": [
        {
          "output_type": "execute_result",
          "data": {
            "text/plain": [
              "['un día que el viento soplaba con fuerza',\n",
              " 'mira como se mueve aquella banderola -dijo un monje',\n",
              " 'lo que se mueve es el viento -respondió otro monje',\n",
              " 'ni las banderolas ni el viento, lo que se mueve son vuestras mentes -dijo el maestro']"
            ]
          },
          "metadata": {},
          "execution_count": 22
        }
      ]
    },
    {
      "cell_type": "code",
      "source": [
        "for i, linea in enumerate(lineas):\n",
        "  lineas[i] = linea.capitalize()\n",
        "  if i ==0:\n",
        "    linea = linea +\"...\"\n",
        "  else:\n",
        "    linea = \"-\" + linea + \".\"\n",
        "  print(linea)\n",
        "\n"
      ],
      "metadata": {
        "colab": {
          "base_uri": "https://localhost:8080/"
        },
        "id": "SEItR6T2IzxH",
        "outputId": "53aa832c-25d5-44d8-b797-df28777e2dbc"
      },
      "execution_count": 23,
      "outputs": [
        {
          "output_type": "stream",
          "name": "stdout",
          "text": [
            "un día que el viento soplaba con fuerza...\n",
            "-mira como se mueve aquella banderola -dijo un monje.\n",
            "-lo que se mueve es el viento -respondió otro monje.\n",
            "-ni las banderolas ni el viento, lo que se mueve son vuestras mentes -dijo el maestro.\n"
          ]
        }
      ]
    },
    {
      "cell_type": "markdown",
      "source": [
        "#Ejercicio 2\n",
        "\n",
        "Crea una función modificar() que a partir de una lista de números realice las siguientes tareas sin modificar la original:\n",
        "\n",
        "* Borrar los elementos duplicados.\n",
        "* Ordenar la lista de mayor a menor.\n",
        "* Eliminar todos los números impares.\n",
        "* Realizar una suma de todos los números que quedan.\n",
        "* Añadir como primer elemento de la lista la suma realizada.\n",
        "* Devolver la lista modificada.\n",
        "* Finalmente, después de ejecutar la función, comprueba que la suma de todos los números a partir del segundo, concuerda con el primer número de la lista, tal que así:\n",
        "\n",
        "\n",
        "```\n",
        "nueva_lista = modificar(lista)\n",
        "print( nueva_lista[0] == sum(nueva_lista[1:]) )\n",
        "```\n",
        "\n"
      ],
      "metadata": {
        "id": "ExyO8CGbLIJ2"
      }
    },
    {
      "cell_type": "code",
      "source": [
        "lista1 = [29,-5,-12,17,5,24,5,12,23,16,12,5,-12,17]\n",
        "\n",
        "def modificar(lista):\n",
        "  lista = list(set(lista))\n",
        "  lista.sort(reverse=True)\n",
        "  nueva_lista = []\n",
        "  for i in lista:\n",
        "    if i%2 ==0:\n",
        "      nueva_lista.append(i)\n",
        "  lista = nueva_lista\n",
        "\n",
        "  suma = sum(lista)\n",
        "  lista.insert(0,sum(lista))\n",
        "\n",
        "\n",
        "  return lista"
      ],
      "metadata": {
        "id": "ya-WYwr8GuTA"
      },
      "execution_count": 131,
      "outputs": []
    },
    {
      "cell_type": "code",
      "source": [
        "nueva_lista = modificar(lista1)\n",
        "print(nueva_lista)\n",
        "print(lista1)"
      ],
      "metadata": {
        "colab": {
          "base_uri": "https://localhost:8080/"
        },
        "id": "lUd9VL-2OGE-",
        "outputId": "b7eab831-906a-4245-b67f-c732084a9a98"
      },
      "execution_count": 132,
      "outputs": [
        {
          "output_type": "stream",
          "name": "stdout",
          "text": [
            "[40, 24, 16, 12, -12]\n",
            "[29, -5, -12, 17, 5, 24, 5, 12, 23, 16, 12, 5, -12, 17]\n"
          ]
        }
      ]
    },
    {
      "cell_type": "code",
      "source": [
        "print( nueva_lista[0] == sum(nueva_lista[1:]) )"
      ],
      "metadata": {
        "colab": {
          "base_uri": "https://localhost:8080/"
        },
        "id": "60dSM-uSRawS",
        "outputId": "4f2cf479-e5fe-4dc5-cc67-4ec928a2cd49"
      },
      "execution_count": 115,
      "outputs": [
        {
          "output_type": "stream",
          "name": "stdout",
          "text": [
            "True\n"
          ]
        }
      ]
    },
    {
      "cell_type": "code",
      "source": [],
      "metadata": {
        "id": "oJpZsa3SU2zl"
      },
      "execution_count": null,
      "outputs": []
    }
  ]
}