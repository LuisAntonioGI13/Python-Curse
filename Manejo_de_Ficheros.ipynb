{
  "nbformat": 4,
  "nbformat_minor": 0,
  "metadata": {
    "colab": {
      "provenance": [],
      "authorship_tag": "ABX9TyO8Rw05ZN4sL9HtKPLgDCY7",
      "include_colab_link": true
    },
    "kernelspec": {
      "name": "python3",
      "display_name": "Python 3"
    },
    "language_info": {
      "name": "python"
    }
  },
  "cells": [
    {
      "cell_type": "markdown",
      "metadata": {
        "id": "view-in-github",
        "colab_type": "text"
      },
      "source": [
        "<a href=\"https://colab.research.google.com/github/LuisAntonioGI13/Python-Curse/blob/main/Manejo_de_Ficheros.ipynb\" target=\"_parent\"><img src=\"https://colab.research.google.com/assets/colab-badge.svg\" alt=\"Open In Colab\"/></a>"
      ]
    },
    {
      "cell_type": "markdown",
      "source": [
        "##¿Qué es un fichero?\n",
        "\n",
        "Primeramente, ¿qué es un fichero? Un fichero es un conjunto de bits almacenados en un dispositivo de memoria persistente, normalmente un disco duro. Este conjunto de información se identifica con un nombre (el nombre del fichero) y la dirección de la carpeta o directorio que lo contiene. Todos, absolutamente todos los ficheros se localizan en un directorio determinado que se conoce como la ruta del fichero.\n",
        "\n",
        "Por cierto, los ficheros se conocen también como archivos informáticos porque son equivalentes digitales de los archivos escritos por ejemplo en expedientes, tarjetas o libretas que encontraríamos en una oficina tradicional.\n",
        "\n",
        "Otra cosa importante es que los ficheros se suelen identificar también con una extensión. Una extensión es un código que se escribe después del nombre, con un punto y varios caracteres y que nos permite identificar varios ficheros de un mismo tipo. En realidad ésto no deja de ser una formalidad, ya que a nuestros programas no les importa la extensión, sino cómo deben interpretar los datos que hay escritos dentro.\n",
        "\n",
        "##Operaciones básicas\n",
        "\n",
        "Segundo, las cuatro operaciones que nos permiten los ficheros son:\n",
        "\n",
        "* **Creación:** Proceso por el cual creamos un fichero en el disco.\n",
        "* **Apertura:** Proceso por el cual abrimos un fichero del disco para comenzar a trabajar.\n",
        "* **Cierre:** Proceso por el cual cerramos un fichero para dejar de trabajar con él.\n",
        "* **Extensión:** Proceso por el cual añadimos información al fichero.\n",
        "Es posible realizar varias operaciones a la vez, como creación y apertura en la misma instrucción. Sin embargo es necesario abrir un fichero para poder extenderlo o cerrarlo.\n",
        "\n",
        "##Puntero del fichero\n",
        "Tercero, el puntero es un concepto por el cual podemos entender como el ordenador accede y escribe en el fichero correctamente. Imaginaros el puntero como si fuera el dedo del ordenador mientras recorre el fichero, igual que nosotros seguimos con el dedo un texto mientras lo leemos y así sabemos por dónde vamos.\n",
        "\n",
        "El puntero es muy importante, ya que por ejemplo, si se encuentra al principio del fichero y le decimos que guarde datos ahí, si no hay nada perfecto, pero si ya hay datos ¿que ocurrirá? Que los guardaremos encima de otros datos y quizá haremos que el fichero quede inservible. Entonces, ¿si queremos añadir datos al fichero, dónde debería estar el puntero? Pues al final del todo, justo donde no hay nada más.\n",
        "\n",
        "##Ficheros de texto y binarios\n",
        "Ésta es la última diferencia que debemos entender. Si probáis a crear un fichero con un editor de texto, luego lo podemos abrir cómodamente para seguir trabajando, como cuando creamos un script de Python. Ésto es porque los editores guardan la información en ficheros de texto plano, tal como nosotros lo escribimos.\n",
        "\n",
        "Pero ¿qué ocurre si intentamos abrir una imagen o sonido con el editor? Pues que aparecen muchos códigos extraños.\n",
        "\n",
        "La causa es que estos ficheros no almacenan texto plano, sino datos binarios. Los datos binarios son la forma básica de datos que un ordenador maneja, y por tanto también la forma más rápida de escribir y leer información de un fichero. Por éso sirven para guardar de todo, desde imágenes, sonidos, ficheros que a su vez han sido comprimidos, texto enriquecido (como el de un documento de word) o incluso el ejecutable de un programa. Lo malo es que para nosotros son más difíciles de manejar que los ficheros porque requieren conocimientos informáticos sobre el funcionamiento de los bits, bytes y las conversiones entre tipos, así que no los veremos."
      ],
      "metadata": {
        "id": "HRNaqZNHnRqt"
      }
    },
    {
      "cell_type": "markdown",
      "source": [
        "##Ficheros de texto\n",
        "\n",
        "Hay varias formas de abrir un fichero, la más común es utilizando la función open del módulo io"
      ],
      "metadata": {
        "id": "rUt5Uz3un9Kr"
      }
    },
    {
      "cell_type": "code",
      "source": [
        "#Creación y escritura\n",
        "\n",
        "from io import open\n",
        "\n",
        "texto = \"Una línea con texto\\nOtra línea con texto\"\n",
        "\n",
        "# Ruta donde crearemos el fichero, w indica escritura (puntero al principio)\n",
        "fichero = open('fichero.txt','w')\n",
        "\n",
        "# Escribimos el texto\n",
        "fichero.write(texto)\n",
        "\n",
        "# Cerramos el fichero\n",
        "fichero.close()\n"
      ],
      "metadata": {
        "id": "WWfaFyMan4fv"
      },
      "execution_count": 7,
      "outputs": []
    },
    {
      "cell_type": "code",
      "source": [
        "fichero"
      ],
      "metadata": {
        "colab": {
          "base_uri": "https://localhost:8080/"
        },
        "id": "y48Kn562vhGT",
        "outputId": "9b38312e-9ca5-4ef7-a947-0aba20c448ed"
      },
      "execution_count": 5,
      "outputs": [
        {
          "output_type": "execute_result",
          "data": {
            "text/plain": [
              "<_io.TextIOWrapper name='fichero.txt' mode='w' encoding='UTF-8'>"
            ]
          },
          "metadata": {},
          "execution_count": 5
        }
      ]
    },
    {
      "cell_type": "code",
      "source": [
        "#Lectura\n",
        "\n",
        "# Ruta donde leeremos el fichero, r indica lectura (por defecto ya es r)\n",
        "fichero = open('fichero.txt','r')\n",
        "\n",
        "# Lectura completa\n",
        "texto = fichero.read()\n",
        "\n",
        "# Cerramos el fichero\n",
        "fichero.close()\n",
        "\n",
        "print(texto)"
      ],
      "metadata": {
        "colab": {
          "base_uri": "https://localhost:8080/"
        },
        "id": "pFMl9zrTviDx",
        "outputId": "ade5d08a-a2c2-40cf-a50a-6b31520af22f"
      },
      "execution_count": 8,
      "outputs": [
        {
          "output_type": "stream",
          "name": "stdout",
          "text": [
            "Una línea con texto\n",
            "Otra línea con texto\n"
          ]
        }
      ]
    },
    {
      "cell_type": "code",
      "source": [
        "#Podemos usar el método readlines() del fichero para generar una lista con las líneas\n",
        "\n",
        "fichero = open('fichero.txt','r')\n",
        "\n",
        "# Leempos creando una lista de líneas\n",
        "texto = fichero.readlines()\n",
        "\n",
        "fichero.close()\n",
        "print(texto)"
      ],
      "metadata": {
        "colab": {
          "base_uri": "https://localhost:8080/"
        },
        "id": "0ZpMYRRiwAjl",
        "outputId": "8ab335bb-eaac-40af-966a-64c5add6b6a0"
      },
      "execution_count": 9,
      "outputs": [
        {
          "output_type": "stream",
          "name": "stdout",
          "text": [
            "['Una línea con texto\\n', 'Otra línea con texto']\n"
          ]
        }
      ]
    },
    {
      "cell_type": "code",
      "source": [
        "#También se puede leer un fichero utilizando la instrucción estándar with de la siguiente forma\n",
        "\n",
        "with open(\"fichero.txt\", \"r\") as fichero:\n",
        "    for linea in fichero:\n",
        "        print(linea)"
      ],
      "metadata": {
        "colab": {
          "base_uri": "https://localhost:8080/"
        },
        "id": "heNdbYrqwAHM",
        "outputId": "08c0de90-9c4f-42b0-a846-ba06421517e6"
      },
      "execution_count": 10,
      "outputs": [
        {
          "output_type": "stream",
          "name": "stdout",
          "text": [
            "Una línea con texto\n",
            "\n",
            "Otra línea con texto\n"
          ]
        }
      ]
    },
    {
      "cell_type": "code",
      "source": [
        "#Extensión\n",
        "#Este modo nos permite añadir datos al final de un fichero\n",
        "\n",
        "# Ruta donde leeremos el fichero, a indica extensión (puntero al final)\n",
        "fichero = open('fichero.txt','a')\n",
        "\n",
        "fichero.write('\\nOtra línea más abajo del todo')\n",
        "\n",
        "fichero.close()"
      ],
      "metadata": {
        "id": "jLcpb_hawdWh"
      },
      "execution_count": 11,
      "outputs": []
    },
    {
      "cell_type": "code",
      "source": [
        "#La variante 'a+' permite crear el fichero si no existe\n",
        "\n",
        "fichero = open('fichero_inventado.txt','a+')"
      ],
      "metadata": {
        "id": "ezUG22H5wm20"
      },
      "execution_count": 12,
      "outputs": []
    },
    {
      "cell_type": "markdown",
      "source": [
        "##Manejando el puntero\n",
        "\n",
        "Es posible posicioar el puntero en el fichero manualmente usando el método seek e indicando un número de caracteres para luego leer una cantidad de caracteres con el método read"
      ],
      "metadata": {
        "id": "rLA4rlRLwxkk"
      }
    },
    {
      "cell_type": "code",
      "source": [
        "fichero = open('fichero.txt','r')\n",
        "fichero.seek(0)   # Puntero al principio\n",
        "fichero.read(10)  # Leemos 10 carácteres"
      ],
      "metadata": {
        "colab": {
          "base_uri": "https://localhost:8080/",
          "height": 35
        },
        "id": "eECBWLLnwu_i",
        "outputId": "a7b605f2-88c7-41b5-819f-cfdf2903b864"
      },
      "execution_count": 13,
      "outputs": [
        {
          "output_type": "execute_result",
          "data": {
            "text/plain": [
              "'Una línea '"
            ],
            "application/vnd.google.colaboratory.intrinsic+json": {
              "type": "string"
            }
          },
          "metadata": {},
          "execution_count": 13
        }
      ]
    },
    {
      "cell_type": "code",
      "source": [
        "#Para posicionar el puntero justo al inicio de la segunda línea, podríamos ponerlo justo en la longitud de la primera\n",
        "\n",
        "\n",
        "fichero = open('fichero.txt','r')\n",
        "fichero.seek(0)\n",
        "\n",
        "# Leemos la primera línea y situamos el puntero al principio de la segunda\n",
        "fichero.seek( len(fichero.readline()) )\n",
        "\n",
        "# Leemos todo lo que queda del puntero hasta el final\n",
        "fichero.read()\n"
      ],
      "metadata": {
        "colab": {
          "base_uri": "https://localhost:8080/",
          "height": 35
        },
        "id": "BcD1GOJaw4Oj",
        "outputId": "b0ce1353-4907-4cef-a14d-12bd3d6f8793"
      },
      "execution_count": 14,
      "outputs": [
        {
          "output_type": "execute_result",
          "data": {
            "text/plain": [
              "'\\nOtra línea con texto\\nOtra línea más abajo del todo'"
            ],
            "application/vnd.google.colaboratory.intrinsic+json": {
              "type": "string"
            }
          },
          "metadata": {},
          "execution_count": 14
        }
      ]
    },
    {
      "cell_type": "markdown",
      "source": [
        "###Lectura con escritura\n",
        "\n",
        "Se puede abrir un fichero en modo lectura con escritura, pero éste debe existir préviamente. Además por defecto el puntero estará al principio y si escribimos algo sobreescribiremos el contenido actual, así que prestad atención a los saltos de línea y caracteres especiales"
      ],
      "metadata": {
        "id": "Xfu0rDgs0X-V"
      }
    },
    {
      "cell_type": "code",
      "source": [
        "# Creamos un fichero de prueba con 4 líneas\n",
        "fichero = open('fichero2.txt','w')\n",
        "texto = \"Línea 1\\nLínea 2\\nLínea 3\\nLínea 4\"\n",
        "fichero.write(texto)\n",
        "fichero.close()\n",
        "\n",
        "# Lo abrimos en lectura con escritura y escribimos algo\n",
        "fichero = open('fichero2.txt','r+')\n",
        "fichero.write(\"0123456\")\n",
        "\n",
        "# Volvemos a ponter el puntero al inicio y leemos hasta el final\n",
        "fichero.seek(0)\n",
        "fichero.read()\n",
        "fichero.close()"
      ],
      "metadata": {
        "id": "sk6yHwhO0L8G"
      },
      "execution_count": 15,
      "outputs": []
    },
    {
      "cell_type": "markdown",
      "source": [
        "###Modificar una línea\n",
        "\n",
        "Para lograr este fin lo mejor es leer todas las líneas en una lista, modificar la línea en la lista, posicionar el puntero al principio y reescribir de nuevo todas las líneas"
      ],
      "metadata": {
        "id": "AH2z6CS_0jPR"
      }
    },
    {
      "cell_type": "code",
      "source": [
        "fichero = open('fichero2.txt','r+')\n",
        "texto = fichero.readlines()\n",
        "\n",
        "# Modificamos la línea que queramos a partir del índice\n",
        "texto[2] = \"Esta es la línea 3 modificada\\n\"\n",
        "\n",
        "# Volvemos a ponter el puntero al inicio y reescribimos\n",
        "fichero.seek(0)\n",
        "fichero.writelines(texto)\n",
        "fichero.close()\n",
        "\n",
        "# Leemos el fichero de nuevo\n",
        "with open(\"fichero2.txt\", \"r\") as fichero:\n",
        "    print(fichero.read())"
      ],
      "metadata": {
        "colab": {
          "base_uri": "https://localhost:8080/"
        },
        "id": "9ZtLdAmR0gHc",
        "outputId": "1aad870f-ee57-4e90-aa61-6a1322274877"
      },
      "execution_count": 16,
      "outputs": [
        {
          "output_type": "stream",
          "name": "stdout",
          "text": [
            "01234561\n",
            "Línea 2\n",
            "Esta es la línea 3 modificada\n",
            "Línea 4\n"
          ]
        }
      ]
    },
    {
      "cell_type": "markdown",
      "source": [
        "##Módulo pickle\n",
        "\n",
        "Este módulo nos permite almacenar fácilmente colecciones y objetos en ficheros binarios abstrayendo todo la parte de escritura y lectura binaria."
      ],
      "metadata": {
        "id": "4IkGOYQ00r0l"
      }
    },
    {
      "cell_type": "code",
      "source": [
        "#Escritura de colecciones\n",
        "\n",
        "import pickle\n",
        "\n",
        "# Podemos guardar lo que queramos, listas, diccionarios, tuplas...\n",
        "lista = [1,2,3,4,5]\n",
        "\n",
        "# Escritura en modo binario, vacía el fichero si existe\n",
        "fichero = open('lista.pckl','wb')\n",
        "\n",
        "# Escribe la colección en el fichero\n",
        "pickle.dump(lista, fichero)\n",
        "\n",
        "fichero.close()"
      ],
      "metadata": {
        "id": "biwJPc2a0o1x"
      },
      "execution_count": 17,
      "outputs": []
    },
    {
      "cell_type": "code",
      "source": [
        "#Lectura de colecciones\n",
        "\n",
        "# Lectura en modo binario\n",
        "fichero = open('lista.pckl','rb')\n",
        "\n",
        "# Cargamos los datos del fichero\n",
        "lista_fichero = pickle.load(fichero)\n",
        "print(lista_fichero)\n",
        "\n",
        "fichero.close()"
      ],
      "metadata": {
        "colab": {
          "base_uri": "https://localhost:8080/"
        },
        "id": "tQ1Ro7_F1E9z",
        "outputId": "46774acd-f12a-45e6-d46d-7961820e99bc"
      },
      "execution_count": 18,
      "outputs": [
        {
          "output_type": "stream",
          "name": "stdout",
          "text": [
            "[1, 2, 3, 4, 5]\n"
          ]
        }
      ]
    },
    {
      "cell_type": "markdown",
      "source": [
        "###Persistencia de objetos\n",
        "Para guardar objetos lo haremos dentro de una colección. La lógica sería la siguiente:\n",
        "\n",
        "1. rear una colección.\n",
        "2. Introducir los objetos en la colección.\n",
        "3. Guardar la colección haciendo un dump.\n",
        "4. Recuperar la colección haciendo un load.\n",
        "5. Seguir trabajando con nuestros objetos."
      ],
      "metadata": {
        "id": "b3svG7Gh24Hx"
      }
    },
    {
      "cell_type": "code",
      "source": [
        "# Creamos una clase de prueba\n",
        "class Persona:\n",
        "\n",
        "    def __init__(self,nombre):\n",
        "        self.nombre = nombre\n",
        "\n",
        "    def __str__(self):\n",
        "        return self.nombre\n",
        "\n",
        "# Creamos la lista con los objetos\n",
        "nombres = [\"Héctor\",\"Mario\",\"Marta\"]\n",
        "personas = []\n",
        "\n",
        "for n in nombres:\n",
        "    p = Persona(n)\n",
        "    personas.append(p)\n",
        "\n",
        "# Escribimos la lista en el fichero con pickle\n",
        "import pickle\n",
        "f = open('personas.pckl','wb')\n",
        "pickle.dump(personas, f)\n",
        "f.close()\n",
        "\n",
        "# Leemos la lista del fichero con pickle\n",
        "f = open('personas.pckl','rb')\n",
        "personas = pickle.load(f)\n",
        "f.close()\n",
        "\n",
        "for p in personas:\n",
        "    print(p)"
      ],
      "metadata": {
        "colab": {
          "base_uri": "https://localhost:8080/"
        },
        "id": "BbFzYLwa1LUk",
        "outputId": "cceb0e8b-3c87-4b61-cbba-0cf91f8a0326"
      },
      "execution_count": 19,
      "outputs": [
        {
          "output_type": "stream",
          "name": "stdout",
          "text": [
            "Héctor\n",
            "Mario\n",
            "Marta\n"
          ]
        }
      ]
    },
    {
      "cell_type": "markdown",
      "source": [
        "###Ejemplo catálogo de películas\n",
        "\n",
        "A continuación os dejo un ejemplo para que veáis como adaptar un catálogo de películas para usar persistencia utilizando pickle"
      ],
      "metadata": {
        "id": "ZaTLYIrZEd1X"
      }
    },
    {
      "cell_type": "code",
      "source": [
        "from io import open\n",
        "import pickle\n",
        "\n",
        "class Pelicula:\n",
        "\n",
        "    # Constructor de clase\n",
        "    def __init__(self, titulo, duracion, lanzamiento):\n",
        "        self.titulo = titulo\n",
        "        self.duracion = duracion\n",
        "        self.lanzamiento = lanzamiento\n",
        "        print('Se ha creado la película:',self.titulo)\n",
        "\n",
        "    def __str__(self):\n",
        "        return '{} ({})'.format(self.titulo, self.lanzamiento)\n",
        "\n",
        "\n",
        "class Catalogo:\n",
        "\n",
        "    peliculas = []\n",
        "\n",
        "    # Constructor de clase\n",
        "    def __init__(self):\n",
        "        self.cargar()\n",
        "\n",
        "    def agregar(self,p):\n",
        "        self.peliculas.append(p)\n",
        "        self.guardar()\n",
        "\n",
        "    def mostrar(self):\n",
        "        if len(self.peliculas) == 0:\n",
        "            print(\"El catálogo está vacío\")\n",
        "            return\n",
        "        for p in self.peliculas:\n",
        "            print(p)\n",
        "\n",
        "    def cargar(self):\n",
        "        fichero = open('catalogo.pckl', 'ab+')\n",
        "        fichero.seek(0)\n",
        "        try:\n",
        "            self.peliculas = pickle.load(fichero)\n",
        "        except:\n",
        "            print(\"El fichero está vacío\")\n",
        "        finally:\n",
        "            fichero.close()\n",
        "            print(\"Se han cargado {} películas\".format(len(self.peliculas)))\n",
        "\n",
        "    def guardar(self):\n",
        "        fichero = open('catalogo.pckl', 'wb')\n",
        "        pickle.dump(self.peliculas, fichero)\n",
        "        fichero.close()"
      ],
      "metadata": {
        "id": "EPgBRsMCEVbT"
      },
      "execution_count": 20,
      "outputs": []
    },
    {
      "cell_type": "code",
      "source": [
        "# Creamos un catálogo\n",
        "c = Catalogo()\n",
        "\n",
        "# Mostramos el contenido\n",
        "c.mostrar()\n",
        "\n",
        "# Agregamos unas películas\n",
        "c.agregar( Pelicula(\"El Padrino\", 175, 1972) )\n",
        "c.agregar( Pelicula(\"El Padrino: Parte 2\", 202, 1974) )\n",
        "\n",
        "# Mostramos el catálogo de nuevo\n",
        "c.mostrar()\n",
        "\n",
        "# Borramos el catálogo de la memoria ram (persistirá el fichero)\n",
        "del(c)"
      ],
      "metadata": {
        "colab": {
          "base_uri": "https://localhost:8080/"
        },
        "id": "_985IMIhEoar",
        "outputId": "3d42a290-c66c-44e2-f3b9-9aa146048018"
      },
      "execution_count": 21,
      "outputs": [
        {
          "output_type": "stream",
          "name": "stdout",
          "text": [
            "El fichero está vacío\n",
            "Se han cargado 0 películas\n",
            "El catálogo está vacío\n",
            "Se ha creado la película: El Padrino\n",
            "Se ha creado la película: El Padrino: Parte 2\n",
            "El Padrino (1972)\n",
            "El Padrino: Parte 2 (1974)\n"
          ]
        }
      ]
    },
    {
      "cell_type": "code",
      "source": [
        "# Creamos un catálogo\n",
        "c = Catalogo()\n",
        "\n",
        "# Mostramos el contenido\n",
        "c.mostrar()\n",
        "\n",
        "# Agregamos una película\n",
        "c.agregar( Pelicula(\"Prueba\", 100, 2005) )\n",
        "\n",
        "# Mostramos el catálogo de nuevo\n",
        "c.mostrar()"
      ],
      "metadata": {
        "colab": {
          "base_uri": "https://localhost:8080/"
        },
        "id": "_eshx8H8GTcW",
        "outputId": "8c7932d4-578f-477d-ea5b-b7f8e488bbd7"
      },
      "execution_count": 22,
      "outputs": [
        {
          "output_type": "stream",
          "name": "stdout",
          "text": [
            "Se han cargado 2 películas\n",
            "El Padrino (1972)\n",
            "El Padrino: Parte 2 (1974)\n",
            "Se ha creado la película: Prueba\n",
            "El Padrino (1972)\n",
            "El Padrino: Parte 2 (1974)\n",
            "Prueba (2005)\n"
          ]
        }
      ]
    },
    {
      "cell_type": "markdown",
      "source": [
        "##Ficheros CSV"
      ],
      "metadata": {
        "id": "DIkndu-bJlbo"
      }
    },
    {
      "cell_type": "code",
      "source": [
        "#Escritura de listas en CSV\n",
        "\n",
        "import csv\n",
        "\n",
        "contactos = [\n",
        "    (\"Manuel\", \"Desarrollador Web\", \"manuel@ejemplo.com\"),\n",
        "    (\"Lorena\", \"Gestora de proyectos\", \"lorena@ejemplo.com\"),\n",
        "    (\"Javier\", \"Analista de datos\", \"javier@ejemplo.com\"),\n",
        "    (\"Marta\", \"Experta en Python\", \"marta@ejemplo.com\")\n",
        "]\n",
        "\n",
        "with open(\"contactos.csv\", \"w\", newline=\"\\n\") as csvfile:\n",
        "    writer = csv.writer(csvfile, delimiter=\",\")\n",
        "    for contacto in contactos:\n",
        "        writer.writerow(contacto)"
      ],
      "metadata": {
        "id": "q8dIRb1dJk8Y"
      },
      "execution_count": 23,
      "outputs": []
    },
    {
      "cell_type": "code",
      "source": [
        "#Lectura de listas en CSV\n",
        "\n",
        "with open(\"contactos.csv\", newline=\"\\n\") as csvfile:\n",
        "    reader = csv.reader(csvfile, delimiter=\",\")\n",
        "    for nombre, empleo, email in reader:\n",
        "        print(\" {}|{} |{} \".format(nombre, empleo, email))"
      ],
      "metadata": {
        "colab": {
          "base_uri": "https://localhost:8080/"
        },
        "id": "gC5bmhk4GWKV",
        "outputId": "fc00dc90-77c3-4e92-87ff-238bf96c4f88"
      },
      "execution_count": 28,
      "outputs": [
        {
          "output_type": "stream",
          "name": "stdout",
          "text": [
            " Manuel|Desarrollador Web |manuel@ejemplo.com \n",
            " Lorena|Gestora de proyectos |lorena@ejemplo.com \n",
            " Javier|Analista de datos |javier@ejemplo.com \n",
            " Marta|Experta en Python |marta@ejemplo.com \n"
          ]
        }
      ]
    },
    {
      "cell_type": "code",
      "source": [
        "#Escritura de diccionarios en CSV\n",
        "\n",
        "import csv\n",
        "\n",
        "contactos = [\n",
        "    (\"Manuel\", \"Desarrollador Web\", \"manuel@ejemplo.com\"),\n",
        "    (\"Lorena\", \"Gestora de proyectos\", \"lorena@ejemplo.com\"),\n",
        "    (\"Javier\", \"Analista de datos\", \"javier@ejemplo.com\"),\n",
        "    (\"Marta\", \"Experta en Python\", \"marta@ejemplo.com\")\n",
        "]\n",
        "\n",
        "with open(\"contactos.csv\", \"w\", newline=\"\\n\") as csvfile:\n",
        "    campos = [\"nombre\", \"empleo\", \"email\"]\n",
        "    writer = csv.DictWriter(csvfile, fieldnames=campos)\n",
        "    writer.writeheader()\n",
        "    for nombre, empleo, email in contactos:\n",
        "        writer.writerow({\n",
        "            \"nombre\": nombre, \"empleo\": empleo, \"email\": email\n",
        "        })"
      ],
      "metadata": {
        "id": "KpcqrNmqKFGQ"
      },
      "execution_count": 29,
      "outputs": []
    },
    {
      "cell_type": "code",
      "source": [
        "#Lectura de diccionarios en CSV\n",
        "\n",
        "with open(\"contactos.csv\", newline=\"\\n\") as csvfile:\n",
        "    reader = csv.DictReader(csvfile)\n",
        "    for contacto in reader:\n",
        "        print(contacto[\"nombre\"], contacto[\"empleo\"], contacto[\"email\"])"
      ],
      "metadata": {
        "colab": {
          "base_uri": "https://localhost:8080/"
        },
        "id": "H09TKlq6KuOJ",
        "outputId": "77643616-a462-4e35-da9f-cefd4a0506ce"
      },
      "execution_count": 30,
      "outputs": [
        {
          "output_type": "stream",
          "name": "stdout",
          "text": [
            "Manuel Desarrollador Web manuel@ejemplo.com\n",
            "Lorena Gestora de proyectos lorena@ejemplo.com\n",
            "Javier Analista de datos javier@ejemplo.com\n",
            "Marta Experta en Python marta@ejemplo.com\n"
          ]
        }
      ]
    },
    {
      "cell_type": "markdown",
      "source": [
        "##Ficheros JSON\n",
        "\n",
        "**JSON:** Notación de objeto de JavaScript (JavaScript Object Notation)"
      ],
      "metadata": {
        "id": "V1FXBqGHK6Xp"
      }
    },
    {
      "cell_type": "code",
      "source": [
        "#Escritura de datos en JSON\n",
        "\n",
        "import json\n",
        "\n",
        "contactos = [\n",
        "    (\"Manuel\", \"Desarrollador Web\", \"manuel@ejemplo.com\"),\n",
        "    (\"Lorena\", \"Gestora de proyectos\", \"lorena@ejemplo.com\"),\n",
        "    (\"Javier\", \"Analista de datos\", \"javier@ejemplo.com\"),\n",
        "    (\"Marta\", \"Experta en Python\", \"marta@ejemplo.com\")\n",
        "]\n",
        "\n",
        "datos = []\n",
        "\n",
        "for nombre, empleo, email in contactos:\n",
        "    datos.append({\"nombre\":nombre, \"empleo\":empleo, \"email\":email})\n",
        "\n",
        "with open(\"contactos.json\", \"w\") as jsonfile:\n",
        "    json.dump(datos, jsonfile)"
      ],
      "metadata": {
        "id": "VeN7yFh1KwrF"
      },
      "execution_count": 31,
      "outputs": []
    },
    {
      "cell_type": "code",
      "source": [
        "#Lectura de datos en JSON\n",
        "with open(\"contactos.json\") as jsonfile:\n",
        "    datos = json.load(jsonfile)\n",
        "    for contacto in datos:\n",
        "        print(contacto[\"nombre\"], contacto[\"empleo\"], contacto[\"email\"])"
      ],
      "metadata": {
        "colab": {
          "base_uri": "https://localhost:8080/"
        },
        "id": "CpJHzPw7LElf",
        "outputId": "b311378b-0c08-46b8-c83b-e4b83fc41b7e"
      },
      "execution_count": 32,
      "outputs": [
        {
          "output_type": "stream",
          "name": "stdout",
          "text": [
            "Manuel Desarrollador Web manuel@ejemplo.com\n",
            "Lorena Gestora de proyectos lorena@ejemplo.com\n",
            "Javier Analista de datos javier@ejemplo.com\n",
            "Marta Experta en Python marta@ejemplo.com\n"
          ]
        }
      ]
    }
  ]
}