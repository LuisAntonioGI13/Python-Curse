{
  "nbformat": 4,
  "nbformat_minor": 0,
  "metadata": {
    "colab": {
      "provenance": [],
      "authorship_tag": "ABX9TyNKe/fuI427GhQxN+AMahZi",
      "include_colab_link": true
    },
    "kernelspec": {
      "name": "python3",
      "display_name": "Python 3"
    },
    "language_info": {
      "name": "python"
    }
  },
  "cells": [
    {
      "cell_type": "markdown",
      "metadata": {
        "id": "view-in-github",
        "colab_type": "text"
      },
      "source": [
        "<a href=\"https://colab.research.google.com/github/LuisAntonioGI13/Python-Curse/blob/main/Funciones05_08_2023.ipynb\" target=\"_parent\"><img src=\"https://colab.research.google.com/assets/colab-badge.svg\" alt=\"Open In Colab\"/></a>"
      ]
    },
    {
      "cell_type": "markdown",
      "source": [
        "#Área del círculo\n",
        "\n",
        "Realizar una función llamada **area_circulo()** a partir de un rádio\n"
      ],
      "metadata": {
        "id": "3l1x0LuohOuu"
      }
    },
    {
      "cell_type": "code",
      "execution_count": null,
      "metadata": {
        "id": "6AHLEFOcGo_m"
      },
      "outputs": [],
      "source": [
        "import math\n",
        "\n",
        "def area_circulo(radio):\n",
        "  area = math.pi*(radio**2)\n",
        "  return(f'El área del circulo con radio {radio} cm es: {area} cm2')\n",
        "\n"
      ]
    },
    {
      "cell_type": "code",
      "source": [
        "area_circulo(5)"
      ],
      "metadata": {
        "colab": {
          "base_uri": "https://localhost:8080/",
          "height": 35
        },
        "id": "LezkvfswiqVt",
        "outputId": "0b7bb037-efa9-45af-eac7-41580347bf9a"
      },
      "execution_count": null,
      "outputs": [
        {
          "output_type": "execute_result",
          "data": {
            "text/plain": [
              "'El área del circulo con radio 5 cm es: 78.53981633974483 cm2'"
            ],
            "application/vnd.google.colaboratory.intrinsic+json": {
              "type": "string"
            }
          },
          "metadata": {},
          "execution_count": 7
        }
      ]
    },
    {
      "cell_type": "markdown",
      "source": [
        "#Relación\n",
        "\n",
        "Realiza una función llamada **relacion()** que a partir de dos números cumpla lo siguiente:\n",
        "\n",
        "\n",
        "\n",
        "*   Si el primer número es mayor que el segundo, devolver 1.\n",
        "*   Si el primer número es menor que el segundo, devolver -1.\n",
        "*   Si ambos números son iguales, devolver 0\n",
        "\n"
      ],
      "metadata": {
        "id": "gtO_GyKZlBVB"
      }
    },
    {
      "cell_type": "code",
      "source": [
        "def relacion(x1,x2):\n",
        "  if x1>x2:\n",
        "    return (1)\n",
        "  elif x1<x2:\n",
        "    return(-1)\n",
        "  else:\n",
        "    return(0)\n",
        "\n",
        "print(relacion(5,10))\n",
        "print(relacion(10,5))\n",
        "print(relacion(5,5))"
      ],
      "metadata": {
        "colab": {
          "base_uri": "https://localhost:8080/"
        },
        "id": "27QVJf1tk95F",
        "outputId": "bb99dfd7-8b18-4f10-b8e7-dc10c5f60e74"
      },
      "execution_count": null,
      "outputs": [
        {
          "output_type": "stream",
          "name": "stdout",
          "text": [
            "-1\n",
            "1\n",
            "0\n"
          ]
        }
      ]
    },
    {
      "cell_type": "markdown",
      "source": [
        "#Punto medio\n",
        "\n",
        "Realiza una función llamada **intermedio()** que a partir de dos numeros, devuelva su punto intermedio.\n"
      ],
      "metadata": {
        "id": "JzjDiWakkR9w"
      }
    },
    {
      "cell_type": "code",
      "source": [
        "def intermedio(x,y):\n",
        "  return (x+y)/2\n"
      ],
      "metadata": {
        "id": "Hsm3f3G3nH-V"
      },
      "execution_count": null,
      "outputs": []
    },
    {
      "cell_type": "code",
      "source": [
        "intermedio(-12,24)"
      ],
      "metadata": {
        "colab": {
          "base_uri": "https://localhost:8080/"
        },
        "id": "-iLLsa8BOwNS",
        "outputId": "3cdf2509-799d-40ae-c009-3314f768d18c"
      },
      "execution_count": null,
      "outputs": [
        {
          "output_type": "execute_result",
          "data": {
            "text/plain": [
              "6.0"
            ]
          },
          "metadata": {},
          "execution_count": 2
        }
      ]
    },
    {
      "cell_type": "markdown",
      "source": [
        "#Separar listas\n",
        "\n",
        "Realizar una función **separar()** que tome una lista de números enteros y devuelva dos listas ordenadas. la primera con números pares, y la segunda con los números impares."
      ],
      "metadata": {
        "id": "nJSNlYBoPhXg"
      }
    },
    {
      "cell_type": "code",
      "source": [
        "numeros = [-12, 84,13,20,-33,101,9]\n",
        "\n",
        "def separar(lista):\n",
        "  lista.sort()\n",
        "  pares = []\n",
        "  impares = []\n",
        "  for i in lista:\n",
        "    if i%2==0:\n",
        "      pares.append(i)\n",
        "    else:\n",
        "      impares.append(i)\n",
        "\n",
        "  return pares, impares\n",
        "  return impares\n"
      ],
      "metadata": {
        "id": "3aIxKopfO4de"
      },
      "execution_count": null,
      "outputs": []
    },
    {
      "cell_type": "code",
      "source": [
        "separar(numeros)"
      ],
      "metadata": {
        "colab": {
          "base_uri": "https://localhost:8080/"
        },
        "id": "d1mbNFXTRXIg",
        "outputId": "2853c22c-9d06-4eae-f8d8-ef3870377baa"
      },
      "execution_count": null,
      "outputs": [
        {
          "output_type": "execute_result",
          "data": {
            "text/plain": [
              "([-12, 20, 84], [-33, 9, 13, 101])"
            ]
          },
          "metadata": {},
          "execution_count": 6
        }
      ]
    },
    {
      "cell_type": "code",
      "source": [],
      "metadata": {
        "id": "HdaxL384Rb2i"
      },
      "execution_count": null,
      "outputs": []
    }
  ]
}