{
  "nbformat": 4,
  "nbformat_minor": 0,
  "metadata": {
    "colab": {
      "provenance": [],
      "authorship_tag": "ABX9TyMWfPzIHB/dSazhq16D8RMl",
      "include_colab_link": true
    },
    "kernelspec": {
      "name": "python3",
      "display_name": "Python 3"
    },
    "language_info": {
      "name": "python"
    }
  },
  "cells": [
    {
      "cell_type": "markdown",
      "metadata": {
        "id": "view-in-github",
        "colab_type": "text"
      },
      "source": [
        "<a href=\"https://colab.research.google.com/github/LuisAntonioGI13/Python-Curse/blob/main/M%C3%A9todos_de_las_colecciones.ipynb\" target=\"_parent\"><img src=\"https://colab.research.google.com/assets/colab-badge.svg\" alt=\"Open In Colab\"/></a>"
      ]
    },
    {
      "cell_type": "markdown",
      "source": [
        "##Métodos de las cadenas"
      ],
      "metadata": {
        "id": "QUkQo_f_516v"
      }
    },
    {
      "cell_type": "code",
      "execution_count": 2,
      "metadata": {
        "colab": {
          "base_uri": "https://localhost:8080/",
          "height": 35
        },
        "id": "7w-PACIM1f4W",
        "outputId": "476ca28b-3ac5-40d7-dfd2-93458d1a4aa9"
      },
      "outputs": [
        {
          "output_type": "execute_result",
          "data": {
            "text/plain": [
              "'HOLA MUNDO'"
            ],
            "application/vnd.google.colaboratory.intrinsic+json": {
              "type": "string"
            }
          },
          "metadata": {},
          "execution_count": 2
        }
      ],
      "source": [
        "\"Hola Mundo\".upper() #upper() devuelve la cadena en letras mayusculas"
      ]
    },
    {
      "cell_type": "code",
      "source": [
        "\"HOLA MUNDO\".lower() #lower()  devuelve la cadena en letras minusculas"
      ],
      "metadata": {
        "colab": {
          "base_uri": "https://localhost:8080/",
          "height": 35
        },
        "id": "aoLtqH5X6BLV",
        "outputId": "c73840c9-ef7e-4c03-a4a0-668634b1392e"
      },
      "execution_count": 3,
      "outputs": [
        {
          "output_type": "execute_result",
          "data": {
            "text/plain": [
              "'hola mundo'"
            ],
            "application/vnd.google.colaboratory.intrinsic+json": {
              "type": "string"
            }
          },
          "metadata": {},
          "execution_count": 3
        }
      ]
    },
    {
      "cell_type": "code",
      "source": [
        "\"hola mundo\".capitalize() #capitalize() devuelve la cadena con su primer carácter en mayuscula"
      ],
      "metadata": {
        "colab": {
          "base_uri": "https://localhost:8080/",
          "height": 35
        },
        "id": "t2e11USF6VIF",
        "outputId": "8f7fb969-61aa-4158-b4ed-6779cfdeb4a5"
      },
      "execution_count": 4,
      "outputs": [
        {
          "output_type": "execute_result",
          "data": {
            "text/plain": [
              "'Hola mundo'"
            ],
            "application/vnd.google.colaboratory.intrinsic+json": {
              "type": "string"
            }
          },
          "metadata": {},
          "execution_count": 4
        }
      ]
    },
    {
      "cell_type": "code",
      "source": [
        "\"hola mundo\".title() #title() devuelve la cadena con el primer carácter de cada palabra en mayúscula:"
      ],
      "metadata": {
        "colab": {
          "base_uri": "https://localhost:8080/",
          "height": 35
        },
        "id": "lFX3H3vw6hy3",
        "outputId": "6735edd7-9f81-4694-8e4a-1ce3aac21745"
      },
      "execution_count": 5,
      "outputs": [
        {
          "output_type": "execute_result",
          "data": {
            "text/plain": [
              "'Hola Mundo'"
            ],
            "application/vnd.google.colaboratory.intrinsic+json": {
              "type": "string"
            }
          },
          "metadata": {},
          "execution_count": 5
        }
      ]
    },
    {
      "cell_type": "code",
      "source": [
        "\"Hola mundo\".count('mundo') #count() devuelve una cuenta de las veces que aparece una subcadena en la cadena"
      ],
      "metadata": {
        "colab": {
          "base_uri": "https://localhost:8080/"
        },
        "id": "wyLmuaOk7SLr",
        "outputId": "d712df27-c886-48f4-f21d-f893f9a0b29c"
      },
      "execution_count": 6,
      "outputs": [
        {
          "output_type": "execute_result",
          "data": {
            "text/plain": [
              "1"
            ]
          },
          "metadata": {},
          "execution_count": 6
        }
      ]
    },
    {
      "cell_type": "code",
      "source": [
        "\"Hola mundo\".find('mundo') #find() devuelve el índice en el que aparece la subcadena (-1 si no aparece)"
      ],
      "metadata": {
        "colab": {
          "base_uri": "https://localhost:8080/"
        },
        "id": "hAkXWWX37cbB",
        "outputId": "4bdc4971-179c-4a3b-a742-e65af9f1e48a"
      },
      "execution_count": 8,
      "outputs": [
        {
          "output_type": "execute_result",
          "data": {
            "text/plain": [
              "5"
            ]
          },
          "metadata": {},
          "execution_count": 8
        }
      ]
    },
    {
      "cell_type": "code",
      "source": [
        "\"Hola mundo mundo mundo\".rfind('mundo') #rfind() devuelve el índice en el que aparece la subcadena, empezando por el final"
      ],
      "metadata": {
        "colab": {
          "base_uri": "https://localhost:8080/"
        },
        "id": "o7gdyr4f7r6Q",
        "outputId": "dbc79b1b-2af7-4731-b1b7-1ec011450a68"
      },
      "execution_count": 9,
      "outputs": [
        {
          "output_type": "execute_result",
          "data": {
            "text/plain": [
              "17"
            ]
          },
          "metadata": {},
          "execution_count": 9
        }
      ]
    },
    {
      "cell_type": "code",
      "source": [
        "c = \"100\"   #isdigit() devuelve True si la cadena es todo números (False en caso contrario)\n",
        "c.isdigit()"
      ],
      "metadata": {
        "colab": {
          "base_uri": "https://localhost:8080/"
        },
        "id": "wRcOACJr7-mo",
        "outputId": "9bb6e810-7eb5-4880-e10e-193e609c3aae"
      },
      "execution_count": 10,
      "outputs": [
        {
          "output_type": "execute_result",
          "data": {
            "text/plain": [
              "True"
            ]
          },
          "metadata": {},
          "execution_count": 10
        }
      ]
    },
    {
      "cell_type": "code",
      "source": [
        "c = \"ABC10034po._\" #isalnum() devuelve True si la cadena es todo números o carácteres alfabéticos\n",
        "c.isalnum()"
      ],
      "metadata": {
        "colab": {
          "base_uri": "https://localhost:8080/"
        },
        "id": "Wq-5qCkH8I2T",
        "outputId": "5083df65-dc6d-4ef0-d827-94b27de4e946"
      },
      "execution_count": 12,
      "outputs": [
        {
          "output_type": "execute_result",
          "data": {
            "text/plain": [
              "False"
            ]
          },
          "metadata": {},
          "execution_count": 12
        }
      ]
    },
    {
      "cell_type": "code",
      "source": [
        "c = \"ABC10034po\"  #isalpha() devuelve True si la cadena es todo carácteres alfabéticos\n",
        "c.isalpha()"
      ],
      "metadata": {
        "colab": {
          "base_uri": "https://localhost:8080/"
        },
        "id": "TfOx8XUW8VNq",
        "outputId": "e99ea0cd-5996-4f1f-fe11-698c955c0add"
      },
      "execution_count": 13,
      "outputs": [
        {
          "output_type": "execute_result",
          "data": {
            "text/plain": [
              "False"
            ]
          },
          "metadata": {},
          "execution_count": 13
        }
      ]
    },
    {
      "cell_type": "code",
      "source": [
        "\"Hola mundo\".islower() #islower() devuelve True si la cadena es todo minúsculas"
      ],
      "metadata": {
        "colab": {
          "base_uri": "https://localhost:8080/"
        },
        "id": "q326ULld8fu6",
        "outputId": "87836a07-2075-44af-aa60-61736292e7a1"
      },
      "execution_count": 14,
      "outputs": [
        {
          "output_type": "execute_result",
          "data": {
            "text/plain": [
              "False"
            ]
          },
          "metadata": {},
          "execution_count": 14
        }
      ]
    },
    {
      "cell_type": "code",
      "source": [
        "\"Hola mundo\".isupper() #isupper() devuelve True si la cadena es todo mayúsculas"
      ],
      "metadata": {
        "colab": {
          "base_uri": "https://localhost:8080/"
        },
        "id": "aslVmn_E8nzB",
        "outputId": "b1384d87-0efc-4cb8-ce38-705fb4474181"
      },
      "execution_count": 15,
      "outputs": [
        {
          "output_type": "execute_result",
          "data": {
            "text/plain": [
              "False"
            ]
          },
          "metadata": {},
          "execution_count": 15
        }
      ]
    },
    {
      "cell_type": "code",
      "source": [
        "\"Hola Mundo\".istitle() # istitle() Devuelve True si la primera letra de cada palabra es mayúscula"
      ],
      "metadata": {
        "colab": {
          "base_uri": "https://localhost:8080/"
        },
        "id": "wzAvTM7v8vPx",
        "outputId": "d2ba6260-3d3c-40ab-85e6-d69daa53576f"
      },
      "execution_count": 16,
      "outputs": [
        {
          "output_type": "execute_result",
          "data": {
            "text/plain": [
              "True"
            ]
          },
          "metadata": {},
          "execution_count": 16
        }
      ]
    },
    {
      "cell_type": "code",
      "source": [
        "\"  -  \".isspace()  #isspace() devuelve True si la cadena es todo espacios"
      ],
      "metadata": {
        "colab": {
          "base_uri": "https://localhost:8080/"
        },
        "id": "yQ3_eXhQ834x",
        "outputId": "a4c90cb1-dc51-4a7b-fca6-6c4c70c45668"
      },
      "execution_count": 20,
      "outputs": [
        {
          "output_type": "execute_result",
          "data": {
            "text/plain": [
              "False"
            ]
          },
          "metadata": {},
          "execution_count": 20
        }
      ]
    },
    {
      "cell_type": "code",
      "source": [
        "\"Hola mundo\".startswith(\"Mola\") #startswith() devuelve True si la cadena empieza con una subcadena"
      ],
      "metadata": {
        "colab": {
          "base_uri": "https://localhost:8080/"
        },
        "id": "rSDw4Z4H8_yq",
        "outputId": "81fbd8fb-f84c-40b8-c683-7afbfb67a608"
      },
      "execution_count": 19,
      "outputs": [
        {
          "output_type": "execute_result",
          "data": {
            "text/plain": [
              "False"
            ]
          },
          "metadata": {},
          "execution_count": 19
        }
      ]
    },
    {
      "cell_type": "code",
      "source": [
        "\"Hola mundo\".endswith('mundo') #endswith() devuelve True si la cadena acaba con una subcadena"
      ],
      "metadata": {
        "colab": {
          "base_uri": "https://localhost:8080/"
        },
        "id": "ZOMsagHe9IEd",
        "outputId": "a8412bdb-7326-4da7-f60e-5dde91a3cfb8"
      },
      "execution_count": 22,
      "outputs": [
        {
          "output_type": "execute_result",
          "data": {
            "text/plain": [
              "True"
            ]
          },
          "metadata": {},
          "execution_count": 22
        }
      ]
    },
    {
      "cell_type": "code",
      "source": [
        "\"Hola mundo mundo\".split()[0] #split() Separa la cadena en subcadenas a partir de sus espacios y devuelve una lista"
      ],
      "metadata": {
        "colab": {
          "base_uri": "https://localhost:8080/",
          "height": 35
        },
        "id": "Uecw0qVN9RgI",
        "outputId": "6b051ae2-b542-4382-e48d-be78b7359bbb"
      },
      "execution_count": 24,
      "outputs": [
        {
          "output_type": "execute_result",
          "data": {
            "text/plain": [
              "'Hola'"
            ],
            "application/vnd.google.colaboratory.intrinsic+json": {
              "type": "string"
            }
          },
          "metadata": {},
          "execution_count": 24
        }
      ]
    },
    {
      "cell_type": "code",
      "source": [
        "\"Hola,mundo,mundo,otra,palabra\".split(',')"
      ],
      "metadata": {
        "colab": {
          "base_uri": "https://localhost:8080/"
        },
        "id": "30GWePbH9YII",
        "outputId": "85e32cc6-dce3-4eb5-ed2e-edf91ea43db5"
      },
      "execution_count": 25,
      "outputs": [
        {
          "output_type": "execute_result",
          "data": {
            "text/plain": [
              "['Hola', 'mundo', 'mundo', 'otra', 'palabra']"
            ]
          },
          "metadata": {},
          "execution_count": 25
        }
      ]
    },
    {
      "cell_type": "code",
      "source": [
        "\",\".join(\"Hola mundo\") #join() Une todos los caracteres de una cadena utilizando un caracter de unión"
      ],
      "metadata": {
        "colab": {
          "base_uri": "https://localhost:8080/",
          "height": 35
        },
        "id": "abAm3tLG9bsS",
        "outputId": "9352e35f-dce0-49e6-ea55-79203df7aa6f"
      },
      "execution_count": 26,
      "outputs": [
        {
          "output_type": "execute_result",
          "data": {
            "text/plain": [
              "'H,o,l,a, ,m,u,n,d,o'"
            ],
            "application/vnd.google.colaboratory.intrinsic+json": {
              "type": "string"
            }
          },
          "metadata": {},
          "execution_count": 26
        }
      ]
    },
    {
      "cell_type": "code",
      "source": [
        "\" \".join(\"Hola\")"
      ],
      "metadata": {
        "colab": {
          "base_uri": "https://localhost:8080/",
          "height": 35
        },
        "id": "S20i1RBc9kpT",
        "outputId": "8f2e21e3-e880-4126-8b18-a73a1cf69b2e"
      },
      "execution_count": 27,
      "outputs": [
        {
          "output_type": "execute_result",
          "data": {
            "text/plain": [
              "'H o l a'"
            ],
            "application/vnd.google.colaboratory.intrinsic+json": {
              "type": "string"
            }
          },
          "metadata": {},
          "execution_count": 27
        }
      ]
    },
    {
      "cell_type": "code",
      "source": [
        "\"   Hola mundo     \".strip() #strip() Borra todos los espacios por delante y detrás de una cadena y la devuelve"
      ],
      "metadata": {
        "colab": {
          "base_uri": "https://localhost:8080/",
          "height": 35
        },
        "id": "6TOFzYQE9nLv",
        "outputId": "e1bffcc2-44d5-4e0c-b083-d3800cff4228"
      },
      "execution_count": 29,
      "outputs": [
        {
          "output_type": "execute_result",
          "data": {
            "text/plain": [
              "'Hola mundo'"
            ],
            "application/vnd.google.colaboratory.intrinsic+json": {
              "type": "string"
            }
          },
          "metadata": {},
          "execution_count": 29
        }
      ]
    },
    {
      "cell_type": "code",
      "source": [
        "\"Hola mundo\".replace('o','0') #replace() Reemplaza una subcadena de una cadena por otra y la devuelve"
      ],
      "metadata": {
        "colab": {
          "base_uri": "https://localhost:8080/",
          "height": 35
        },
        "id": "3O1uK5OF9t0d",
        "outputId": "97528785-532a-4db4-fb10-05ed1ec6920a"
      },
      "execution_count": 30,
      "outputs": [
        {
          "output_type": "execute_result",
          "data": {
            "text/plain": [
              "'H0la mund0'"
            ],
            "application/vnd.google.colaboratory.intrinsic+json": {
              "type": "string"
            }
          },
          "metadata": {},
          "execution_count": 30
        }
      ]
    },
    {
      "cell_type": "markdown",
      "source": [
        "##Métodos de las listas"
      ],
      "metadata": {
        "id": "7LCJOnoS-AXK"
      }
    },
    {
      "cell_type": "code",
      "source": [
        "lista = [1,2,3,4,5]  #append() Añade un ítem al final de la lista\n",
        "lista.append(6)\n",
        "lista"
      ],
      "metadata": {
        "colab": {
          "base_uri": "https://localhost:8080/"
        },
        "id": "xcUAHQME91p2",
        "outputId": "28f6d945-67cd-4ac8-b3b1-02a594e38760"
      },
      "execution_count": 31,
      "outputs": [
        {
          "output_type": "execute_result",
          "data": {
            "text/plain": [
              "[1, 2, 3, 4, 5, 6]"
            ]
          },
          "metadata": {},
          "execution_count": 31
        }
      ]
    },
    {
      "cell_type": "code",
      "source": [
        "lista.clear() #clear() Vacía todos los ítems de una lista\n",
        "lista"
      ],
      "metadata": {
        "colab": {
          "base_uri": "https://localhost:8080/"
        },
        "id": "ToqQRdX3-WAl",
        "outputId": "3f3b9b91-14f4-400b-a11f-58c828afe1e5"
      },
      "execution_count": 32,
      "outputs": [
        {
          "output_type": "execute_result",
          "data": {
            "text/plain": [
              "[]"
            ]
          },
          "metadata": {},
          "execution_count": 32
        }
      ]
    },
    {
      "cell_type": "code",
      "source": [
        "l1 = [1,2,3]   #extend() Une una lista a otra\n",
        "l2 = [4,5,6]\n",
        "l1.extend(l2)\n",
        "l1"
      ],
      "metadata": {
        "colab": {
          "base_uri": "https://localhost:8080/"
        },
        "id": "GvAj41mU-dJm",
        "outputId": "77a64c0a-4053-4b40-8ad0-e660e86bee70"
      },
      "execution_count": 33,
      "outputs": [
        {
          "output_type": "execute_result",
          "data": {
            "text/plain": [
              "[1, 2, 3, 4, 5, 6]"
            ]
          },
          "metadata": {},
          "execution_count": 33
        }
      ]
    },
    {
      "cell_type": "code",
      "source": [
        "[\"Hola\", \"mundo\", \"mundo\"].count(\"Hola\") #count() Cuenta el número de veces que aparece un ítem\n"
      ],
      "metadata": {
        "colab": {
          "base_uri": "https://localhost:8080/"
        },
        "id": "mvV8JcwX-j9i",
        "outputId": "c6d0c992-4309-4c56-ee07-c8b27781758e"
      },
      "execution_count": 34,
      "outputs": [
        {
          "output_type": "execute_result",
          "data": {
            "text/plain": [
              "1"
            ]
          },
          "metadata": {},
          "execution_count": 34
        }
      ]
    },
    {
      "cell_type": "code",
      "source": [
        "[\"Hola\", \"mundo\", \"mundo\"].index(\"mundo\") # index() Devuelve el índice en el que aparece un ítem (error si no aparece)"
      ],
      "metadata": {
        "colab": {
          "base_uri": "https://localhost:8080/"
        },
        "id": "LMJNdwXd-uZs",
        "outputId": "60c03754-ec4f-432b-faf6-df69b06961c2"
      },
      "execution_count": 35,
      "outputs": [
        {
          "output_type": "execute_result",
          "data": {
            "text/plain": [
              "1"
            ]
          },
          "metadata": {},
          "execution_count": 35
        }
      ]
    },
    {
      "cell_type": "code",
      "source": [
        "l = [1,2,3]  #insert() Agrega un ítem a la lista en un índice específico\n",
        "l.insert(0,0)\n",
        "l"
      ],
      "metadata": {
        "colab": {
          "base_uri": "https://localhost:8080/"
        },
        "id": "FWnRWNQA-5pf",
        "outputId": "71c4540f-29fc-4e7e-e3c9-408f074cb795"
      },
      "execution_count": 36,
      "outputs": [
        {
          "output_type": "execute_result",
          "data": {
            "text/plain": [
              "[0, 1, 2, 3]"
            ]
          },
          "metadata": {},
          "execution_count": 36
        }
      ]
    },
    {
      "cell_type": "code",
      "source": [
        "l = [5,10,15,25] #Penúltima posición (-1):\n",
        "l.insert(-1,20)\n",
        "l"
      ],
      "metadata": {
        "colab": {
          "base_uri": "https://localhost:8080/"
        },
        "id": "jzEWWJNX-_-6",
        "outputId": "410a67c2-8fa0-47f1-9c95-a7fcd5afabfe"
      },
      "execution_count": 37,
      "outputs": [
        {
          "output_type": "execute_result",
          "data": {
            "text/plain": [
              "[5, 10, 15, 20, 25]"
            ]
          },
          "metadata": {},
          "execution_count": 37
        }
      ]
    },
    {
      "cell_type": "code",
      "source": [
        "l = [5,10,15,25]  #Última posición en una lista con len()\n",
        "n = len(l)\n",
        "l.insert(n,30)\n",
        "l"
      ],
      "metadata": {
        "colab": {
          "base_uri": "https://localhost:8080/"
        },
        "id": "tuW__hBTCeLw",
        "outputId": "cda42908-e9c2-4475-a88c-67e084d34aac"
      },
      "execution_count": 38,
      "outputs": [
        {
          "output_type": "execute_result",
          "data": {
            "text/plain": [
              "[5, 10, 15, 25, 30]"
            ]
          },
          "metadata": {},
          "execution_count": 38
        }
      ]
    },
    {
      "cell_type": "code",
      "source": [
        "l.insert(999, 35) #Una posición fuera de rango añade el elemento al final de la lista (999)\n",
        "l"
      ],
      "metadata": {
        "colab": {
          "base_uri": "https://localhost:8080/"
        },
        "id": "4vcMUTcpCpCQ",
        "outputId": "f4531403-45a7-46e6-b9ac-27f8ebd63df2"
      },
      "execution_count": 39,
      "outputs": [
        {
          "output_type": "execute_result",
          "data": {
            "text/plain": [
              "[5, 10, 15, 25, 30, 35]"
            ]
          },
          "metadata": {},
          "execution_count": 39
        }
      ]
    },
    {
      "cell_type": "code",
      "source": [
        "l = [10,20,30,40,50]  #pop() Extrae un ítem de la lista y lo borra\n",
        "print(l.pop())\n",
        "print(l)"
      ],
      "metadata": {
        "colab": {
          "base_uri": "https://localhost:8080/"
        },
        "id": "Gl6PVy93C1L8",
        "outputId": "0e7068cc-9711-4bb8-b2ae-e41033918581"
      },
      "execution_count": 40,
      "outputs": [
        {
          "output_type": "stream",
          "name": "stdout",
          "text": [
            "50\n",
            "[10, 20, 30, 40]\n"
          ]
        }
      ]
    },
    {
      "cell_type": "code",
      "source": [
        "l = [10,20,30,40,50] #pop() Extrae un ítem de la lista y lo borra:\n",
        "print(l.pop())\n",
        "print(l)"
      ],
      "metadata": {
        "colab": {
          "base_uri": "https://localhost:8080/"
        },
        "id": "ZHdQM1PdC7g8",
        "outputId": "aa00cd70-d69b-4b6c-f6b2-eb0ffc8869b3"
      },
      "execution_count": 41,
      "outputs": [
        {
          "output_type": "stream",
          "name": "stdout",
          "text": [
            "50\n",
            "[10, 20, 30, 40]\n"
          ]
        }
      ]
    },
    {
      "cell_type": "code",
      "source": [
        "print(l.pop(0)) #Podemos indicarle un índice con el elemento a sacar (0 es el primer ítem)\n",
        "print(l)"
      ],
      "metadata": {
        "colab": {
          "base_uri": "https://localhost:8080/"
        },
        "id": "QnMoFApUOsJn",
        "outputId": "6bce2e55-5d57-4aff-e52f-4e4296d4ec47"
      },
      "execution_count": 42,
      "outputs": [
        {
          "output_type": "stream",
          "name": "stdout",
          "text": [
            "10\n",
            "[20, 30, 40]\n"
          ]
        }
      ]
    },
    {
      "cell_type": "code",
      "source": [
        "l = [20,30,30,30,40]  #remove() Borra el primer ítem de la lista cuyo valor concuerde con el que indicamos\n",
        "l.remove(30)\n",
        "print(l)"
      ],
      "metadata": {
        "colab": {
          "base_uri": "https://localhost:8080/"
        },
        "id": "lPNUS7TBOwhP",
        "outputId": "72727175-8748-4854-f2e9-4b41912ec215"
      },
      "execution_count": 43,
      "outputs": [
        {
          "output_type": "stream",
          "name": "stdout",
          "text": [
            "[20, 30, 30, 40]\n"
          ]
        }
      ]
    },
    {
      "cell_type": "code",
      "source": [
        "l.reverse() #reverse() Le da la vuelta a la lista actual\n",
        "print(l)"
      ],
      "metadata": {
        "colab": {
          "base_uri": "https://localhost:8080/"
        },
        "id": "PzvqdlfIO5n5",
        "outputId": "8ea9bd81-40d1-4593-9d37-e28874d37151"
      },
      "execution_count": 44,
      "outputs": [
        {
          "output_type": "stream",
          "name": "stdout",
          "text": [
            "[40, 30, 30, 20]\n"
          ]
        }
      ]
    },
    {
      "cell_type": "code",
      "source": [
        "lista = [5,-10,35,0,-65,100] #sort() Ordena automáticamente los ítems de una lista por su valor de menor a mayor\n",
        "lista.sort()\n",
        "lista"
      ],
      "metadata": {
        "colab": {
          "base_uri": "https://localhost:8080/"
        },
        "id": "NPWkz6ceQJ2n",
        "outputId": "afc553af-945b-4e0b-c405-d203c998e005"
      },
      "execution_count": 45,
      "outputs": [
        {
          "output_type": "execute_result",
          "data": {
            "text/plain": [
              "[-65, -10, 0, 5, 35, 100]"
            ]
          },
          "metadata": {},
          "execution_count": 45
        }
      ]
    },
    {
      "cell_type": "markdown",
      "source": [
        "##Conjuntos"
      ],
      "metadata": {
        "id": "kn9NjwgTQdXx"
      }
    },
    {
      "cell_type": "code",
      "source": [
        "c = set() #add() Añade un ítem a un conjunto, si ya existe no lo añade\n",
        "c.add(1)\n",
        "c.add(2)\n",
        "c.add(3)\n",
        "c"
      ],
      "metadata": {
        "colab": {
          "base_uri": "https://localhost:8080/"
        },
        "id": "yRGTtS_OQVeO",
        "outputId": "f417352e-121f-4be0-b844-20382698fd42"
      },
      "execution_count": 46,
      "outputs": [
        {
          "output_type": "execute_result",
          "data": {
            "text/plain": [
              "{1, 2, 3}"
            ]
          },
          "metadata": {},
          "execution_count": 46
        }
      ]
    },
    {
      "cell_type": "code",
      "source": [
        "c.discard(1) #discard() Borra un ítem de un conjunto\n",
        "c"
      ],
      "metadata": {
        "colab": {
          "base_uri": "https://localhost:8080/"
        },
        "id": "xRKMKlmmQqyW",
        "outputId": "de9b5995-b25b-4b7c-9a85-144c0231e6f7"
      },
      "execution_count": 47,
      "outputs": [
        {
          "output_type": "execute_result",
          "data": {
            "text/plain": [
              "{2, 3}"
            ]
          },
          "metadata": {},
          "execution_count": 47
        }
      ]
    },
    {
      "cell_type": "code",
      "source": [
        "c1 = {1,2,3,4} #copy() Devuelva una copia de un conjunto, ya que éstos como la mayoría de colecciones se almacenan por referencia\n",
        "c2 = c1.copy()\n",
        "print(c1, c2)\n",
        "c2.discard(4)\n",
        "print(c1, c2)"
      ],
      "metadata": {
        "colab": {
          "base_uri": "https://localhost:8080/"
        },
        "id": "Xm0kYnt8QrHd",
        "outputId": "ee99b808-d85e-482d-ccfc-ff513344c308"
      },
      "execution_count": 54,
      "outputs": [
        {
          "output_type": "stream",
          "name": "stdout",
          "text": [
            "{1, 2, 3, 4} {1, 2, 3, 4}\n",
            "{1, 2, 3, 4} {1, 2, 3}\n"
          ]
        }
      ]
    },
    {
      "cell_type": "code",
      "source": [
        "c2.clear() #clear() Borra todos los ítems de un conjunto\n",
        "c2"
      ],
      "metadata": {
        "colab": {
          "base_uri": "https://localhost:8080/"
        },
        "id": "SXHD0iALQraJ",
        "outputId": "7b17127c-f9ec-472b-9640-a4061b8e6eab"
      },
      "execution_count": 55,
      "outputs": [
        {
          "output_type": "execute_result",
          "data": {
            "text/plain": [
              "set()"
            ]
          },
          "metadata": {},
          "execution_count": 55
        }
      ]
    },
    {
      "cell_type": "markdown",
      "source": [
        "###Comparación de conjuntos"
      ],
      "metadata": {
        "id": "0IY_6fdXXNo_"
      }
    },
    {
      "cell_type": "code",
      "source": [
        "c1 = {1,2,3}\n",
        "c2 = {3,4,5}\n",
        "c3 = {-1,99}\n",
        "c4 = {1,2,3,4,5}"
      ],
      "metadata": {
        "id": "Y9k2XQwyQllu"
      },
      "execution_count": 56,
      "outputs": []
    },
    {
      "cell_type": "code",
      "source": [
        "c1.isdisjoint(c2) #isdisjoint() Comprueba si el conjunto es disjunto de otro conjunto, es decir, si no hay ningún elemento en común entre ellos"
      ],
      "metadata": {
        "colab": {
          "base_uri": "https://localhost:8080/"
        },
        "id": "YIfK3Ne5Wy2f",
        "outputId": "ee84fd60-38c5-439d-d05c-b1c68cc9e1ff"
      },
      "execution_count": 58,
      "outputs": [
        {
          "output_type": "execute_result",
          "data": {
            "text/plain": [
              "False"
            ]
          },
          "metadata": {},
          "execution_count": 58
        }
      ]
    },
    {
      "cell_type": "code",
      "source": [
        "c3.issubset(c4) #issubset() Comprueba si el conjunto es subconjunto de otro conjunto, es decir, si sus ítems se encuentran todos dentro de otro"
      ],
      "metadata": {
        "colab": {
          "base_uri": "https://localhost:8080/"
        },
        "id": "3y7Lh2ypWzH6",
        "outputId": "e6b0cca1-625b-4746-9e19-4d13de307284"
      },
      "execution_count": 59,
      "outputs": [
        {
          "output_type": "execute_result",
          "data": {
            "text/plain": [
              "False"
            ]
          },
          "metadata": {},
          "execution_count": 59
        }
      ]
    },
    {
      "cell_type": "code",
      "source": [
        "c3.issuperset(c1) #issuperset() Comprueba si el conjunto es contenedor de otro subconjunto, es decir, si contiene todos los ítems de otro"
      ],
      "metadata": {
        "colab": {
          "base_uri": "https://localhost:8080/"
        },
        "id": "HHvipMNKWzYN",
        "outputId": "bb92ce3b-eca8-4ebb-f93a-e321015bf525"
      },
      "execution_count": 60,
      "outputs": [
        {
          "output_type": "execute_result",
          "data": {
            "text/plain": [
              "False"
            ]
          },
          "metadata": {},
          "execution_count": 60
        }
      ]
    },
    {
      "cell_type": "code",
      "source": [
        "c1 = {1,2,3}  #union() Une un conjunto a otro y devuelve el resultado en un nuevo conjunto\n",
        "c2 = {3,4,5}\n",
        "c3 = c1.union(c2)\n",
        "print(c1, \"+\", c2, \"=\", c3)"
      ],
      "metadata": {
        "colab": {
          "base_uri": "https://localhost:8080/"
        },
        "id": "0S6xKMn8WzkN",
        "outputId": "4b2bcb44-7308-4cd6-8b00-95fe3039d94c"
      },
      "execution_count": 61,
      "outputs": [
        {
          "output_type": "stream",
          "name": "stdout",
          "text": [
            "{1, 2, 3} + {3, 4, 5} = {1, 2, 3, 4, 5}\n"
          ]
        }
      ]
    },
    {
      "cell_type": "code",
      "source": [
        "c1.update(c2) #update() Une un conjunto a otro en el propio conjunto\n",
        "c1"
      ],
      "metadata": {
        "colab": {
          "base_uri": "https://localhost:8080/"
        },
        "id": "XGzFLwQyXsF6",
        "outputId": "a60b9da1-9197-414a-d12f-d9f42caae9ab"
      },
      "execution_count": 62,
      "outputs": [
        {
          "output_type": "execute_result",
          "data": {
            "text/plain": [
              "{1, 2, 3, 4, 5}"
            ]
          },
          "metadata": {},
          "execution_count": 62
        }
      ]
    },
    {
      "cell_type": "code",
      "source": [
        "c1 = {1,2,3}  #difference() Encuentra los elementos no comunes entre dos conjuntos\n",
        "c2 = {3,4,5}\n",
        "\n",
        "c1.difference(c2)"
      ],
      "metadata": {
        "colab": {
          "base_uri": "https://localhost:8080/"
        },
        "id": "S-_Fl8waXsP8",
        "outputId": "bb112b31-cef1-406b-ab12-d7ab1ed29aef"
      },
      "execution_count": 63,
      "outputs": [
        {
          "output_type": "execute_result",
          "data": {
            "text/plain": [
              "{1, 2}"
            ]
          },
          "metadata": {},
          "execution_count": 63
        }
      ]
    },
    {
      "cell_type": "code",
      "source": [
        "c1.difference_update(c2) #difference_update() Guarda en el conjunto los elementos no comunes entre dos conjuntos\n",
        "c1"
      ],
      "metadata": {
        "colab": {
          "base_uri": "https://localhost:8080/"
        },
        "id": "ZDO3XrB0Xsb7",
        "outputId": "01eb0a81-cf97-4fae-be1e-52a5a3d6cb23"
      },
      "execution_count": 64,
      "outputs": [
        {
          "output_type": "execute_result",
          "data": {
            "text/plain": [
              "{1, 2}"
            ]
          },
          "metadata": {},
          "execution_count": 64
        }
      ]
    },
    {
      "cell_type": "code",
      "source": [
        "c1 = {1,2,3}  #intersection() Devuelve un conjunto con los elementos comunes en dos conjuntos\n",
        "c2 = {3,4,5}\n",
        "\n",
        "c1.intersection(c2)"
      ],
      "metadata": {
        "colab": {
          "base_uri": "https://localhost:8080/"
        },
        "id": "76Njnt5gXsji",
        "outputId": "87b833b7-8c9b-425e-a0e8-b7d745459d8c"
      },
      "execution_count": 65,
      "outputs": [
        {
          "output_type": "execute_result",
          "data": {
            "text/plain": [
              "{3}"
            ]
          },
          "metadata": {},
          "execution_count": 65
        }
      ]
    },
    {
      "cell_type": "code",
      "source": [
        "c1.intersection_update(c2) #intersection_update() Guarda en el conjunto los elementos comunes entre dos conjuntos\n",
        "c1"
      ],
      "metadata": {
        "colab": {
          "base_uri": "https://localhost:8080/"
        },
        "id": "xoh8xZnHXssF",
        "outputId": "5117f514-0f4a-4cec-9f7e-7c1a9c5bc1cc"
      },
      "execution_count": 66,
      "outputs": [
        {
          "output_type": "execute_result",
          "data": {
            "text/plain": [
              "{3}"
            ]
          },
          "metadata": {},
          "execution_count": 66
        }
      ]
    },
    {
      "cell_type": "code",
      "source": [
        "c1 = {1,2,3}  #symmetric_difference() Devuelve los elementos simétricamente diferentes entre dos conjuntos, es decir, todos los elementos que no concuerdan entre los dos conjuntos\n",
        "c2 = {3,4,5}\n",
        "\n",
        "c1.symmetric_difference(c2)"
      ],
      "metadata": {
        "colab": {
          "base_uri": "https://localhost:8080/"
        },
        "id": "q-BYapMAXszS",
        "outputId": "6d8d0e3d-96e2-4d41-ffaf-c2a2c1587840"
      },
      "execution_count": 67,
      "outputs": [
        {
          "output_type": "execute_result",
          "data": {
            "text/plain": [
              "{1, 2, 4, 5}"
            ]
          },
          "metadata": {},
          "execution_count": 67
        }
      ]
    },
    {
      "cell_type": "markdown",
      "source": [
        "##Diccionarios"
      ],
      "metadata": {
        "id": "428td5K1QjYG"
      }
    },
    {
      "cell_type": "code",
      "source": [
        "colores = { \"amarillo\":\"yellow\", \"azul\":\"blue\", \"verde\":\"green\" }"
      ],
      "metadata": {
        "id": "y7BXcnD4Xs6Z"
      },
      "execution_count": 68,
      "outputs": []
    },
    {
      "cell_type": "code",
      "source": [
        "colores.get('negro','no se encuentra')    #get() Busca un elemento a partir de su clave y si no lo encuentra devuelve un valor por defecto"
      ],
      "metadata": {
        "colab": {
          "base_uri": "https://localhost:8080/",
          "height": 35
        },
        "id": "acbXq9R7mhiA",
        "outputId": "793e0626-30d4-4563-9aa3-752d7a86dd7e"
      },
      "execution_count": 70,
      "outputs": [
        {
          "output_type": "execute_result",
          "data": {
            "text/plain": [
              "'no se encuentra'"
            ],
            "application/vnd.google.colaboratory.intrinsic+json": {
              "type": "string"
            }
          },
          "metadata": {},
          "execution_count": 70
        }
      ]
    },
    {
      "cell_type": "code",
      "source": [
        "colores.keys()    #keys() Genera una lista en clave de los registros del diccionario"
      ],
      "metadata": {
        "colab": {
          "base_uri": "https://localhost:8080/"
        },
        "id": "QoBatRHXmpg1",
        "outputId": "839a6a02-b1b8-4d77-dd65-faf31ae78410"
      },
      "execution_count": 71,
      "outputs": [
        {
          "output_type": "execute_result",
          "data": {
            "text/plain": [
              "dict_keys(['amarillo', 'azul', 'verde'])"
            ]
          },
          "metadata": {},
          "execution_count": 71
        }
      ]
    },
    {
      "cell_type": "code",
      "source": [
        "colores.items()   #items() Genera una lista en clave-valor de los registros del diccionario"
      ],
      "metadata": {
        "colab": {
          "base_uri": "https://localhost:8080/"
        },
        "id": "m-3ev_HBmyGK",
        "outputId": "b6822a73-28d2-4618-b14e-522da4a5b4ed"
      },
      "execution_count": 72,
      "outputs": [
        {
          "output_type": "execute_result",
          "data": {
            "text/plain": [
              "dict_items([('amarillo', 'yellow'), ('azul', 'blue'), ('verde', 'green')])"
            ]
          },
          "metadata": {},
          "execution_count": 72
        }
      ]
    },
    {
      "cell_type": "code",
      "source": [
        "for clave, valor in colores.items():\n",
        "    print(clave, valor)"
      ],
      "metadata": {
        "colab": {
          "base_uri": "https://localhost:8080/"
        },
        "id": "__HPMl6xm8W5",
        "outputId": "89faee58-123e-4eb1-d95c-e205d6baf682"
      },
      "execution_count": 73,
      "outputs": [
        {
          "output_type": "stream",
          "name": "stdout",
          "text": [
            "amarillo yellow\n",
            "azul blue\n",
            "verde green\n"
          ]
        }
      ]
    },
    {
      "cell_type": "code",
      "source": [
        "colores.pop(\"amarillo\", \"no se ha encontrado\")   # pop() Extrae un registro de un diccionario a partir de su clave y lo borra, acepta valor por defecto"
      ],
      "metadata": {
        "colab": {
          "base_uri": "https://localhost:8080/",
          "height": 35
        },
        "id": "i0TDgF_Qm_7e",
        "outputId": "67c72877-54aa-4381-ac91-64a88fa36fa1"
      },
      "execution_count": 74,
      "outputs": [
        {
          "output_type": "execute_result",
          "data": {
            "text/plain": [
              "'yellow'"
            ],
            "application/vnd.google.colaboratory.intrinsic+json": {
              "type": "string"
            }
          },
          "metadata": {},
          "execution_count": 74
        }
      ]
    },
    {
      "cell_type": "code",
      "source": [
        "colores.pop(\"negro\",\"no se ha encontrado\")"
      ],
      "metadata": {
        "colab": {
          "base_uri": "https://localhost:8080/",
          "height": 35
        },
        "id": "hFBDDPW7nHtY",
        "outputId": "08b501d3-a069-4880-b2dd-9587045cc1f0"
      },
      "execution_count": 75,
      "outputs": [
        {
          "output_type": "execute_result",
          "data": {
            "text/plain": [
              "'no se ha encontrado'"
            ],
            "application/vnd.google.colaboratory.intrinsic+json": {
              "type": "string"
            }
          },
          "metadata": {},
          "execution_count": 75
        }
      ]
    },
    {
      "cell_type": "code",
      "source": [
        "colores.clear()   #clear() Borra todos los registros de un diccionario\n",
        "colores"
      ],
      "metadata": {
        "colab": {
          "base_uri": "https://localhost:8080/"
        },
        "id": "RM3TLhnbnKuC",
        "outputId": "96604e6b-c3e3-4c29-f7c7-6a23c12060c9"
      },
      "execution_count": 76,
      "outputs": [
        {
          "output_type": "execute_result",
          "data": {
            "text/plain": [
              "{}"
            ]
          },
          "metadata": {},
          "execution_count": 76
        }
      ]
    },
    {
      "cell_type": "code",
      "source": [],
      "metadata": {
        "id": "gMNwJTPCnUjC"
      },
      "execution_count": null,
      "outputs": []
    }
  ]
}