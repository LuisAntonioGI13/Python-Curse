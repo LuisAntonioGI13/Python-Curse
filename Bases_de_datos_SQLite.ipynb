{
  "nbformat": 4,
  "nbformat_minor": 0,
  "metadata": {
    "colab": {
      "provenance": [],
      "authorship_tag": "ABX9TyOqvGBryvHluvPIIRc06XAl",
      "include_colab_link": true
    },
    "kernelspec": {
      "name": "python3",
      "display_name": "Python 3"
    },
    "language_info": {
      "name": "python"
    }
  },
  "cells": [
    {
      "cell_type": "markdown",
      "metadata": {
        "id": "view-in-github",
        "colab_type": "text"
      },
      "source": [
        "<a href=\"https://colab.research.google.com/github/LuisAntonioGI13/Python-Curse/blob/main/Bases_de_datos_SQLite.ipynb\" target=\"_parent\"><img src=\"https://colab.research.google.com/assets/colab-badge.svg\" alt=\"Open In Colab\"/></a>"
      ]
    },
    {
      "cell_type": "markdown",
      "source": [
        "#Bases de datos SQLite\n",
        "\n",
        "¿Qué es una base de datos? También conocidas como bancos de datos son simplemente conjuntos de información. Ya conocéis algunos tipos de datos, como los números, las cadenas de caracteres, las fechas, etc.\n",
        "\n",
        "##Bases de datos\n",
        "¿Qué es una base de datos? También conocidas como bancos de datos, son simplemente conjuntos de datos . Ya conocéis algunos tipos de datos, como los números, las cadenas de caracteres, las fechas, etc.\n",
        "\n",
        "Bueno, pues estos conjuntos de datos hacen referencia a información perteneciente a un mismo contexto. Es decir, si hablamos de los clientes de una empresa, éstos datos comunes de todos los clientes podrían ser sus nombres, apellidos, direcciones, teléfonos… O los productos de una tienda, cada uno con su nombre, precio, descripción, etc.\n",
        "\n",
        "Por tanto, al ser datos del mismo contexto, las bases de datos permiten almacenarlos sistemáticamente, de forma automatizada, con la finalidad de un posterior uso. Ya sea para realizar consultas, comparativas, análisis, modificaciones o simplemente borrarlos.\n",
        "\n",
        "Como son programas complejos centrados en la gestión de información, reciben el nombre de SGBD: Sistemas Gestores de Bases de Datos.\n",
        "\n",
        "La peculiaridad de los SGBD es que implementan sus propios lenguajes internos de programación par realizar las consultas, que pueden ser tan simples como consultar el nombre de todos los clientes de la empresa, o tan complejas como conseguir información de los pedidos de una tienda, a la vez que se consultan los clientes y en un conjunto de fechas determinado.\n",
        "\n",
        "##Modelos\n",
        "De todas formas, los tipos de datos y la forma de almacenarlos pueden diferir mucho dependiendo exactamente del contexto, y es por eso que con el tiempo se han ido desarrollando una serie de modelos distintos para gestionar las bases de datos.\n",
        "\n",
        "* **Jerárquicas:** Utilizan un modelo los datos que se organiza en forma de árbol invertido, en donde un nodo padre de información puede tener varios hijos...\n",
        "* **De red:** Una mejora del modelo jerárquico que permite a un hijo tener varios padres...\n",
        "* **Transaccionales:** Cuyo único fin es el envío y recepción de datos a grandes velocidades, estas bases son muy poco comunes\n",
        "* **Relacionales:** Éste es el modelo utilizado en la actualidad para representar problemas reales y administrar datos dinámicamente. Es en el que nos vamos a centrar, pero hay otros...\n",
        "* **Documentales:** Permiten guardar texto completo, y en líneas generales realizar búsquedas más potentes. Sirven para almacenar grandes volúmenes de información de antecedentes históricos. Junto a las relacionales son de las más utilizadas en el desarrollo web.\n",
        "* **Orientadas a objetos:** Este modelo es bastante reciente y propio de los modelos informáticos orientados a objetos, donde se trata de almacenar en la base de datos los objetos completos. Es posible que tome más importancia en el futuro.\n",
        "* **Deductivas:** Son bases de datos que permiten hacer deducciones. Se basan principalmente en reglas y hechos que son almacenados en la base de datos, por lo que son algo complejas.\n",
        "\n",
        "\n",
        "##Modelo Relacional\n",
        "Las bases de datos Relacionales son muy utilizadas actualmente gracias a que es fácil representar y gestionar problemas del mundo real.\n",
        "\n",
        "Se basan en la idea de crear relaciones entre conjuntos de datos, en los que cada relación es también una tabla. Cada tabla consta de registros, formados por filas y columnas, también conocidos como tuplas y campos.\n",
        "\n",
        "Evidentemente dentro de las bases de datos relacionales, existen muchos SGBD. La mayoría también son compatibles con Python. Algunos son de pago, otros gratuitos, los hay sencillos y otros muy avanzados. Hagamos un repaso:\n",
        "\n",
        "* **SQL Server:** Es un sistema de manejo de bases de datos del modelo relacional, desarrollado por la empresa Microsoft y únicamente disponible para sistemas Windows. Es privativo y competidor directo de Oracle, MySQL y PostgreSQL.\n",
        "* **Oracle:** Database es un sistema de gestión de base de datos de tipo objeto-relacional privativo, desarrollado por Oracle Corporation, considerado como uno de los sistemas más completos. Su dominio en el mercado de servidores empresariales fue casi total hasta la aparición de la competencia. Es multiplataforma y además las últimas versiones de Oracle han sido certificadas para poder trabajar bajo GNU/Linux.\n",
        "* **MySQL:** Es un sistema de gestión de bases de datos relacional desarrollado bajo licencia dual GPL/Licencia comercial por Oracle Corporation y está considerada como la base datos open source más popular del mundo, y una de las más populares en general junto a Oracle y Microsoft SQL Server, sobre todo para entornos de desarrollo web.\n",
        "* **PostgreSQL:** Es un Sistema de gestión de bases de datos relacional orientado a objetos y libre. Como muchos otros proyectos de código abierto, el desarrollo de PostgreSQL no es manejado por una empresa o persona, sino que es dirigido por una comunidad de desarrolladores que trabajan de forma desinteresada, altruista, libre o apoyados por organizaciones comerciales.\n",
        "* **SQLite:** Es un sistema de gestión de bases de datos relacional contenido en una pequeña biblioteca escrita en C. Es un proyecto de dominio público y a diferencia de los otros sistemas que utilizan la arquitectura cliente-servidor, su motor no es un proceso independiente sino que se enlaza con el programa pasando a ser parte integral del mismo. Sin embargo no os dejéis engañar, porque aunque parezca la solución sencilla, SQLite en su tercera versión permite bases de datos de hasta 2 Terabytes de tamaño y muchas otras funcionalidades. En definitiva su configuración es muy sencilla, tan sencilla que no existe, por lo que no dará problemas y es la mejor solución para este curso.\n",
        "\n",
        "\n",
        "Así que como véis encontramos multitud de SGBD Relacionales. En Python, cada uno de ellos cuenta módulos libres y programas conectores para comunicar las bases de datos y el lenguaje de programación. Sin embargo, pese a que son sistemas distintos, el lenguaje de las consultas no varía mucho, sino sería muy difícil pasar de un sistema a otro y los SGBD no podrían competir entre ellos.\n",
        "\n",
        "Lo que nos lleva a nuestra última cuestión, ¿qué tienen en común? ¿Qué son esas siglas SQL en sus nombres?\n",
        "\n",
        "##El lenguaje SQL\n",
        "\n",
        "\n",
        "\n",
        "A parte de los lenguajes de programación como Python, centrados en la creación de los programas, los SGBD implementan su propia sintaxis o lenguaje propio para realizar consultas y modificaciones en sus registros.\n",
        "\n",
        "El lenguaje más utilizado en las bases de datos relacionales el lenguaje SQL (Lenguaje de Consulta Estructurada), y es necesario aprenderlo si queremos utilizar este tipo de bases de datos en nuestros programas.\n",
        "\n",
        "Evidentemente este lenguaje abarca muchísimo, por lo que en esta unidad sólo veremos algunas consultas básicas para utilizar en conjunto con SQLite en nuestros scripts de Python."
      ],
      "metadata": {
        "id": "6p3tx8i5fjT4"
      }
    },
    {
      "cell_type": "markdown",
      "source": [
        "##Consultas SQL básicas\n",
        "###Primeros pasos\n",
        "Conexión a la base de datos, creación y desconexión:"
      ],
      "metadata": {
        "id": "qIr1TpZvhdiW"
      }
    },
    {
      "cell_type": "code",
      "source": [
        "# Importamos el módulo\n",
        "import sqlite3\n",
        "\n",
        "# Nos conectamos a la base de datos ejemplo.db (la crea si no existe)\n",
        "conexion = sqlite3.connect('ejemplo.db')\n",
        "\n",
        "# Cerramos la conexión, si no la cerramos quedará abierta\n",
        "# y no podremos gestionar el fichero\n",
        "conexion.close()"
      ],
      "metadata": {
        "id": "CF5Dv3rBhX27"
      },
      "execution_count": 16,
      "outputs": []
    },
    {
      "cell_type": "markdown",
      "source": [
        "##Crear una tabla\n",
        "Antes de ejecutar una consulta (query) en código SQL, tenemos que crear un cursor:"
      ],
      "metadata": {
        "id": "0Hr-TFF3ESBv"
      }
    },
    {
      "cell_type": "code",
      "source": [
        "import sqlite3\n",
        "\n",
        "conexion = sqlite3.connect('ejemplo.db')\n",
        "\n",
        "# Creamos el cursor\n",
        "cursor = conexion.cursor()\n",
        "\n",
        "# Ahora crearemos una tabla de usuarios con nombres, edades y emails\n",
        "cursor.execute(\"CREATE TABLE IF NOT EXISTS usuarios \" \\\n",
        "    \"(nombre VARCHAR(100), edad INTEGER, email VARCHAR(100))\")\n",
        "\n",
        "# Guardamos los cambios haciendo un commit\n",
        "conexion.commit()\n",
        "\n",
        "conexion.close()"
      ],
      "metadata": {
        "id": "5JVkmF05EWPi"
      },
      "execution_count": 17,
      "outputs": []
    },
    {
      "cell_type": "markdown",
      "source": [
        "##Inserción con INSERT\n",
        "\n"
      ],
      "metadata": {
        "id": "HZ1YpFL4ajW9"
      }
    },
    {
      "cell_type": "code",
      "source": [
        "import sqlite3\n",
        "\n",
        "conexion = sqlite3.connect('ejemplo.db')\n",
        "cursor = conexion.cursor()\n",
        "\n",
        "# Insertamos un registro en la tabla de usuarios\n",
        "cursor.execute(\"INSERT INTO usuarios VALUES \" \\\n",
        "    \"('Hector', 27, 'hector@ejemplo.com')\")\n",
        "\n",
        "# Guardamos los cambios haciendo un commit\n",
        "conexion.commit()\n",
        "\n",
        "conexion.close()"
      ],
      "metadata": {
        "id": "nCzTKyvxEe1A"
      },
      "execution_count": 18,
      "outputs": []
    },
    {
      "cell_type": "markdown",
      "source": [
        "##Lectura con SELECT\n",
        "Recuperando el primer registro con .fetchone():"
      ],
      "metadata": {
        "id": "SWEoru2Faz5r"
      }
    },
    {
      "cell_type": "code",
      "source": [
        "conexion = sqlite3.connect('ejemplo.db')\n",
        "cursor = conexion.cursor()\n",
        "\n",
        "# Recuperamos los registros de la tabla de usuarios\n",
        "cursor.execute(\"SELECT * FROM usuarios\")\n",
        "\n",
        "# Mostrar el cursos a ver que hay ?\n",
        "print(cursor)\n",
        "\n",
        "# Recorremos el primer registro con el método fetchone, devuelve una tupla\n",
        "usuario = cursor.fetchone()\n",
        "print(usuario)\n",
        "\n",
        "conexion.close()"
      ],
      "metadata": {
        "colab": {
          "base_uri": "https://localhost:8080/"
        },
        "id": "BqsO9Bngao0I",
        "outputId": "3cb11580-a7e8-473a-c89c-10102d5fb07e"
      },
      "execution_count": 19,
      "outputs": [
        {
          "output_type": "stream",
          "name": "stdout",
          "text": [
            "<sqlite3.Cursor object at 0x78b7fc301bc0>\n",
            "('Hector', 27, 'hector@ejemplo.com')\n"
          ]
        }
      ]
    },
    {
      "cell_type": "markdown",
      "source": [
        "##Inserción múltiple\n",
        "Insertando varios registros con .executemany():"
      ],
      "metadata": {
        "id": "bYVoc6XCbH4D"
      }
    },
    {
      "cell_type": "code",
      "source": [
        "conexion = sqlite3.connect('ejemplo.db')\n",
        "cursor = conexion.cursor()\n",
        "\n",
        "# Creamos una lista con varios usuarios\n",
        "usuarios = [('Mario', 51, 'mario@ejemplo.com'),\n",
        "            ('Mercedes', 38, 'mercedes@ejemplo.com'),\n",
        "            ('Juan', 19, 'juan@ejemplo.com')]\n",
        "\n",
        "# Ahora utilizamos el método executemany() para insertar varios\n",
        "cursor.executemany(\"INSERT INTO usuarios VALUES (?,?,?)\", usuarios)\n",
        "\n",
        "# Guardamos los cambios haciendo un commit\n",
        "conexion.commit()\n",
        "\n",
        "conexion.close()"
      ],
      "metadata": {
        "id": "beCObASAbJxj"
      },
      "execution_count": 20,
      "outputs": []
    },
    {
      "cell_type": "markdown",
      "source": [
        "##Lectura múltiple\n",
        "Recuperando varios registros con .fetchall():"
      ],
      "metadata": {
        "id": "k_L1O2_EbSRG"
      }
    },
    {
      "cell_type": "code",
      "source": [
        "import sqlite3\n",
        "\n",
        "conexion = sqlite3.connect('ejemplo.db')\n",
        "cursor = conexion.cursor()\n",
        "\n",
        "# Recuperamos los registros de la tabla de usuarios\n",
        "cursor.execute(\"SELECT * FROM usuarios\")\n",
        "\n",
        "# Recorremos todos los registros con fetchall\n",
        "# y los volcamos en una lista de usuarios\n",
        "usuarios = cursor.fetchall()\n",
        "\n",
        "# Ahora podemos recorrer todos los usuarios\n",
        "for usuario in usuarios:\n",
        "    print(usuario)\n",
        "\n",
        "conexion.close()"
      ],
      "metadata": {
        "colab": {
          "base_uri": "https://localhost:8080/"
        },
        "id": "KH9b3grnbUZy",
        "outputId": "8f3ff812-c198-46b0-f0d9-8969a64affa5"
      },
      "execution_count": 21,
      "outputs": [
        {
          "output_type": "stream",
          "name": "stdout",
          "text": [
            "('Hector', 27, 'hector@ejemplo.com')\n",
            "('Mario', 51, 'mario@ejemplo.com')\n",
            "('Mercedes', 38, 'mercedes@ejemplo.com')\n",
            "('Juan', 19, 'juan@ejemplo.com')\n",
            "('Hector', 27, 'hector@ejemplo.com')\n",
            "('Mario', 51, 'mario@ejemplo.com')\n",
            "('Mercedes', 38, 'mercedes@ejemplo.com')\n",
            "('Juan', 19, 'juan@ejemplo.com')\n"
          ]
        }
      ]
    },
    {
      "cell_type": "markdown",
      "source": [
        "#Claves SQL básicas\n",
        "##Claves primarias\n",
        "Una clave primaria es un campo especial de una tabla que actúa como identificador único de los registros, en otras palabras, no se puede repetir un registro con la misma clave primaria. Por ejemplo dos usuarios con el mismo DNI:"
      ],
      "metadata": {
        "id": "8dtxcS35b2If"
      }
    },
    {
      "cell_type": "code",
      "source": [
        "import sqlite3\n",
        "\n",
        "conexion = sqlite3.connect('usuarios.db')\n",
        "\n",
        "cursor = conexion.cursor()\n",
        "\n",
        "# Creamos un campo dni como clave primaria\n",
        "cursor.execute('''CREATE TABLE IF NOT EXISTS usuarios (\n",
        "                    dni VARCHAR(9) PRIMARY KEY,\n",
        "                    nombre VARCHAR(100),\n",
        "                    edad INTEGER,\n",
        "                    email VARCHAR(100))''')\n",
        "\n",
        "usuarios = [('11111111A', 'Hector', 27, 'hector@ejemplo.com'),\n",
        "            ('22222222B', 'Mario', 51, 'mario@ejemplo.com'),\n",
        "            ('33333333C', 'Mercedes', 38, 'mercedes@ejemplo.com'),\n",
        "            ('44444444D', 'Juan', 19, 'juan@ejemplo.com')]\n",
        "\n",
        "cursor.executemany(\"INSERT INTO usuarios VALUES (?,?,?,?)\", usuarios)\n",
        "\n",
        "conexion.commit()\n",
        "conexion.close()"
      ],
      "metadata": {
        "id": "9FsjdT6zbY01"
      },
      "execution_count": 1,
      "outputs": []
    },
    {
      "cell_type": "code",
      "source": [
        "for usuario in usuarios:\n",
        "    print(usuario)\n",
        "\n",
        "conexion.close()"
      ],
      "metadata": {
        "id": "vQEZ7__qgxhi",
        "outputId": "3b41ddf8-c8df-459e-ad0c-5cd40d35d0ca",
        "colab": {
          "base_uri": "https://localhost:8080/"
        }
      },
      "execution_count": 5,
      "outputs": [
        {
          "output_type": "stream",
          "name": "stdout",
          "text": [
            "('11111111A', 'Hector', 27, 'hector@ejemplo.com')\n",
            "('22222222B', 'Mario', 51, 'mario@ejemplo.com')\n",
            "('33333333C', 'Mercedes', 38, 'mercedes@ejemplo.com')\n",
            "('44444444D', 'Juan', 19, 'juan@ejemplo.com')\n"
          ]
        }
      ]
    },
    {
      "cell_type": "code",
      "source": [
        "conexion = sqlite3.connect('usuarios.db')\n",
        "\n",
        "cursor = conexion.cursor()\n",
        "\n",
        "# Añadimos un usuario con el mismo DNI\n",
        "cursor.execute(\"INSERT INTO usuarios VALUES \" \\\n",
        "    \"('11111111B', 'Fernando', 31, 'fernando@ejemplo.com')\")\n",
        "\n",
        "conexion.commit()\n",
        "conexion.close()"
      ],
      "metadata": {
        "id": "Kkz_dT6vdV0L"
      },
      "execution_count": 3,
      "outputs": []
    },
    {
      "cell_type": "code",
      "source": [
        "import sqlite3\n",
        "\n",
        "conexion = sqlite3.connect('usuarios.db')\n",
        "cursor = conexion.cursor()\n",
        "\n",
        "# Recuperamos los registros de la tabla de usuarios\n",
        "cursor.execute(\"SELECT * FROM usuarios\")\n",
        "\n",
        "# Recorremos todos los registros con fetchall\n",
        "# y los volcamos en una lista de usuarios\n",
        "usuarios = cursor.fetchall()\n",
        "\n",
        "# Ahora podemos recorrer todos los usuarios\n",
        "for usuario in usuarios:\n",
        "    print(usuario)\n",
        "\n",
        "conexion.close()"
      ],
      "metadata": {
        "colab": {
          "base_uri": "https://localhost:8080/"
        },
        "id": "Nv54wmQuOXp-",
        "outputId": "6c9a4e02-6c70-411b-c472-7abecabf6f82"
      },
      "execution_count": 8,
      "outputs": [
        {
          "output_type": "stream",
          "name": "stdout",
          "text": [
            "('11111111A', 'Hector', 27, 'hector@ejemplo.com')\n",
            "('22222222B', 'Mario', 51, 'mario@ejemplo.com')\n",
            "('33333333C', 'Mercedes', 38, 'mercedes@ejemplo.com')\n",
            "('44444444D', 'Juan', 19, 'juan@ejemplo.com')\n",
            "('11111111B', 'Fernando', 31, 'fernando@ejemplo.com')\n"
          ]
        }
      ]
    },
    {
      "cell_type": "markdown",
      "source": [
        "##Claves autoincrementales\n",
        "No siempre contaremos con claves primarias en nuestras tablas (como el DNI), sin embargo siempre necesitaremos uno para identificar cada registro y poder consultarlo, modificarlo o borrarlo.\n",
        "\n",
        "Para estas situaciones lo más útil es utilizar campos autoincrementales, campos especiales que asignan automáticamente un número (de uno en uno) al crear un nuevo registro. Es muy útil para identificar de forma única cada registro ya que nunca se repiten.\n",
        "\n",
        "En SQLite, si indicamos que un campo numérico entero es una clave primaria, automáticamente se tomará como un campo auto incremental. Podemos hacerlo fácilmente así:"
      ],
      "metadata": {
        "id": "YLk2VhZ4dY_X"
      }
    },
    {
      "cell_type": "code",
      "source": [
        "\n",
        "conexion = sqlite3.connect('productos.db')\n",
        "\n",
        "cursor = conexion.cursor()\n",
        "\n",
        "# Las cláusulas not null indican que no puede ser campos vacíos\n",
        "cursor.execute('''CREATE TABLE IF NOT EXISTS productos (\n",
        "                    id INTEGER PRIMARY KEY AUTOINCREMENT,\n",
        "                    nombre VARCHAR(100) NOT NULL,\n",
        "                    marca VARCHAR(50) NOT NULL,\n",
        "                    precio FLOAT NOT NULL)''')\n",
        "\n",
        "conexion.close()"
      ],
      "metadata": {
        "id": "o65QToXAdd-w"
      },
      "execution_count": 9,
      "outputs": []
    },
    {
      "cell_type": "markdown",
      "source": [
        "**¡Problema al insertar registros con campos autoincrementales!**\n",
        "\n",
        "Al utilizar un nuevo campo autoincremental, la sintaxis sencilla para insertar registros ya no funciona, pues en primer lugar se espera un identificador único, por lo que recibimos un error indicándonos se esperan 4 columnas en lugar de 3:"
      ],
      "metadata": {
        "id": "uaal2sp1qIGd"
      }
    },
    {
      "cell_type": "code",
      "source": [
        "conexion = sqlite3.connect('productos.db')\n",
        "\n",
        "cursor = conexion.cursor()\n",
        "\n",
        "productos = [('Teclado', 'Logitech', 19.95),\n",
        "            ('Pantalla 19\"', 'LG', 89.95)]\n",
        "\n",
        "\n",
        "#cursor.executemany(\"INSERT INTO productos VALUES (null,?,?,?)\", productos)\n",
        "cursor.executemany(\"INSERT INTO productos VALUES (?,?,?)\", productos)\n",
        "\n",
        "conexion.commit()\n",
        "conexion.close()"
      ],
      "metadata": {
        "colab": {
          "base_uri": "https://localhost:8080/",
          "height": 211
        },
        "id": "wcaQjtusp2T-",
        "outputId": "3839c752-3331-4b21-c2e1-ea24142c9440"
      },
      "execution_count": 10,
      "outputs": [
        {
          "output_type": "error",
          "ename": "OperationalError",
          "evalue": "table productos has 4 columns but 3 values were supplied",
          "traceback": [
            "\u001b[0;31m---------------------------------------------------------------------------\u001b[0m",
            "\u001b[0;31mOperationalError\u001b[0m                          Traceback (most recent call last)",
            "\u001b[0;32m<ipython-input-10-398384037414>\u001b[0m in \u001b[0;36m<cell line: 10>\u001b[0;34m()\u001b[0m\n\u001b[1;32m      8\u001b[0m \u001b[0;34m\u001b[0m\u001b[0m\n\u001b[1;32m      9\u001b[0m \u001b[0;31m#cursor.executemany(\"INSERT INTO productos VALUES (null,?,?,?)\", productos)\u001b[0m\u001b[0;34m\u001b[0m\u001b[0;34m\u001b[0m\u001b[0m\n\u001b[0;32m---> 10\u001b[0;31m \u001b[0mcursor\u001b[0m\u001b[0;34m.\u001b[0m\u001b[0mexecutemany\u001b[0m\u001b[0;34m(\u001b[0m\u001b[0;34m\"INSERT INTO productos VALUES (?,?,?)\"\u001b[0m\u001b[0;34m,\u001b[0m \u001b[0mproductos\u001b[0m\u001b[0;34m)\u001b[0m\u001b[0;34m\u001b[0m\u001b[0;34m\u001b[0m\u001b[0m\n\u001b[0m\u001b[1;32m     11\u001b[0m \u001b[0;34m\u001b[0m\u001b[0m\n\u001b[1;32m     12\u001b[0m \u001b[0mconexion\u001b[0m\u001b[0;34m.\u001b[0m\u001b[0mcommit\u001b[0m\u001b[0;34m(\u001b[0m\u001b[0;34m)\u001b[0m\u001b[0;34m\u001b[0m\u001b[0;34m\u001b[0m\u001b[0m\n",
            "\u001b[0;31mOperationalError\u001b[0m: table productos has 4 columns but 3 values were supplied"
          ]
        }
      ]
    },
    {
      "cell_type": "code",
      "source": [
        "#Para arreglarlo cambiaremos la notación durante la inserción, especificando el valor null para el auto incremento:\n",
        "\n",
        "import sqlite3\n",
        "\n",
        "conexion = sqlite3.connect('productos.db')\n",
        "\n",
        "cursor = conexion.cursor()\n",
        "\n",
        "productos = [('Teclado', 'Logitech', 19.95),\n",
        "            ('Pantalla 19\"','LG', 89.95),\n",
        "            ('Altavoces 2.1','LG', 24.95),]\n",
        "\n",
        "cursor.executemany(\"INSERT INTO productos VALUES (null,?,?,?)\", productos)\n",
        "\n",
        "conexion.commit()\n",
        "conexion.close()"
      ],
      "metadata": {
        "id": "YlIzdaALqg2_"
      },
      "execution_count": 11,
      "outputs": []
    },
    {
      "cell_type": "code",
      "source": [
        "for producto in productos:\n",
        "  print(producto)"
      ],
      "metadata": {
        "colab": {
          "base_uri": "https://localhost:8080/"
        },
        "id": "oRnHyGIguuoM",
        "outputId": "848f714d-4975-450e-d9dd-3e061f08c961"
      },
      "execution_count": 12,
      "outputs": [
        {
          "output_type": "stream",
          "name": "stdout",
          "text": [
            "('Teclado', 'Logitech', 19.95)\n",
            "('Pantalla 19\"', 'LG', 89.95)\n",
            "('Altavoces 2.1', 'LG', 24.95)\n"
          ]
        }
      ]
    },
    {
      "cell_type": "code",
      "source": [
        "##Ahora podemos consultar nuestros productos fácilmente con su identificador único\n",
        "\n",
        "conexion = sqlite3.connect('productos.db')\n",
        "cursor = conexion.cursor()\n",
        "\n",
        "# Recuperamos los registros de la tabla de usuarios\n",
        "cursor.execute(\"SELECT * FROM productos\")\n",
        "\n",
        "# Recorremos todos los registros con fetchall\n",
        "# y los volcamos en una lista de usuarios\n",
        "productos = cursor.fetchall()\n",
        "\n",
        "# Ahora podemos recorrer todos los productos\n",
        "for producto in productos:\n",
        "    print(producto)\n",
        "\n",
        "conexion.close()"
      ],
      "metadata": {
        "colab": {
          "base_uri": "https://localhost:8080/"
        },
        "id": "wo9Xw9g5uzHO",
        "outputId": "97d83b57-cae8-40e9-a9a3-1bd713c11e7d"
      },
      "execution_count": 14,
      "outputs": [
        {
          "output_type": "stream",
          "name": "stdout",
          "text": [
            "(1, 'Teclado', 'Logitech', 19.95)\n",
            "(2, 'Pantalla 19\"', 'LG', 89.95)\n",
            "(3, 'Altavoces 2.1', 'LG', 24.95)\n"
          ]
        }
      ]
    },
    {
      "cell_type": "markdown",
      "source": [
        "##Claves únicas\n",
        "El problema con las claves primarias es que sólo podemos tener un campo con esta propiedad, y si da la casualidad que utilizamos un campo autoincremental, ya no podemos asignarla a otro campo.\n",
        "\n",
        "Para estos casos existen las claves únicas, que nos permiten añadir otros campos únicos no repetibles.\n",
        "\n",
        "Podemos adaptar el ejemplo de los usuarios con un campo autoincremental que haga de clave primaria, y a su vez marcar el DNI como un campo único"
      ],
      "metadata": {
        "id": "-focgv7kv1bY"
      }
    },
    {
      "cell_type": "code",
      "source": [
        "import sqlite3\n",
        "\n",
        "conexion = sqlite3.connect('usuarios_autoincremental.db')\n",
        "\n",
        "cursor = conexion.cursor()\n",
        "\n",
        "# Creamos un campo dni como clave primaria\n",
        "cursor.execute('''CREATE TABLE IF NOT EXISTS usuarios (\n",
        "                    id INTEGER PRIMARY KEY,\n",
        "                    dni VARCHAR(9) UNIQUE,\n",
        "                    nombre VARCHAR(100),\n",
        "                    edad INTEGER(3),\n",
        "                    email VARCHAR(100))''')\n",
        "\n",
        "usuarios = [('11111111A', 'Hector', 27, 'hector@ejemplo.com'),\n",
        "            ('22222222B', 'Mario', 51, 'mario@ejemplo.com'),\n",
        "            ('33333333C', 'Mercedes', 38, 'mercedes@ejemplo.com'),\n",
        "            ('44444444D', 'Juan', 19, 'juan@ejemplo.com')]\n",
        "\n",
        "cursor.executemany(\"INSERT INTO usuarios VALUES (null, ?,?,?,?)\", usuarios)\n",
        "\n",
        "conexion.commit()\n",
        "conexion.close()"
      ],
      "metadata": {
        "id": "9ncOSF2ivvyX"
      },
      "execution_count": 15,
      "outputs": []
    },
    {
      "cell_type": "markdown",
      "source": [
        "Si intentamos añadir un usuario con la misma clave da error de integridad:"
      ],
      "metadata": {
        "id": "m1MJyJAs9JGS"
      }
    },
    {
      "cell_type": "code",
      "source": [
        "# Recuperamos los registros de la tabla de usuarios\n",
        "cursor.execute(\"SELECT * FROM usuarios\")\n",
        "\n",
        "# Recorremos todos los registros con fetchall\n",
        "# y los volcamos en una lista de usuarios\n",
        "usuarios = cursor.fetchall()\n",
        "\n",
        "# Ahora podemos recorrer todos los usuarios\n",
        "for usuario in usuarios:\n",
        "    print(usuario)\n",
        "\n",
        "conexion.close()"
      ],
      "metadata": {
        "colab": {
          "base_uri": "https://localhost:8080/",
          "height": 211
        },
        "id": "1pqlcdInwMhV",
        "outputId": "ccf9dbae-66e4-4685-e201-a6c58b6567ce"
      },
      "execution_count": 16,
      "outputs": [
        {
          "output_type": "error",
          "ename": "ProgrammingError",
          "evalue": "Cannot operate on a closed database.",
          "traceback": [
            "\u001b[0;31m---------------------------------------------------------------------------\u001b[0m",
            "\u001b[0;31mProgrammingError\u001b[0m                          Traceback (most recent call last)",
            "\u001b[0;32m<ipython-input-16-941616ee5144>\u001b[0m in \u001b[0;36m<cell line: 2>\u001b[0;34m()\u001b[0m\n\u001b[1;32m      1\u001b[0m \u001b[0;31m# Recuperamos los registros de la tabla de usuarios\u001b[0m\u001b[0;34m\u001b[0m\u001b[0;34m\u001b[0m\u001b[0m\n\u001b[0;32m----> 2\u001b[0;31m \u001b[0mcursor\u001b[0m\u001b[0;34m.\u001b[0m\u001b[0mexecute\u001b[0m\u001b[0;34m(\u001b[0m\u001b[0;34m\"SELECT * FROM usuarios\"\u001b[0m\u001b[0;34m)\u001b[0m\u001b[0;34m\u001b[0m\u001b[0;34m\u001b[0m\u001b[0m\n\u001b[0m\u001b[1;32m      3\u001b[0m \u001b[0;34m\u001b[0m\u001b[0m\n\u001b[1;32m      4\u001b[0m \u001b[0;31m# Recorremos todos los registros con fetchall\u001b[0m\u001b[0;34m\u001b[0m\u001b[0;34m\u001b[0m\u001b[0m\n\u001b[1;32m      5\u001b[0m \u001b[0;31m# y los volcamos en una lista de usuarios\u001b[0m\u001b[0;34m\u001b[0m\u001b[0;34m\u001b[0m\u001b[0m\n",
            "\u001b[0;31mProgrammingError\u001b[0m: Cannot operate on a closed database."
          ]
        }
      ]
    },
    {
      "cell_type": "markdown",
      "source": [
        "Con la ventaja de contar con un identificador automático para cada registro:"
      ],
      "metadata": {
        "id": "NtxRHZy-9Odm"
      }
    },
    {
      "cell_type": "code",
      "source": [
        "conexion = sqlite3.connect('usuarios_autoincremental.db')\n",
        "cursor = conexion.cursor()\n",
        "\n",
        "# Recuperamos los registros de la tabla de usuarios\n",
        "cursor.execute(\"SELECT * FROM usuarios\")\n",
        "\n",
        "# Recorremos todos los registros con fetchall\n",
        "# y los volcamos en una lista de usuarios\n",
        "usuarios = cursor.fetchall()\n",
        "\n",
        "# Ahora podemos recorrer todos los usuarios\n",
        "for usuario in usuarios:\n",
        "    print(usuario)\n",
        "\n",
        "conexion.close()"
      ],
      "metadata": {
        "colab": {
          "base_uri": "https://localhost:8080/"
        },
        "id": "qp-Uq45c9QVC",
        "outputId": "9a33d7bb-99c1-46d1-b5ff-b6fb43952147"
      },
      "execution_count": 17,
      "outputs": [
        {
          "output_type": "stream",
          "name": "stdout",
          "text": [
            "(1, '11111111A', 'Hector', 27, 'hector@ejemplo.com')\n",
            "(2, '22222222B', 'Mario', 51, 'mario@ejemplo.com')\n",
            "(3, '33333333C', 'Mercedes', 38, 'mercedes@ejemplo.com')\n",
            "(4, '44444444D', 'Juan', 19, 'juan@ejemplo.com')\n"
          ]
        }
      ]
    },
    {
      "cell_type": "markdown",
      "source": [
        "#Consultas SQL intermedias\n",
        "##Consulta con WHERE\n",
        "Una vez contamos con algún campo que nos sirva de identificador único, podemos realizar consultas específicas utilizando la cláusula WHERE:"
      ],
      "metadata": {
        "id": "Yhmh38InxAUy"
      }
    },
    {
      "cell_type": "code",
      "source": [
        "import sqlite3\n",
        "\n",
        "conexion = sqlite3.connect('usuarios_autoincremental.db')\n",
        "cursor = conexion.cursor()\n",
        "\n",
        "# Recuperamos un registro de la tabla de usuarios\n",
        "cursor.execute(\"SELECT * FROM usuarios WHERE id=1\")\n",
        "\n",
        "usuario = cursor.fetchone()\n",
        "print(usuario)\n",
        "\n",
        "conexion.close()"
      ],
      "metadata": {
        "id": "uD6CrMmjxDrQ",
        "colab": {
          "base_uri": "https://localhost:8080/"
        },
        "outputId": "fbcacceb-3b7d-4bd3-9c61-a8b10a58d35f"
      },
      "execution_count": 18,
      "outputs": [
        {
          "output_type": "stream",
          "name": "stdout",
          "text": [
            "(1, '11111111A', 'Hector', 27, 'hector@ejemplo.com')\n"
          ]
        }
      ]
    },
    {
      "cell_type": "code",
      "source": [
        "conexion = sqlite3.connect('usuarios_autoincremental.db')\n",
        "cursor = conexion.cursor()\n",
        "\n",
        "# Recuperamos un registro de la tabla de usuarios\n",
        "cursor.execute(\"SELECT nombre, edad, email FROM usuarios \"\n",
        "    \"WHERE dni='22222222B'\")\n",
        "\n",
        "usuario = cursor.fetchone()\n",
        "print(usuario)\n",
        "\n",
        "conexion.close()"
      ],
      "metadata": {
        "colab": {
          "base_uri": "https://localhost:8080/"
        },
        "id": "kdtHywWF-vdP",
        "outputId": "007dca18-21f8-496a-f824-172afbe2dd08"
      },
      "execution_count": 24,
      "outputs": [
        {
          "output_type": "stream",
          "name": "stdout",
          "text": [
            "('Mario', 51, 'mario@ejemplo.com')\n"
          ]
        }
      ]
    },
    {
      "cell_type": "markdown",
      "source": [
        "#Modificación con UPDATE\n",
        "De forma similar al SELECT podemos utilizar la cláusula:\n",
        "\n",
        "- **UPDATE** tabla\n",
        "- **SET** columna1 = valor1, columna2 = valor2...., columnaN = valorN\n",
        "- **WHERE** [condicion]"
      ],
      "metadata": {
        "id": "Fu-Sinv2_Ieo"
      }
    },
    {
      "cell_type": "code",
      "source": [
        "import sqlite3\n",
        "\n",
        "conexion = sqlite3.connect('usuarios_autoincremental.db')\n",
        "cursor = conexion.cursor()\n",
        "\n",
        "# Actualizamos un registro\n",
        "cursor.execute(\"UPDATE usuarios SET nombre='Hector Costa' \"\n",
        "    \"WHERE dni='11111111A'\")\n",
        "\n",
        "# Ahora lo consultamos de nuevo\n",
        "cursor.execute(\"SELECT * FROM usuarios WHERE dni='11111111A'\")\n",
        "usuario = cursor.fetchone()\n",
        "print(usuario)\n",
        "\n",
        "conexion.commit()\n",
        "conexion.close()"
      ],
      "metadata": {
        "colab": {
          "base_uri": "https://localhost:8080/"
        },
        "id": "i2yczolR_QOF",
        "outputId": "ddbafa58-b78d-43e7-b3f1-5e46d6859af3"
      },
      "execution_count": 26,
      "outputs": [
        {
          "output_type": "stream",
          "name": "stdout",
          "text": [
            "(1, '11111111A', 'Hector Costa', 27, 'hector@ejemplo.com')\n"
          ]
        }
      ]
    },
    {
      "cell_type": "markdown",
      "source": [
        "**Importantísimo: No olvidar la cláusula WHERE o podéis acabar actualizando todos los registros**"
      ],
      "metadata": {
        "id": "PBzO56Yh_wWw"
      }
    },
    {
      "cell_type": "markdown",
      "source": [
        "#Borrado con **DELETE**\n",
        "Finalmente, para borrar un registro a partir de su id o campo único:\n",
        "\n",
        "**DELETE FROM** tabla **WHERE** [condicion]"
      ],
      "metadata": {
        "id": "n-eoyvTC_yhY"
      }
    },
    {
      "cell_type": "code",
      "source": [
        "import sqlite3\n",
        "\n",
        "conexion = sqlite3.connect('usuarios_autoincremental.db')\n",
        "cursor = conexion.cursor()\n",
        "\n",
        "# Creamos un registro de prueba\n",
        "cursor.execute(\"INSERT INTO usuarios VALUES \" \\\n",
        "    \"(null, '55555555E', 'Fernando', 31, 'fernando@ejemplo.com')\")\n",
        "\n",
        "# Consultamos los usuarios\n",
        "for usuario in cursor.execute(\"SELECT * FROM usuarios\"):\n",
        "    print(usuario)\n",
        "\n",
        "# Ahora lo borramos\n",
        "cursor.execute(\"DELETE FROM usuarios WHERE dni='55555555E'\")\n",
        "\n",
        "print() # Espacio en blanco\n",
        "\n",
        "# Consultamos de nuevo los usuarios\n",
        "for usuario in cursor.execute(\"SELECT * FROM usuarios\"):\n",
        "    print(usuario)\n",
        "\n",
        "conexion.commit()\n",
        "conexion.close()"
      ],
      "metadata": {
        "colab": {
          "base_uri": "https://localhost:8080/"
        },
        "id": "ROM7ZewO_tpG",
        "outputId": "3a159cf1-bf97-47ff-d6f8-b806ca83a00f"
      },
      "execution_count": 27,
      "outputs": [
        {
          "output_type": "stream",
          "name": "stdout",
          "text": [
            "(1, '11111111A', 'Hector Costa', 27, 'hector@ejemplo.com')\n",
            "(2, '22222222B', 'Mario', 51, 'mario@ejemplo.com')\n",
            "(3, '33333333C', 'Mercedes', 38, 'mercedes@ejemplo.com')\n",
            "(4, '44444444D', 'Juan', 19, 'juan@ejemplo.com')\n",
            "(5, '55555555E', 'Fernando', 31, 'fernando@ejemplo.com')\n",
            "\n",
            "(1, '11111111A', 'Hector Costa', 27, 'hector@ejemplo.com')\n",
            "(2, '22222222B', 'Mario', 51, 'mario@ejemplo.com')\n",
            "(3, '33333333C', 'Mercedes', 38, 'mercedes@ejemplo.com')\n",
            "(4, '44444444D', 'Juan', 19, 'juan@ejemplo.com')\n"
          ]
        }
      ]
    },
    {
      "cell_type": "markdown",
      "source": [
        "#No te olvides el **WHERE**\n",
        "En SQL es posible realizar actualizaciones y borrados en masa, pero las dos últimas son un poco peligrosas. Sin embargo realizarlas es tan sencillo como olvidarnos la cláusula WHERE en el UPDATE o el DELETE.\n"
      ],
      "metadata": {
        "id": "8MfR2_2PAJIV"
      }
    },
    {
      "cell_type": "code",
      "source": [
        "import sqlite3\n",
        "\n",
        "conexion = sqlite3.connect('usuarios_autoincremental.db')\n",
        "cursor = conexion.cursor()\n",
        "\n",
        "# Borramos sin el WHERE\n",
        "cursor.execute(\"DELETE FROM usuarios\")\n",
        "\n",
        "# Consultamos de nuevo los usuarios\n",
        "usuarios = cursor.execute(\"SELECT * FROM usuarios\").fetchall()\n",
        "print(usuarios)\n",
        "\n",
        "conexion.commit()\n",
        "conexion.close()"
      ],
      "metadata": {
        "colab": {
          "base_uri": "https://localhost:8080/"
        },
        "id": "RFTBV5sy_9ny",
        "outputId": "a3fdcf61-fde9-482f-9f9c-50b82e7cacdc"
      },
      "execution_count": 28,
      "outputs": [
        {
          "output_type": "stream",
          "name": "stdout",
          "text": [
            "[]\n"
          ]
        }
      ]
    },
    {
      "cell_type": "markdown",
      "source": [
        "#Más por aprender\n",
        "SQL es un lenguaje muy extenso con muchísimas posibilidades.\n",
        "\n",
        "Como esta unidad no deja de ser una introducción, te animo a seguir aprendiendo por tu cuenta conceptos tan importantes como:\n",
        "\n",
        "- **Consultas avanzadas**: or, and, like, join\n",
        "- **Funciones simples**: count, group by, distinct\n",
        "- **Funciones avanzadas**: sum, avg, min, max\n",
        "- **Manejo de fechas**: date, year, month, day\n",
        "- **Relaciones y claves foráneas**"
      ],
      "metadata": {
        "id": "LamiAu8GAS8u"
      }
    },
    {
      "cell_type": "code",
      "source": [],
      "metadata": {
        "id": "gPHJrdWzAmU8"
      },
      "execution_count": null,
      "outputs": []
    }
  ]
}