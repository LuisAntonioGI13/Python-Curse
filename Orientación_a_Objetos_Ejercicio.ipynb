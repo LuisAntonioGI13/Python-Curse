{
  "nbformat": 4,
  "nbformat_minor": 0,
  "metadata": {
    "colab": {
      "provenance": [],
      "authorship_tag": "ABX9TyOKLIdTBc0UImuUn1HckiGU",
      "include_colab_link": true
    },
    "kernelspec": {
      "name": "python3",
      "display_name": "Python 3"
    },
    "language_info": {
      "name": "python"
    }
  },
  "cells": [
    {
      "cell_type": "markdown",
      "metadata": {
        "id": "view-in-github",
        "colab_type": "text"
      },
      "source": [
        "<a href=\"https://colab.research.google.com/github/LuisAntonioGI13/Python-Curse/blob/main/Orientaci%C3%B3n_a_Objetos_Ejercicio.ipynb\" target=\"_parent\"><img src=\"https://colab.research.google.com/assets/colab-badge.svg\" alt=\"Open In Colab\"/></a>"
      ]
    },
    {
      "cell_type": "markdown",
      "source": [
        "#Ejercicio\n",
        "\n",
        "* Crea una clase llamada **Punto** con sus dos coordenadas X e Y.\n",
        "\n",
        "* Añade un método constructor para crear puntos fácilmente. Si no se reciben una coordenada, su valor será cero.\n",
        "\n",
        "* Sobreescribe el método string, para que al imprimir por pantalla un punto aparezca en formato (X,Y)\n",
        "\n",
        "* Añade un método llamado cuadrante que indique a qué cuadrante pertenece el punto, teniendo en cuenta que si X == 0 e Y != 0 se sitúa sobre el eje Y, si X != 0 e Y == 0 se sitúa sobre el eje X y si X == 0 e Y == 0 está sobre el origen.\n",
        "Añade un método llamado vector, que tome otro punto y calcule el vector resultante entre los dos puntos.\n",
        "\n",
        "* (Optativo) Añade un método llamado distancia, que tome otro punto y calcule la distancia entre los dos puntos y la muestre por pantalla. La fórmula es la siguiente:\n",
        "\n",
        "$$d = \\sqrt{(x_{2}-x_{1})^{2}+(y_{2}-y_{1})^{2}}$$\n",
        "\n",
        "* Crea una clase llamada **Rectangulo** con dos puntos (inicial y final) que formarán la diagonal del rectángulo.\n",
        "\n",
        "* Añade un método constructor para crear ambos puntos fácilmente, si no se envían se crearán dos puntos en el origen por defecto.\n",
        "\n",
        "* Añade al rectángulo un método llamado base que muestre la base.\n",
        "\n",
        "* Añade al rectángulo un método llamado altura que muestre la altura.\n",
        "\n",
        "\n",
        "* Añade al rectángulo un método llamado area que muestre el area.\n"
      ],
      "metadata": {
        "id": "v4ayd4-um0Vf"
      }
    },
    {
      "cell_type": "code",
      "execution_count": 1,
      "metadata": {
        "id": "qdYwX1A9h5N6"
      },
      "outputs": [],
      "source": [
        "import math\n",
        "\n",
        "#Creando la clase punto\n",
        "class Punto:\n",
        "  #Se crea los valores paras coordenadas \"x\" y \"y\"\n",
        "  def __init__(self, x=0,y=0):\n",
        "    self.x = x\n",
        "    self.y = y\n",
        "\n",
        "  def __str__(self):\n",
        "    return print(\"({},{})\".format(self.x,self.y))\n",
        "#Cuadrantes\n",
        "  def cuadrante(self):\n",
        "    if self.x > 0 and self.y > 0:\n",
        "      print(f'{(self.x,self.y)} pertenece al primer cuadrante')\n",
        "\n",
        "    elif self.x < 0 and self.y > 0:\n",
        "      print(f'{(self.x,self.y)} pertenece al segundo cuadrante')\n",
        "\n",
        "    elif self.x < 0 and self.y < 0:\n",
        "      print(f'{(self.x,self.y)} pertenece al tercer cuadrante')\n",
        "\n",
        "    elif self.x > 0 and self.y < 0:\n",
        "      print(f'{(self.x,self.y)} pertenece al cuarto cuadrante')\n",
        "\n",
        "    else:\n",
        "      print(f'{(self.x,self.y)} se encuentra en el origen')\n",
        "\n",
        "#Vector\n",
        "  def vector(self,p):\n",
        "    print(f\"El vector entre {self.x,self.y} y {p.x,p.y} es ({p.x - self.x},{p.y - self.y})\") #format(self, p, (p.x - self.x, p.y - self.y))\n",
        "\n",
        "\n",
        "\n",
        "  def distancia(self,p):\n",
        "    d = math.sqrt((p.x - self.x)**2 + (p.y-self.y)**2)\n",
        "    print(f'La distancia entre los puntos {self.x,self.y} y {p.x,p.y} es {d}')"
      ]
    },
    {
      "cell_type": "code",
      "source": [
        "A = Punto(2,3)\n",
        "B = Punto(5,5)\n",
        "C = Punto(-3,-1)\n",
        "D = Punto(0,0)"
      ],
      "metadata": {
        "id": "yivSIjJrA29j"
      },
      "execution_count": 41,
      "outputs": []
    },
    {
      "cell_type": "code",
      "source": [
        "A.cuadrante()\n",
        "B.cuadrante()\n",
        "C.cuadrante()\n",
        "D.cuadrante()"
      ],
      "metadata": {
        "colab": {
          "base_uri": "https://localhost:8080/"
        },
        "id": "eVQtQb3iA8Xi",
        "outputId": "ee81d7ba-de99-40ca-be0e-dfb1de2fabd2"
      },
      "execution_count": 3,
      "outputs": [
        {
          "output_type": "stream",
          "name": "stdout",
          "text": [
            "(2, 3) pertenece al primer cuadrante\n",
            "(5, 5) pertenece al primer cuadrante\n",
            "(-3, -1) pertenece al tercer cuadrante\n",
            "(0, 0) se encuentra en el origen\n"
          ]
        }
      ]
    },
    {
      "cell_type": "code",
      "source": [
        "A.vector(B)\n",
        "B.vector(A)"
      ],
      "metadata": {
        "id": "htlYaw_qDob3",
        "colab": {
          "base_uri": "https://localhost:8080/"
        },
        "outputId": "2ec3d87b-c84b-4d42-b646-86573b1024d4"
      },
      "execution_count": 5,
      "outputs": [
        {
          "output_type": "stream",
          "name": "stdout",
          "text": [
            "El vector entre (2, 3) y (5, 5) es (3,2)\n",
            "El vector entre (5, 5) y (2, 3) es (-3,-2)\n"
          ]
        }
      ]
    },
    {
      "cell_type": "code",
      "source": [
        "C.vector(D)"
      ],
      "metadata": {
        "colab": {
          "base_uri": "https://localhost:8080/"
        },
        "id": "ZvFJ8SPM2cNH",
        "outputId": "19349bed-5d2c-4002-bf33-7136b20d41c4"
      },
      "execution_count": 7,
      "outputs": [
        {
          "output_type": "stream",
          "name": "stdout",
          "text": [
            "El vector entre (-3, -1) y (0, 0) es (3,1)\n"
          ]
        }
      ]
    },
    {
      "cell_type": "code",
      "source": [
        "C.distancia(D)"
      ],
      "metadata": {
        "colab": {
          "base_uri": "https://localhost:8080/"
        },
        "id": "10J_OtgD2muD",
        "outputId": "91bb4c26-87a9-498d-96b7-1c4305679154"
      },
      "execution_count": 8,
      "outputs": [
        {
          "output_type": "stream",
          "name": "stdout",
          "text": [
            "La distancia entre los puntos (-3, -1) y (0, 0) es 3.1622776601683795\n"
          ]
        }
      ]
    },
    {
      "cell_type": "code",
      "source": [
        "A.distancia(B)"
      ],
      "metadata": {
        "colab": {
          "base_uri": "https://localhost:8080/"
        },
        "id": "FcsBdW3y0aPJ",
        "outputId": "779bdb23-b1ee-4668-d3dc-4c385a44e23b"
      },
      "execution_count": null,
      "outputs": [
        {
          "output_type": "stream",
          "name": "stdout",
          "text": [
            "La distancia entre los puntos (2, 3) y (5, 5) es 3.605551275463989\n"
          ]
        }
      ]
    },
    {
      "cell_type": "code",
      "source": [
        "A.distancia(D)\n",
        "B.distancia(D)\n",
        "C.distancia(D)"
      ],
      "metadata": {
        "colab": {
          "base_uri": "https://localhost:8080/"
        },
        "id": "9Z_OsZJk4QPZ",
        "outputId": "43089a3d-f93c-4178-9fd6-a00c7dc410ce"
      },
      "execution_count": 13,
      "outputs": [
        {
          "output_type": "stream",
          "name": "stdout",
          "text": [
            "La distancia entre los puntos (2, 3) y (0, 0) es 3.605551275463989\n",
            "La distancia entre los puntos (5, 5) y (0, 0) es 7.0710678118654755\n",
            "La distancia entre los puntos (-3, -1) y (0, 0) es 3.1622776601683795\n"
          ]
        }
      ]
    },
    {
      "cell_type": "code",
      "source": [
        "class Rectangulo:\n",
        "\n",
        "  def __init__(self, pInicial=Punto(), pFinal=Punto()):\n",
        "    self.pInicial = pInicial\n",
        "    self.pFinal = pFinal\n",
        "\n",
        "  def base(self):\n",
        "    self.base = abs(self.pFinal.x - self.pInicial.x)\n",
        "    print(\"La base del rectangulo es {}\".format(self.base))\n",
        "\n",
        "  def altura(self):\n",
        "    self.altura = abs(self.pFinal.y - self.pInicial.y)\n",
        "    print(\"La altura del rectangulo es {}\".format(self.altura))\n",
        "\n",
        "  def area(self):\n",
        "    self.base = abs(self.pFinal.x - self.pInicial.x)\n",
        "    self.altura = abs(self.pFinal.y - self.pInicial.y)\n",
        "    self.area = self.base*self.altura\n",
        "    print(\"El área del rectangulo es {}\".format(self.area))"
      ],
      "metadata": {
        "id": "Av5p-w-I5iHA"
      },
      "execution_count": 46,
      "outputs": []
    },
    {
      "cell_type": "code",
      "source": [
        "A0 = Punto()\n",
        "AF = Punto(10,5)"
      ],
      "metadata": {
        "id": "vQLGg_rj256r"
      },
      "execution_count": 47,
      "outputs": []
    },
    {
      "cell_type": "code",
      "source": [
        "R = Rectangulo(A,AF)\n",
        "R.base()\n",
        "R.altura()\n",
        "R.area()"
      ],
      "metadata": {
        "colab": {
          "base_uri": "https://localhost:8080/"
        },
        "id": "lWUTYBRj3scj",
        "outputId": "e5660768-5e45-43ac-8dcf-4c427c1ffcbf"
      },
      "execution_count": 52,
      "outputs": [
        {
          "output_type": "stream",
          "name": "stdout",
          "text": [
            "La base del rectangulo es 8\n",
            "La altura del rectangulo es 2\n",
            "El área del rectangulo es 16\n"
          ]
        }
      ]
    },
    {
      "cell_type": "code",
      "source": [],
      "metadata": {
        "colab": {
          "base_uri": "https://localhost:8080/"
        },
        "id": "Gw9fqIbe6XKM",
        "outputId": "83126f27-c6f1-4600-eea3-8d78632a1a5e"
      },
      "execution_count": 43,
      "outputs": [
        {
          "output_type": "stream",
          "name": "stdout",
          "text": [
            "La base del rectangulo es 3\n",
            "La altura del rectangulo es 2\n"
          ]
        }
      ]
    },
    {
      "cell_type": "code",
      "source": [],
      "metadata": {
        "id": "_xCagW-56Zvg"
      },
      "execution_count": null,
      "outputs": []
    }
  ]
}