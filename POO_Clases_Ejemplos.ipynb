{
  "nbformat": 4,
  "nbformat_minor": 0,
  "metadata": {
    "colab": {
      "provenance": [],
      "authorship_tag": "ABX9TyNiGmvxdaCdb4tzXoHy+oBx",
      "include_colab_link": true
    },
    "kernelspec": {
      "name": "python3",
      "display_name": "Python 3"
    },
    "language_info": {
      "name": "python"
    }
  },
  "cells": [
    {
      "cell_type": "markdown",
      "metadata": {
        "id": "view-in-github",
        "colab_type": "text"
      },
      "source": [
        "<a href=\"https://colab.research.google.com/github/LuisAntonioGI13/Python-Curse/blob/main/POO_Clases_Ejemplos.ipynb\" target=\"_parent\"><img src=\"https://colab.research.google.com/assets/colab-badge.svg\" alt=\"Open In Colab\"/></a>"
      ]
    },
    {
      "cell_type": "code",
      "execution_count": null,
      "metadata": {
        "colab": {
          "base_uri": "https://localhost:8080/"
        },
        "id": "Ku69NXAE6wxA",
        "outputId": "6f81c245-75c0-4493-c08e-8058cd6560ac"
      },
      "outputs": [
        {
          "output_type": "stream",
          "name": "stdout",
          "text": [
            "El sabor de esta galleta es salado y el color marrón\n"
          ]
        }
      ],
      "source": [
        "class Galleta:# Crear una clase\n",
        "  pass\n",
        "\n",
        "galleta = Galleta()\n",
        "galleta.sabor = \"salado\"\n",
        "galleta.color = \"marrón\"\n",
        "\n",
        "print(f\"El sabor de esta galleta es {galleta.sabor} \"\n",
        "      f\"y el color {galleta.color}\")"
      ]
    },
    {
      "cell_type": "code",
      "source": [
        "una_galleta = Galleta()\n",
        "otra_galleta = Galleta()"
      ],
      "metadata": {
        "id": "crUJb-uS8m72"
      },
      "execution_count": null,
      "outputs": []
    },
    {
      "cell_type": "code",
      "source": [
        "print(una_galleta)\n",
        "print(otra_galleta)"
      ],
      "metadata": {
        "colab": {
          "base_uri": "https://localhost:8080/"
        },
        "id": "Ku1OL-ON8u-_",
        "outputId": "5741808f-73ef-4ed8-d4a0-28fd4cccfe46"
      },
      "execution_count": null,
      "outputs": [
        {
          "output_type": "stream",
          "name": "stdout",
          "text": [
            "<__main__.Galleta object at 0x7f4219e88520>\n",
            "<__main__.Galleta object at 0x7f4219e89c60>\n"
          ]
        }
      ]
    },
    {
      "cell_type": "code",
      "source": [
        "print(Galleta)"
      ],
      "metadata": {
        "colab": {
          "base_uri": "https://localhost:8080/"
        },
        "id": "_IYbg6xs80gU",
        "outputId": "6937611b-816e-40e1-e576-18d4f462c069"
      },
      "execution_count": null,
      "outputs": [
        {
          "output_type": "stream",
          "name": "stdout",
          "text": [
            "<class '__main__.Galleta'>\n"
          ]
        }
      ]
    },
    {
      "cell_type": "code",
      "source": [
        "class Galleta:\n",
        "    chocolate = False\n",
        "\n",
        "galleta = Galleta()\n",
        "\n",
        "if galleta.chocolate:\n",
        "    print(\"La galleta tiene chocolate\")\n",
        "else:\n",
        "    print(\"La galleta no tiene chocolate\")"
      ],
      "metadata": {
        "colab": {
          "base_uri": "https://localhost:8080/"
        },
        "id": "WJEftIz084-O",
        "outputId": "8a125826-4204-4309-9657-3a85ffcb82bc"
      },
      "execution_count": null,
      "outputs": [
        {
          "output_type": "stream",
          "name": "stdout",
          "text": [
            "La galleta no tiene chocolate\n"
          ]
        }
      ]
    },
    {
      "cell_type": "code",
      "source": [
        "class Galleta:\n",
        "  chocolate = False\n",
        "\n",
        "  def __init__(self):\n",
        "     print(\"Se acaba de crear una galleta.\")\n",
        "\n",
        "  def chocolatear(self):\n",
        "    self.chocolate = True\n",
        "\n",
        "  def tiene_chocolate(self):\n",
        "    if (self.chocolate):\n",
        "      print(\"Soy una galleta chocolateada :-D\")\n",
        "    else:\n",
        "      print(\"Soy una galleta sin chocolate :-{\")\n",
        "\n",
        "g = Galleta()\n",
        "g.tiene_chocolate()\n",
        "g.chocolatear()\n",
        "g.tiene_chocolate()"
      ],
      "metadata": {
        "colab": {
          "base_uri": "https://localhost:8080/"
        },
        "id": "22TYhPfjEGFG",
        "outputId": "910ceb00-c2e8-49df-dfd9-c16958acf370"
      },
      "execution_count": null,
      "outputs": [
        {
          "output_type": "stream",
          "name": "stdout",
          "text": [
            "Se acaba de crear una galleta.\n",
            "Soy una galleta sin chocolate :-{\n",
            "Soy una galleta chocolateada :-D\n"
          ]
        }
      ]
    },
    {
      "cell_type": "code",
      "source": [
        "g.chocolate"
      ],
      "metadata": {
        "colab": {
          "base_uri": "https://localhost:8080/"
        },
        "id": "2iIoQVyEIOIs",
        "outputId": "3b635370-5a3e-4beb-9d88-40fd5b939790"
      },
      "execution_count": null,
      "outputs": [
        {
          "output_type": "execute_result",
          "data": {
            "text/plain": [
              "False"
            ]
          },
          "metadata": {},
          "execution_count": 15
        }
      ]
    },
    {
      "cell_type": "code",
      "source": [
        "class Pelicula:\n",
        "  # Constructor de ua clase\n",
        "  def __init__(self, titulo, duracion, lanzamiento):\n",
        "     self.titulo = titulo\n",
        "     self.duracion = duracion\n",
        "     self.lanzamiento = lanzamiento\n",
        "     print(\"Se ha creado la película:\", self.titulo)\n",
        "\n",
        "  # Destructor de clase\n",
        "  def __del__(self):\n",
        "    print(\"Se está borrando la pelicula:\", self.titulo)\n",
        "\n",
        "p = Pelicula(\"El Padrino\", 175, 1972)"
      ],
      "metadata": {
        "colab": {
          "base_uri": "https://localhost:8080/"
        },
        "id": "FO8bQdYhIRXn",
        "outputId": "3cb45d3e-cddb-40a4-b2e0-1e509b9ec805"
      },
      "execution_count": null,
      "outputs": [
        {
          "output_type": "stream",
          "name": "stdout",
          "text": [
            "Se ha creado la película: El Padrino\n"
          ]
        }
      ]
    },
    {
      "cell_type": "code",
      "source": [
        "p"
      ],
      "metadata": {
        "colab": {
          "base_uri": "https://localhost:8080/"
        },
        "id": "KtYCRqrWeXDn",
        "outputId": "a074ede0-5e71-4872-c617-a1d9789734b5"
      },
      "execution_count": null,
      "outputs": [
        {
          "output_type": "execute_result",
          "data": {
            "text/plain": [
              "<__main__.Pelicula at 0x7f4219e89810>"
            ]
          },
          "metadata": {},
          "execution_count": 26
        }
      ]
    },
    {
      "cell_type": "code",
      "source": [
        "p1 = Pelicula(\"El Padrino\", 175, 1972)"
      ],
      "metadata": {
        "colab": {
          "base_uri": "https://localhost:8080/"
        },
        "id": "zRtX9RCUfD0-",
        "outputId": "245c7726-254c-4515-b5de-f1fd0ea91db8"
      },
      "execution_count": null,
      "outputs": [
        {
          "output_type": "stream",
          "name": "stdout",
          "text": [
            "Se ha creado la película: El Padrino\n"
          ]
        }
      ]
    },
    {
      "cell_type": "code",
      "source": [],
      "metadata": {
        "id": "5-GJWELYfLmz"
      },
      "execution_count": null,
      "outputs": []
    }
  ]
}