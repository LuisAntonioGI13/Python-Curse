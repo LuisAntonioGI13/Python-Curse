{
  "nbformat": 4,
  "nbformat_minor": 0,
  "metadata": {
    "colab": {
      "provenance": [],
      "authorship_tag": "ABX9TyPz1/CEsLTEOuNm+n8tocdd",
      "include_colab_link": true
    },
    "kernelspec": {
      "name": "python3",
      "display_name": "Python 3"
    },
    "language_info": {
      "name": "python"
    }
  },
  "cells": [
    {
      "cell_type": "markdown",
      "metadata": {
        "id": "view-in-github",
        "colab_type": "text"
      },
      "source": [
        "<a href=\"https://colab.research.google.com/github/LuisAntonioGI13/Python-Curse/blob/main/Herencias.ipynb\" target=\"_parent\"><img src=\"https://colab.research.google.com/assets/colab-badge.svg\" alt=\"Open In Colab\"/></a>"
      ]
    },
    {
      "cell_type": "markdown",
      "source": [
        "#Clases"
      ],
      "metadata": {
        "id": "mVULoz_wJppi"
      }
    },
    {
      "cell_type": "code",
      "execution_count": 2,
      "metadata": {
        "colab": {
          "base_uri": "https://localhost:8080/"
        },
        "id": "lOypmjHG96zT",
        "outputId": "51e6e299-fd6a-4a14-d3f5-36e89b6fa5a1"
      },
      "outputs": [
        {
          "output_type": "stream",
          "name": "stdout",
          "text": [
            "<__main__.Producto object at 0x7aa2633ec400>\n",
            "ADORNO\n"
          ]
        }
      ],
      "source": [
        "class Producto:\n",
        "    def __init__(self, referencia, tipo, nombre,\n",
        "                 pvp,  descripcion, productor=None,\n",
        "                 distribuidor=None, isbn=None, autor=None):\n",
        "        self.referencia = referencia\n",
        "        self.tipo = tipo\n",
        "        self.nombre = nombre\n",
        "        self.pvp = pvp\n",
        "        self.descripcion = descripcion\n",
        "        self.productor = productor\n",
        "        self.distribuidor = distribuidor\n",
        "        self.isbn = isbn\n",
        "        self.autor = autor\n",
        "\n",
        "\n",
        "adorno = Producto('000A','ADORNO','Vaso Adornado',15,\n",
        "                  'Vaso de porcelana con dibujos')\n",
        "\n",
        "print(adorno)\n",
        "print(adorno.tipo)"
      ]
    },
    {
      "cell_type": "code",
      "source": [
        "adorno.tipo"
      ],
      "metadata": {
        "colab": {
          "base_uri": "https://localhost:8080/",
          "height": 35
        },
        "id": "UBS3_X-6BRGc",
        "outputId": "a2a78347-3ac8-4aa3-fa05-20677691bfa4"
      },
      "execution_count": 2,
      "outputs": [
        {
          "output_type": "execute_result",
          "data": {
            "text/plain": [
              "'ADORNO'"
            ],
            "application/vnd.google.colaboratory.intrinsic+json": {
              "type": "string"
            }
          },
          "metadata": {},
          "execution_count": 2
        }
      ]
    },
    {
      "cell_type": "code",
      "source": [
        "  class Producto:\n",
        "    def __init__(self,referencia,nombre,pvp,descripcion):\n",
        "        self.referencia = referencia\n",
        "        self.nombre = nombre\n",
        "        self.pvp = pvp\n",
        "        self.descripcion = descripcion\n",
        "\n",
        "    def __str__(self):\n",
        "        return f\"REFERENCIA\\t {self.referencia}\\n\" \\\n",
        "               f\"NOMBRE\\t\\t {self.nombre}\\n\" \\\n",
        "               f\"PVP\\t\\t {self.pvp}\\n\" \\\n",
        "               f\"DESCRIPCIÓN\\t {self.descripcion}\\n\""
      ],
      "metadata": {
        "id": "EBYd73cbBUAf"
      },
      "execution_count": 3,
      "outputs": []
    },
    {
      "cell_type": "code",
      "source": [
        "class Adorno(Producto):\n",
        "    pass\n",
        "\n",
        "adorno = Adorno(2034, \"Vaso adornado\", 15, \"Vaso de porcelana\")\n",
        "print(adorno)"
      ],
      "metadata": {
        "colab": {
          "base_uri": "https://localhost:8080/"
        },
        "id": "h1PzrYO3xeg5",
        "outputId": "18cc3a27-8176-420a-de21-2bfbda4dc049"
      },
      "execution_count": 4,
      "outputs": [
        {
          "output_type": "stream",
          "name": "stdout",
          "text": [
            "REFERENCIA\t 2034\n",
            "NOMBRE\t\t Vaso adornado\n",
            "PVP\t\t 15\n",
            "DESCRIPCIÓN\t Vaso de porcelana\n",
            "\n"
          ]
        }
      ]
    },
    {
      "cell_type": "code",
      "source": [
        "class Alimento(Producto):\n",
        "    productor = \"\"\n",
        "    distribuidor = \"\"\n",
        "\n",
        "    def __str__(self):\n",
        "        return f\"REFERENCIA\\t {self.referencia}\\n\" \\\n",
        "               f\"NOMBRE\\t\\t {self.nombre}\\n\" \\\n",
        "               f\"PVP\\t\\t {self.pvp}\\n\" \\\n",
        "               f\"DESCRIPCIÓN\\t {self.descripcion}\\n\" \\\n",
        "               f\"PRODUCTOR\\t\\t {self.productor}\\n\" \\\n",
        "               f\"DISTRIBUIDOR\\t\\t {self.distribuidor}\\n\"\n",
        "\n",
        "\n",
        "class Libro(Producto):\n",
        "    isbn = \"\"\n",
        "    autor = \"\"\n",
        "\n",
        "    def __str__(self):\n",
        "        return f\"REFERENCIA\\t {self.referencia}\\n\" \\\n",
        "               f\"NOMBRE\\t\\t {self.nombre}\\n\" \\\n",
        "               f\"PVP\\t\\t {self.pvp}\\n\" \\\n",
        "               f\"DESCRIPCIÓN\\t {self.descripcion}\\n\" \\\n",
        "               f\"ISBN\\t\\t {self.isbn}\\n\" \\\n",
        "               f\"AUTOR\\t\\t {self.autor}\\n\""
      ],
      "metadata": {
        "id": "tySSemXfyAqI"
      },
      "execution_count": 5,
      "outputs": []
    },
    {
      "cell_type": "code",
      "source": [
        "alimento = Alimento(2035, \"Botella de Aceite de Oliva\", 5, \"250 ML\")\n",
        "alimento.productor = \"La Aceitera\"\n",
        "alimento.distribuidor = \"Distribuciones SA\"\n",
        "print(alimento)\n"
      ],
      "metadata": {
        "colab": {
          "base_uri": "https://localhost:8080/"
        },
        "id": "W9TYzPRvHfo1",
        "outputId": "798e50bb-996e-4ea7-bed6-78086fc05c12"
      },
      "execution_count": 37,
      "outputs": [
        {
          "output_type": "stream",
          "name": "stdout",
          "text": [
            "REFERENCIA\t 2035\n",
            "NOMBRE\t\t Botella de Aceite de Oliva\n",
            "PVP\t\t 5\n",
            "DESCRIPCIÓN\t 250 ML\n",
            "PRODUCTOR\t\t La Aceitera\n",
            "DISTRIBUIDOR\t\t Distribuciones SA\n",
            "\n"
          ]
        }
      ]
    },
    {
      "cell_type": "code",
      "source": [
        "libro = Libro(2036, \"Cocina Mediterránea\",9, \"Recetas sanas y buenas\")\n",
        "libro.isbn = \"0-123456-78-9\"\n",
        "libro.autor = \"Doña Juana\"\n",
        "print(libro)"
      ],
      "metadata": {
        "colab": {
          "base_uri": "https://localhost:8080/"
        },
        "id": "WTDYlucSIZ0A",
        "outputId": "bda5fe82-9da5-4647-b06b-f7447902d231"
      },
      "execution_count": 7,
      "outputs": [
        {
          "output_type": "stream",
          "name": "stdout",
          "text": [
            "REFERENCIA\t 2036\n",
            "NOMBRE\t\t Cocina Mediterránea\n",
            "PVP\t\t 9\n",
            "DESCRIPCIÓN\t Recetas sanas y buenas\n",
            "ISBN\t\t 0-123456-78-9\n",
            "AUTOR\t\t Doña Juana\n",
            "\n"
          ]
        }
      ]
    },
    {
      "cell_type": "markdown",
      "source": [
        "##Clases  hereddas y polimorfismos"
      ],
      "metadata": {
        "id": "KM3lQCgpJinL"
      }
    },
    {
      "cell_type": "code",
      "source": [
        "adorno"
      ],
      "metadata": {
        "colab": {
          "base_uri": "https://localhost:8080/"
        },
        "id": "ZuCebIedIqE-",
        "outputId": "199eb1de-006e-427a-b3cc-adfef8a6929a"
      },
      "execution_count": 8,
      "outputs": [
        {
          "output_type": "execute_result",
          "data": {
            "text/plain": [
              "<__main__.Adorno at 0x7aa2633ee3b0>"
            ]
          },
          "metadata": {},
          "execution_count": 8
        }
      ]
    },
    {
      "cell_type": "code",
      "source": [
        "print(adorno)"
      ],
      "metadata": {
        "colab": {
          "base_uri": "https://localhost:8080/"
        },
        "id": "NhELtmWcT-x6",
        "outputId": "b1bde458-923a-4b6d-a14e-dfc60ef9d8c8"
      },
      "execution_count": 9,
      "outputs": [
        {
          "output_type": "stream",
          "name": "stdout",
          "text": [
            "REFERENCIA\t 2034\n",
            "NOMBRE\t\t Vaso adornado\n",
            "PVP\t\t 15\n",
            "DESCRIPCIÓN\t Vaso de porcelana\n",
            "\n"
          ]
        }
      ]
    },
    {
      "cell_type": "code",
      "source": [
        "print(alimento)"
      ],
      "metadata": {
        "colab": {
          "base_uri": "https://localhost:8080/"
        },
        "id": "gSN6I1hJUBVX",
        "outputId": "473c0a3c-5e7a-4b0a-f958-dc4dfceb9f31"
      },
      "execution_count": 41,
      "outputs": [
        {
          "output_type": "stream",
          "name": "stdout",
          "text": [
            "REFERENCIA\t 2035\n",
            "NOMBRE\t\t Botella de Aceite de Oliva\n",
            "PVP\t\t 5\n",
            "DESCRIPCIÓN\t 250 ML\n",
            "PRODUCTOR\t\t La aceitera\n",
            "DISTRIBUIDOR\t\t Distribuciones SA\n",
            "\n"
          ]
        }
      ]
    },
    {
      "cell_type": "code",
      "source": [
        "print(libro)"
      ],
      "metadata": {
        "colab": {
          "base_uri": "https://localhost:8080/"
        },
        "id": "22lsstamUGh4",
        "outputId": "4a763b7b-8c33-46b1-c504-f6cca9fe4074"
      },
      "execution_count": 12,
      "outputs": [
        {
          "output_type": "stream",
          "name": "stdout",
          "text": [
            "REFERENCIA\t 2036\n",
            "NOMBRE\t\t Cocina Mediterránea\n",
            "PVP\t\t 9\n",
            "DESCRIPCIÓN\t Recetas sanas y buenas\n",
            "ISBN\t\t 0-123456-78-9\n",
            "AUTOR\t\t Doña Juana\n",
            "\n"
          ]
        }
      ]
    },
    {
      "cell_type": "code",
      "source": [
        "ad = adorno\n",
        "\n",
        "al = alimento\n",
        "al.productor = \"La aceitera\"\n",
        "al.distribuidor = \"Distribuciones SA\"\n",
        "\n",
        "li = libro\n",
        "li.isbn = \"0-123456-78-9\"\n",
        "li.autor = \"Doña Juana\""
      ],
      "metadata": {
        "id": "o-nYDV60URu1"
      },
      "execution_count": 42,
      "outputs": []
    },
    {
      "cell_type": "code",
      "source": [
        "productos = [ad, al]\n",
        "productos.append(li)"
      ],
      "metadata": {
        "id": "-6bkgPHRUtxy"
      },
      "execution_count": 43,
      "outputs": []
    },
    {
      "cell_type": "code",
      "source": [
        "productos"
      ],
      "metadata": {
        "colab": {
          "base_uri": "https://localhost:8080/"
        },
        "id": "hfuTENvxUyyH",
        "outputId": "aa63bb31-f7b4-448e-a79d-e7b04ec483ee"
      },
      "execution_count": 16,
      "outputs": [
        {
          "output_type": "execute_result",
          "data": {
            "text/plain": [
              "[<__main__.Adorno at 0x7aa2633ee3b0>,\n",
              " <__main__.Alimento at 0x7aa2633ed3c0>,\n",
              " <__main__.Libro at 0x7aa2633ee410>]"
            ]
          },
          "metadata": {},
          "execution_count": 16
        }
      ]
    },
    {
      "cell_type": "code",
      "source": [
        "for i in productos:\n",
        "  print(i, \"\\n\")"
      ],
      "metadata": {
        "colab": {
          "base_uri": "https://localhost:8080/"
        },
        "id": "79eoVxSiU6N1",
        "outputId": "7422c715-5f07-4a0e-9e3a-61c41edd69ec"
      },
      "execution_count": 44,
      "outputs": [
        {
          "output_type": "stream",
          "name": "stdout",
          "text": [
            "REFERENCIA\t 2034\n",
            "NOMBRE\t\t Vaso adornado\n",
            "PVP\t\t 15\n",
            "DESCRIPCIÓN\t Vaso de porcelana\n",
            " \n",
            "\n",
            "REFERENCIA\t 2035\n",
            "NOMBRE\t\t Botella de Aceite de Oliva\n",
            "PVP\t\t 5\n",
            "DESCRIPCIÓN\t 250 ML\n",
            "PRODUCTOR\t\t La aceitera\n",
            "DISTRIBUIDOR\t\t Distribuciones SA\n",
            " \n",
            "\n",
            "REFERENCIA\t 2036\n",
            "NOMBRE\t\t Cocina Mediterránea\n",
            "PVP\t\t 9\n",
            "DESCRIPCIÓN\t Recetas sanas y buenas\n",
            "ISBN\t\t 0-123456-78-9\n",
            "AUTOR\t\t Doña Juana\n",
            " \n",
            "\n"
          ]
        }
      ]
    },
    {
      "cell_type": "code",
      "source": [
        "for producto in productos:\n",
        "    print(producto.referencia, producto.nombre)"
      ],
      "metadata": {
        "colab": {
          "base_uri": "https://localhost:8080/"
        },
        "id": "dDrXBEkuVEX4",
        "outputId": "f446169b-43fc-4773-c662-10fb439f2223"
      },
      "execution_count": 45,
      "outputs": [
        {
          "output_type": "stream",
          "name": "stdout",
          "text": [
            "2034 Vaso adornado\n",
            "2035 Botella de Aceite de Oliva\n",
            "2036 Cocina Mediterránea\n"
          ]
        }
      ]
    },
    {
      "cell_type": "code",
      "source": [
        "for producto in productos:\n",
        "    print(producto.autor)"
      ],
      "metadata": {
        "colab": {
          "base_uri": "https://localhost:8080/",
          "height": 193
        },
        "id": "G0mcjkOAVI8d",
        "outputId": "33c41361-1c97-42c4-d82c-37fceb8684d7"
      },
      "execution_count": 19,
      "outputs": [
        {
          "output_type": "error",
          "ename": "AttributeError",
          "evalue": "ignored",
          "traceback": [
            "\u001b[0;31m---------------------------------------------------------------------------\u001b[0m",
            "\u001b[0;31mAttributeError\u001b[0m                            Traceback (most recent call last)",
            "\u001b[0;32m<ipython-input-19-0ae432e60369>\u001b[0m in \u001b[0;36m<cell line: 1>\u001b[0;34m()\u001b[0m\n\u001b[1;32m      1\u001b[0m \u001b[0;32mfor\u001b[0m \u001b[0mproducto\u001b[0m \u001b[0;32min\u001b[0m \u001b[0mproductos\u001b[0m\u001b[0;34m:\u001b[0m\u001b[0;34m\u001b[0m\u001b[0;34m\u001b[0m\u001b[0m\n\u001b[0;32m----> 2\u001b[0;31m     \u001b[0mprint\u001b[0m\u001b[0;34m(\u001b[0m\u001b[0mproducto\u001b[0m\u001b[0;34m.\u001b[0m\u001b[0mautor\u001b[0m\u001b[0;34m)\u001b[0m\u001b[0;34m\u001b[0m\u001b[0;34m\u001b[0m\u001b[0m\n\u001b[0m",
            "\u001b[0;31mAttributeError\u001b[0m: 'Adorno' object has no attribute 'autor'"
          ]
        }
      ]
    },
    {
      "cell_type": "code",
      "source": [
        "for producto in productos:\n",
        "    if( isinstance(producto, Adorno) ):\n",
        "        print(producto.referencia, producto.nombre)\n",
        "    elif( isinstance(producto, Alimento) ):\n",
        "        print(producto.referencia, producto.nombre, producto.productor)\n",
        "    elif( isinstance(producto, Libro) ):\n",
        "        print(producto.referencia, producto.nombre, producto.isbn)"
      ],
      "metadata": {
        "colab": {
          "base_uri": "https://localhost:8080/"
        },
        "id": "zFL5jY1IVncs",
        "outputId": "dc875916-c368-403e-90c4-e92c6c1af03a"
      },
      "execution_count": 46,
      "outputs": [
        {
          "output_type": "stream",
          "name": "stdout",
          "text": [
            "2034 Vaso adornado\n",
            "2035 Botella de Aceite de Oliva La aceitera\n",
            "2036 Cocina Mediterránea 0-123456-78-9\n"
          ]
        }
      ]
    },
    {
      "cell_type": "markdown",
      "source": [
        "##Polimorfismo\n",
        "\n",
        "El polimorfismo es una propiedad de la herencia por la que objetos de distintas subclases pueden responder a una misma acción.\n",
        "\n",
        "La polimorfia es implícita en Python, ya que todas las clases son subclases de una superclase común llamada **Object**."
      ],
      "metadata": {
        "id": "svQB3Q-ZWOrk"
      }
    },
    {
      "cell_type": "code",
      "source": [
        "def rebajar_producto(producto, rebaja):\n",
        "    producto.pvp = producto.pvp - (producto.pvp/100 * rebaja)\n",
        "    return producto\n"
      ],
      "metadata": {
        "id": "5mOJsIWDV9H-"
      },
      "execution_count": 47,
      "outputs": []
    },
    {
      "cell_type": "code",
      "source": [
        "print(al, \"\\n\")\n",
        "\n",
        "al_rebajado = rebajar_producto(al, 10)\n",
        "print(al_rebajado)"
      ],
      "metadata": {
        "colab": {
          "base_uri": "https://localhost:8080/"
        },
        "id": "TSmVAolIb5U-",
        "outputId": "a6238a72-1518-420e-9f48-c1c0711323b3"
      },
      "execution_count": 48,
      "outputs": [
        {
          "output_type": "stream",
          "name": "stdout",
          "text": [
            "REFERENCIA\t 2035\n",
            "NOMBRE\t\t Botella de Aceite de Oliva\n",
            "PVP\t\t 5\n",
            "DESCRIPCIÓN\t 250 ML\n",
            "PRODUCTOR\t\t La aceitera\n",
            "DISTRIBUIDOR\t\t Distribuciones SA\n",
            " \n",
            "\n",
            "REFERENCIA\t 2035\n",
            "NOMBRE\t\t Botella de Aceite de Oliva\n",
            "PVP\t\t 4.5\n",
            "DESCRIPCIÓN\t 250 ML\n",
            "PRODUCTOR\t\t La aceitera\n",
            "DISTRIBUIDOR\t\t Distribuciones SA\n",
            "\n"
          ]
        }
      ]
    },
    {
      "cell_type": "code",
      "source": [
        "print(al)"
      ],
      "metadata": {
        "colab": {
          "base_uri": "https://localhost:8080/"
        },
        "id": "OgA3aqITcF-p",
        "outputId": "1c105e88-82e1-4ab3-ac4a-c3ca403ac721"
      },
      "execution_count": 50,
      "outputs": [
        {
          "output_type": "stream",
          "name": "stdout",
          "text": [
            "REFERENCIA\t 2035\n",
            "NOMBRE\t\t Botella de Aceite de Oliva\n",
            "PVP\t\t 4.5\n",
            "DESCRIPCIÓN\t 250 ML\n",
            "PRODUCTOR\t\t La aceitera\n",
            "DISTRIBUIDOR\t\t Distribuciones SA\n",
            "\n"
          ]
        }
      ]
    },
    {
      "cell_type": "markdown",
      "source": [
        "##Herencia multiple\n"
      ],
      "metadata": {
        "id": "ZcwRsdDeiZEc"
      }
    },
    {
      "cell_type": "code",
      "source": [
        "class A:\n",
        "    def __init__(self):\n",
        "        print(\"Soy de clase A\")\n",
        "    def a(self):\n",
        "        print(\"Este método lo heredo de A\")\n",
        "\n",
        "class B:\n",
        "    def __init__(self):\n",
        "        print(\"Soy de clase B\")\n",
        "    def b(self):\n",
        "        print(\"Este método lo heredo de B\")\n",
        "\n",
        "class C(B,A):\n",
        "    def c(self):\n",
        "        print(\"Este método es de C\")\n",
        "\n",
        "\n",
        "c = C()\n",
        "c.a()\n",
        "c.b()\n",
        "c.c()"
      ],
      "metadata": {
        "colab": {
          "base_uri": "https://localhost:8080/"
        },
        "id": "Nz8XDDAviPGB",
        "outputId": "def3b0c4-eb04-4dc1-bf44-62d6fccb1f03"
      },
      "execution_count": 51,
      "outputs": [
        {
          "output_type": "stream",
          "name": "stdout",
          "text": [
            "Soy de clase B\n",
            "Este método lo heredo de A\n",
            "Este método lo heredo de B\n",
            "Este método es de C\n"
          ]
        }
      ]
    }
  ]
}